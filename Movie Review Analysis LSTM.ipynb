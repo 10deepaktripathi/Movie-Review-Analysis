{
 "cells": [
  {
   "cell_type": "code",
   "execution_count": 66,
   "metadata": {},
   "outputs": [],
   "source": [
    "import nltk\n",
    "import random\n",
    "from nltk.corpus import movie_reviews"
   ]
  },
  {
   "cell_type": "code",
   "execution_count": 67,
   "metadata": {},
   "outputs": [
    {
     "data": {
      "text/plain": [
       "39768"
      ]
     },
     "execution_count": 67,
     "metadata": {},
     "output_type": "execute_result"
    }
   ],
   "source": [
    "len(set(movie_reviews.words()))"
   ]
  },
  {
   "cell_type": "code",
   "execution_count": 68,
   "metadata": {},
   "outputs": [],
   "source": [
    "documents = []\n",
    "sentiment_category = []\n",
    "\n",
    "for category in movie_reviews.categories():\n",
    "    for fileid in movie_reviews.fileids(category):\n",
    "        documents.append(movie_reviews.words(fileid))\n",
    "        sentiment_category.append(category)"
   ]
  },
  {
   "cell_type": "code",
   "execution_count": 69,
   "metadata": {},
   "outputs": [
    {
     "data": {
      "text/plain": [
       "['plot', ':', 'two', 'teen', 'couples', 'go', 'to', ...]"
      ]
     },
     "execution_count": 69,
     "metadata": {},
     "output_type": "execute_result"
    }
   ],
   "source": [
    "documents[0]"
   ]
  },
  {
   "cell_type": "code",
   "execution_count": 83,
   "metadata": {},
   "outputs": [],
   "source": [
    "from nltk.corpus import stopwords\n",
    "english_stopwords=stopwords.words('english')\n",
    "english_stopwords=[word for word in english_stopwords if word != 'not']"
   ]
  },
  {
   "cell_type": "code",
   "execution_count": 84,
   "metadata": {},
   "outputs": [],
   "source": [
    "specal_chars=[\",\",\"@\",\"?\",\".\",\" \",\"/\",\"\\\\\",\"(\",\")\",\"<\",\">\",\"-\",\"_\",'\"','!','*','=']\n",
    "\n",
    "cleaned_documents=[]\n",
    "for doc in documents:\n",
    "    w_list=[]\n",
    "    for word in doc:\n",
    "        if(word not in english_stopwords and word not in specal_chars and len(word)>2):\n",
    "            w_list.append(word.lower())\n",
    "    cleaned_documents.append(w_list)"
   ]
  },
  {
   "cell_type": "code",
   "execution_count": 85,
   "metadata": {},
   "outputs": [
    {
     "name": "stdout",
     "output_type": "stream",
     "text": [
      "['plot', 'two', 'teen', 'couples', 'church', 'party', 'drink', 'drive', 'get', 'accident', 'one', 'guys', 'dies', 'girlfriend', 'continues', 'see', 'life', 'nightmares', 'deal', 'watch', 'movie', 'sorta', 'find', 'critique', 'mind', 'fuck', 'movie', 'teen', 'generation', 'touches', 'cool', 'idea', 'presents', 'bad', 'package', 'makes', 'review', 'even', 'harder', 'one', 'write', 'since', 'generally', 'applaud', 'films', 'attempt', 'break', 'mold', 'mess', 'head', 'lost', 'highway', 'memento', 'good', 'bad', 'ways', 'making', 'types', 'films', 'folks', 'snag', 'one', 'correctly', 'seem', 'taken', 'pretty', 'neat', 'concept', 'executed', 'terribly', 'problems', 'movie', 'well', 'main', 'problem', 'simply', 'jumbled', 'starts', 'normal', 'downshifts', 'fantasy', 'world', 'audience', 'member', 'idea', 'going', 'dreams', 'characters', 'coming', 'back', 'dead', 'others', 'look', 'like', 'dead', 'strange', 'apparitions', 'disappearances', 'looooot', 'chase', 'scenes', 'tons', 'weird', 'things', 'happen', 'simply', 'not', 'explained', 'personally', 'mind', 'trying', 'unravel', 'film', 'every', 'give', 'clue', 'get', 'kind', 'fed', 'film', 'biggest', 'problem', 'obviously', 'got', 'big', 'secret', 'hide', 'seems', 'want', 'hide', 'completely', 'final', 'five', 'minutes', 'make', 'things', 'entertaining', 'thrilling', 'even', 'engaging', 'meantime', 'not', 'really', 'sad', 'part', 'arrow', 'dig', 'flicks', 'like', 'actually', 'figured', 'half', 'way', 'point', 'strangeness', 'start', 'make', 'little', 'bit', 'sense', 'still', 'make', 'film', 'entertaining', 'guess', 'bottom', 'line', 'movies', 'like', 'always', 'make', 'sure', 'audience', 'even', 'given', 'secret', 'password', 'enter', 'world', 'understanding', 'mean', 'showing', 'melissa', 'sagemiller', 'running', 'away', 'visions', 'minutes', 'throughout', 'movie', 'plain', 'lazy', 'okay', 'get', 'people', 'chasing', 'know', 'really', 'need', 'see', 'giving', 'different', 'scenes', 'offering', 'insight', 'strangeness', 'going', 'movie', 'apparently', 'studio', 'took', 'film', 'away', 'director', 'chopped', 'shows', 'might', 'pretty', 'decent', 'teen', 'mind', 'fuck', 'movie', 'somewhere', 'guess', 'suits', 'decided', 'turning', 'music', 'video', 'little', 'edge', 'would', 'make', 'sense', 'actors', 'pretty', 'good', 'part', 'although', 'wes', 'bentley', 'seemed', 'playing', 'exact', 'character', 'american', 'beauty', 'new', 'neighborhood', 'biggest', 'kudos', 'sagemiller', 'holds', 'throughout', 'entire', 'film', 'actually', 'feeling', 'character', 'unraveling', 'overall', 'film', 'stick', 'entertain', 'confusing', 'rarely', 'excites', 'feels', 'pretty', 'redundant', 'runtime', 'despite', 'pretty', 'cool', 'ending', 'explanation', 'craziness', 'came', 'way', 'not', 'horror', 'teen', 'slasher', 'flick', 'packaged', 'look', 'way', 'someone', 'apparently', 'assuming', 'genre', 'still', 'hot', 'kids', 'also', 'wrapped', 'production', 'two', 'years', 'ago', 'sitting', 'shelves', 'ever', 'since', 'whatever', 'skip', 'joblo', 'coming', 'nightmare', 'elm', 'street', 'blair', 'witch', 'crow', 'crow', 'salvation', 'lost', 'highway', 'memento', 'others', 'stir', 'echoes']\n"
     ]
    }
   ],
   "source": [
    "print(cleaned_documents[0])"
   ]
  },
  {
   "cell_type": "code",
   "execution_count": 86,
   "metadata": {},
   "outputs": [],
   "source": [
    "review_text_list=[]\n",
    "for d in cleaned_documents:\n",
    "    review_text_list.append(\" \".join(d))"
   ]
  },
  {
   "cell_type": "code",
   "execution_count": 87,
   "metadata": {},
   "outputs": [
    {
     "data": {
      "text/plain": [
       "'plot two teen couples church party drink drive get accident one guys dies girlfriend continues see life nightmares deal watch movie sorta find critique mind fuck movie teen generation touches cool idea presents bad package makes review even harder one write since generally applaud films attempt break mold mess head lost highway memento good bad ways making types films folks snag one correctly seem taken pretty neat concept executed terribly problems movie well main problem simply jumbled starts normal downshifts fantasy world audience member idea going dreams characters coming back dead others look like dead strange apparitions disappearances looooot chase scenes tons weird things happen simply not explained personally mind trying unravel film every give clue get kind fed film biggest problem obviously got big secret hide seems want hide completely final five minutes make things entertaining thrilling even engaging meantime not really sad part arrow dig flicks like actually figured half way point strangeness start make little bit sense still make film entertaining guess bottom line movies like always make sure audience even given secret password enter world understanding mean showing melissa sagemiller running away visions minutes throughout movie plain lazy okay get people chasing know really need see giving different scenes offering insight strangeness going movie apparently studio took film away director chopped shows might pretty decent teen mind fuck movie somewhere guess suits decided turning music video little edge would make sense actors pretty good part although wes bentley seemed playing exact character american beauty new neighborhood biggest kudos sagemiller holds throughout entire film actually feeling character unraveling overall film stick entertain confusing rarely excites feels pretty redundant runtime despite pretty cool ending explanation craziness came way not horror teen slasher flick packaged look way someone apparently assuming genre still hot kids also wrapped production two years ago sitting shelves ever since whatever skip joblo coming nightmare elm street blair witch crow crow salvation lost highway memento others stir echoes'"
      ]
     },
     "execution_count": 87,
     "metadata": {},
     "output_type": "execute_result"
    }
   ],
   "source": [
    "review_text_list[0]"
   ]
  },
  {
   "cell_type": "code",
   "execution_count": 88,
   "metadata": {},
   "outputs": [
    {
     "name": "stdout",
     "output_type": "stream",
     "text": [
      "['plot two teen couples church party drink drive get accident one guys dies girlfriend continues see life nightmares deal watch movie sorta find critique mind fuck movie teen generation touches cool idea presents bad package makes review even harder one write since generally applaud films attempt break mold mess head lost highway memento good bad ways making types films folks snag one correctly seem taken pretty neat concept executed terribly problems movie well main problem simply jumbled starts normal downshifts fantasy world audience member idea going dreams characters coming back dead others look like dead strange apparitions disappearances looooot chase scenes tons weird things happen simply not explained personally mind trying unravel film every give clue get kind fed film biggest problem obviously got big secret hide seems want hide completely final five minutes make things entertaining thrilling even engaging meantime not really sad part arrow dig flicks like actually figured half way point strangeness start make little bit sense still make film entertaining guess bottom line movies like always make sure audience even given secret password enter world understanding mean showing melissa sagemiller running away visions minutes throughout movie plain lazy okay get people chasing know really need see giving different scenes offering insight strangeness going movie apparently studio took film away director chopped shows might pretty decent teen mind fuck movie somewhere guess suits decided turning music video little edge would make sense actors pretty good part although wes bentley seemed playing exact character american beauty new neighborhood biggest kudos sagemiller holds throughout entire film actually feeling character unraveling overall film stick entertain confusing rarely excites feels pretty redundant runtime despite pretty cool ending explanation craziness came way not horror teen slasher flick packaged look way someone apparently assuming genre still hot kids also wrapped production two years ago sitting shelves ever since whatever skip joblo coming nightmare elm street blair witch crow crow salvation lost highway memento others stir echoes', 'happy bastard quick movie review damn y2k bug got head start movie starring jamie lee curtis another baldwin brother william time story regarding crew tugboat comes across deserted russian tech ship strangeness kick power back little know power within going gore bringing action sequences virus still feels empty like movie going flash substance know crew really middle nowhere know origin took ship big pink flashy thing hit mir course know donald sutherland stumbling around drunkenly throughout hey let chase people around robots acting average even likes curtis likely get kick work halloween h20 sutherland wasted baldwin well acting like baldwin course real star stan winston robot design schnazzy cgi occasional good gore shot like picking someone brain robots body parts really turn movie otherwise pretty much sunken ship movie']\n",
      "['neg', 'neg']\n"
     ]
    }
   ],
   "source": [
    "print(review_text_list[:2])\n",
    "print(sentiment_category[:2])"
   ]
  },
  {
   "cell_type": "code",
   "execution_count": 89,
   "metadata": {},
   "outputs": [],
   "source": [
    "all_words = []\n",
    "for w in movie_reviews.words():\n",
    "    word= w.lower()\n",
    "    if(word not in english_stopwords and word not in specal_chars and len(word)>2):\n",
    "        all_words.append(w.lower())"
   ]
  },
  {
   "cell_type": "code",
   "execution_count": 91,
   "metadata": {},
   "outputs": [],
   "source": [
    "vaocab_length=len(set(all_words))"
   ]
  },
  {
   "cell_type": "code",
   "execution_count": 92,
   "metadata": {},
   "outputs": [],
   "source": [
    "from keras.preprocessing.text import one_hot\n",
    "from keras.preprocessing.sequence import pad_sequences\n",
    "from keras.models import Sequential\n",
    "from keras.layers import Embedding,LSTM,Dense"
   ]
  },
  {
   "cell_type": "code",
   "execution_count": null,
   "metadata": {},
   "outputs": [],
   "source": [
    "one_hot_review=[one_hot(doc,vaocab_length) for doc in review_text_list]"
   ]
  },
  {
   "cell_type": "code",
   "execution_count": 98,
   "metadata": {},
   "outputs": [
    {
     "name": "stdout",
     "output_type": "stream",
     "text": [
      "[[23619, 2087, 4147, 8210, 33744, 14110, 23981, 29476, 10881, 7975, 38937, 14784, 14042, 28158, 7586, 20174, 2931, 13434, 38777, 11138, 4817, 18478, 9181, 20584, 31752, 22323, 4817, 4147, 21767, 35076, 29866, 37125, 37089, 1224, 26136, 8203, 5870, 15459, 12644, 38937, 30152, 24460, 36850, 4053, 28018, 21248, 4901, 9715, 31447, 7249, 19728, 7927, 33260, 35260, 1224, 9015, 35701, 12026, 28018, 20792, 5754, 38937, 33066, 27646, 33387, 31065, 12677, 27673, 21003, 4026, 18847, 4817, 31287, 14778, 11769, 10168, 34474, 9868, 18480, 28455, 23246, 5659, 19804, 27090, 37125, 15809, 13314, 18673, 26603, 17272, 2433, 33702, 25346, 1594, 2433, 30710, 11605, 8611, 17066, 12814, 31470, 13569, 9348, 32669, 17693, 10168, 33226, 4819, 2122, 31752, 36067, 26377, 34041, 15965, 15703, 33579, 10881, 27768, 25383, 34041, 21285, 11769, 1164, 19220, 12578, 4143, 5694, 30091, 4765, 5694, 24812, 20169, 31424, 36763, 62, 32669, 5092, 38099, 15459, 14962, 938, 33226, 2301, 30786, 30476, 21757, 796, 5879, 1594, 14058, 3807, 25712, 14866, 21843, 2807, 22120, 62, 24677, 8325, 23923, 4351, 62, 34041, 5092, 32394, 4709, 17820, 1290, 1594, 23067, 62, 16424, 19804, 15459, 10950, 4143, 15041, 15475, 5659, 23724, 37715, 530, 19878, 14471, 12225, 14681, 32522, 36763, 14246, 4817, 29133, 584, 37824, 10881, 22565, 17802, 14969, 2301, 6945, 20174, 10951, 17028, 31470, 1498, 24724, 2807, 15809, 4817, 21706, 14031, 3711, 34041, 14681, 33912, 3309, 8091, 17762, 31065, 6025, 4147, 31752, 22323, 4817, 3050, 32394, 34855, 31308, 39125, 19198, 18978, 24677, 30533, 14086, 62, 23923, 38578, 31065, 35260, 30476, 717, 16908, 69, 12740, 4630, 9296, 36092, 37388, 32170, 24941, 25672, 21285, 7281, 14471, 37878, 14246, 35521, 34041, 14058, 17747, 36092, 26279, 25593, 34041, 10408, 30051, 11669, 10873, 3719, 14846, 31065, 26574, 37944, 18734, 31065, 29866, 11436, 33627, 3050, 36213, 14866, 33226, 15606, 4147, 16, 23493, 27024, 25346, 14866, 12823, 21706, 24361, 129, 4351, 22249, 20388, 28613, 20160, 20299, 2087, 36541, 26983, 2147, 19263, 20821, 24460, 36, 31170, 35383, 26603, 24435, 29011, 32876, 10893, 18304, 37979, 37979, 22363, 19728, 7927, 33260, 33702, 11266, 13625], [29926, 21297, 20319, 4817, 5870, 31361, 32775, 5501, 19220, 7249, 22120, 4817, 8926, 10856, 16209, 22097, 26334, 25942, 15281, 28751, 25372, 24040, 8811, 31104, 18645, 5769, 8183, 32226, 30819, 21276, 19513, 2807, 21474, 18855, 17272, 24677, 14969, 18855, 33135, 15809, 18635, 2651, 4839, 12246, 17839, 4351, 14846, 9958, 1594, 4817, 15809, 26913, 35991, 14969, 31104, 2301, 23210, 24575, 14969, 21555, 3711, 19513, 12578, 39141, 16919, 10823, 27227, 14452, 26812, 14969, 8381, 1605, 5819, 17706, 12812, 14246, 9350, 23633, 12814, 22565, 17706, 26485, 35416, 29151, 15459, 34734, 22097, 19693, 10881, 21474, 22431, 16743, 28435, 1605, 13188, 25942, 31287, 35416, 1594, 25942, 26812, 7192, 39023, 33989, 30341, 23803, 3059, 7119, 25577, 15592, 35260, 18635, 10025, 1594, 37193, 12823, 34442, 26485, 14336, 25560, 2301, 15494, 4817, 7296, 31065, 3417, 7753, 19513, 4817]]\n"
     ]
    }
   ],
   "source": [
    "print(one_hot_review[:2])"
   ]
  },
  {
   "cell_type": "code",
   "execution_count": null,
   "metadata": {},
   "outputs": [],
   "source": []
  },
  {
   "cell_type": "code",
   "execution_count": 100,
   "metadata": {},
   "outputs": [
    {
     "name": "stdout",
     "output_type": "stream",
     "text": [
      "[[23619  2087  4147 ... 20299  2087 36541]\n",
      " [29926 21297 20319 ...     0     0     0]\n",
      " [ 1290  1594    62 ...     0     0     0]\n",
      " ...\n",
      " [19211  8926 16319 ... 33440 29207  4528]\n",
      " [19731 20636 28907 ... 32791 11632 15459]\n",
      " [28619 20868 33872 ...   451 34041  6645]]\n"
     ]
    }
   ],
   "source": [
    "padding_length=300\n",
    "\n",
    "pad_seq=pad_sequences(one_hot_review,truncating='post',padding='post',maxlen=padding_length)\n",
    "print(pad_seq)"
   ]
  },
  {
   "cell_type": "code",
   "execution_count": 109,
   "metadata": {},
   "outputs": [
    {
     "data": {
      "text/plain": [
       "[0, 0, 0]"
      ]
     },
     "execution_count": 109,
     "metadata": {},
     "output_type": "execute_result"
    }
   ],
   "source": [
    "Y=map(lambda x: 0 if x== 'neg' else 1, sentiment_category)\n",
    "Y=list(Y)\n",
    "Y[:3]"
   ]
  },
  {
   "cell_type": "code",
   "execution_count": 111,
   "metadata": {},
   "outputs": [],
   "source": [
    "from keras.callbacks import TensorBoard,EarlyStopping"
   ]
  },
  {
   "cell_type": "code",
   "execution_count": 143,
   "metadata": {},
   "outputs": [],
   "source": [
    "import numpy as np\n",
    "from sklearn.model_selection import train_test_split\n",
    "X_train, X_test, y_train, y_test = train_test_split(pad_seq, np.array(Y),test_size=0.20)"
   ]
  },
  {
   "cell_type": "code",
   "execution_count": 144,
   "metadata": {},
   "outputs": [
    {
     "name": "stdout",
     "output_type": "stream",
     "text": [
      "(1600, 300)\n",
      "(400, 300)\n"
     ]
    }
   ],
   "source": [
    "print(X_train.shape)\n",
    "print(X_test.shape)"
   ]
  },
  {
   "cell_type": "code",
   "execution_count": null,
   "metadata": {},
   "outputs": [],
   "source": []
  },
  {
   "cell_type": "code",
   "execution_count": 152,
   "metadata": {},
   "outputs": [
    {
     "name": "stdout",
     "output_type": "stream",
     "text": [
      "Model: \"sequential_11\"\n",
      "_________________________________________________________________\n",
      "Layer (type)                 Output Shape              Param #   \n",
      "=================================================================\n",
      "embedding_11 (Embedding)     (None, 300, 5)            196165    \n",
      "_________________________________________________________________\n",
      "lstm_11 (LSTM)               (None, 300, 200)          164800    \n",
      "_________________________________________________________________\n",
      "dense_8 (Dense)              (None, 300, 100)          20100     \n",
      "_________________________________________________________________\n",
      "lstm_12 (LSTM)               (None, 100)               80400     \n",
      "_________________________________________________________________\n",
      "dense_9 (Dense)              (None, 1)                 101       \n",
      "=================================================================\n",
      "Total params: 461,566\n",
      "Trainable params: 461,566\n",
      "Non-trainable params: 0\n",
      "_________________________________________________________________\n",
      "None\n"
     ]
    }
   ],
   "source": [
    "model=Sequential()\n",
    "model.add(Embedding(vaocab_length,embedding_length,input_length=padding_length))  #padding_length=15\n",
    "model.add(LSTM(200,return_sequences=True))\n",
    "model.add(Dense(100, activation='relu'))\n",
    "model.add(LSTM(100))\n",
    "model.add(Dense(1, activation='sigmoid'))\n",
    "model.compile(loss='binary_crossentropy', optimizer='adam', metrics=['accuracy'])\n",
    "print(model.summary())"
   ]
  },
  {
   "cell_type": "code",
   "execution_count": 153,
   "metadata": {},
   "outputs": [
    {
     "name": "stdout",
     "output_type": "stream",
     "text": [
      "Epoch 1/1000000\n",
      "50/50 [==============================] - 23s 457ms/step - loss: 0.6938 - accuracy: 0.5063 - val_loss: 0.6935 - val_accuracy: 0.4700\n",
      "Epoch 2/1000000\n",
      "50/50 [==============================] - 23s 454ms/step - loss: 0.6929 - accuracy: 0.5175 - val_loss: 0.6889 - val_accuracy: 0.5625\n",
      "Epoch 3/1000000\n",
      "50/50 [==============================] - 23s 452ms/step - loss: 0.6594 - accuracy: 0.6363 - val_loss: 0.6852 - val_accuracy: 0.5900\n",
      "Epoch 4/1000000\n",
      "50/50 [==============================] - 23s 464ms/step - loss: 0.4266 - accuracy: 0.7837 - val_loss: 0.8446 - val_accuracy: 0.6025\n",
      "Epoch 5/1000000\n",
      "50/50 [==============================] - 23s 454ms/step - loss: 0.3285 - accuracy: 0.8281 - val_loss: 0.9878 - val_accuracy: 0.5250\n",
      "Epoch 6/1000000\n",
      "50/50 [==============================] - 23s 452ms/step - loss: 0.3030 - accuracy: 0.8281 - val_loss: 1.0203 - val_accuracy: 0.5525\n",
      "Epoch 7/1000000\n",
      "50/50 [==============================] - 23s 454ms/step - loss: 0.2437 - accuracy: 0.8544 - val_loss: 1.1966 - val_accuracy: 0.5600\n",
      "Epoch 8/1000000\n",
      "50/50 [==============================] - 23s 452ms/step - loss: 0.2277 - accuracy: 0.8669 - val_loss: 1.2536 - val_accuracy: 0.5625\n",
      "Epoch 9/1000000\n",
      "50/50 [==============================] - 23s 452ms/step - loss: 0.2241 - accuracy: 0.8650 - val_loss: 1.2068 - val_accuracy: 0.5375\n",
      "Epoch 10/1000000\n",
      "50/50 [==============================] - 23s 454ms/step - loss: 0.2087 - accuracy: 0.8800 - val_loss: 1.2374 - val_accuracy: 0.5550\n",
      "Epoch 11/1000000\n",
      "50/50 [==============================] - 23s 467ms/step - loss: 0.1833 - accuracy: 0.9006 - val_loss: 1.3783 - val_accuracy: 0.5275\n",
      "Epoch 12/1000000\n",
      "50/50 [==============================] - 23s 467ms/step - loss: 0.1928 - accuracy: 0.8956 - val_loss: 1.3956 - val_accuracy: 0.5350\n",
      "Epoch 13/1000000\n",
      "50/50 [==============================] - 24s 470ms/step - loss: 0.1835 - accuracy: 0.8988 - val_loss: 1.4268 - val_accuracy: 0.5500\n"
     ]
    },
    {
     "data": {
      "text/plain": [
       "<tensorflow.python.keras.callbacks.History at 0x1f40973fc40>"
      ]
     },
     "execution_count": 153,
     "metadata": {},
     "output_type": "execute_result"
    }
   ],
   "source": [
    "early_stopping_cb = EarlyStopping(patience=10,restore_best_weights=True)\n",
    "model.fit(X_train,y_train,epochs=1000000,validation_data=(X_test, y_test), verbose=1,callbacks=[early_stopping_cb])"
   ]
  },
  {
   "cell_type": "code",
   "execution_count": null,
   "metadata": {},
   "outputs": [],
   "source": []
  }
 ],
 "metadata": {
  "kernelspec": {
   "display_name": "Python 3",
   "language": "python",
   "name": "python3"
  },
  "language_info": {
   "codemirror_mode": {
    "name": "ipython",
    "version": 3
   },
   "file_extension": ".py",
   "mimetype": "text/x-python",
   "name": "python",
   "nbconvert_exporter": "python",
   "pygments_lexer": "ipython3",
   "version": "3.8.3"
  }
 },
 "nbformat": 4,
 "nbformat_minor": 4
}
