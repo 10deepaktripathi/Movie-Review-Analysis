{
 "cells": [
  {
   "cell_type": "markdown",
   "metadata": {},
   "source": [
    "<b>I have used below technique in this notebook to train the model on sentiments-</b>\n",
    "\n",
    "<li>Removed Stopwords\n",
    "<li>Removed special charectors\n",
    "<li>Apply stemming to convert each word in its base form\n",
    "<li>Used NLTK BOW technique\n",
    "<li>Used Scikit learn Bag of Word bigram model to convert reviews in vector form\n",
    "<li>Used Scikit learn TF-IDF bigram model to convert reviews in vector form\n",
    "<li>Applied Naive Bays classifier\n",
    "<li>Applied Random Forest Classifier\n",
    "<li>Used Accuracy, Precision Recall, F1-Score and Confusion matrix"
   ]
  },
  {
   "cell_type": "code",
   "execution_count": null,
   "metadata": {},
   "outputs": [],
   "source": [
    " "
   ]
  },
  {
   "cell_type": "code",
   "execution_count": 1,
   "metadata": {},
   "outputs": [],
   "source": [
    "import nltk\n",
    "import random\n",
    "from nltk.corpus import movie_reviews\n",
    "from nltk.corpus import stopwords\n",
    "import matplotlib.pyplot as plt\n",
    "from sklearn.metrics import confusion_matrix\n",
    "from sklearn.metrics import precision_score\n",
    "from sklearn.metrics import recall_score\n",
    "from sklearn.metrics import f1_score\n",
    "from sklearn.feature_extraction.text import TfidfVectorizer\n",
    "from sklearn.metrics import accuracy_score\n",
    "from sklearn.ensemble import RandomForestClassifier\n",
    "from nltk.stem import SnowballStemmer\n",
    "from sklearn.feature_extraction.text import CountVectorizer\n",
    "\n",
    "sno=SnowballStemmer('english')\n",
    "english_stopwords=stopwords.words('english')"
   ]
  },
  {
   "cell_type": "code",
   "execution_count": null,
   "metadata": {},
   "outputs": [],
   "source": []
  },
  {
   "cell_type": "markdown",
   "metadata": {},
   "source": [
    "<h3>Remove \"not\" from stopwords list as it might be an important word in negative reviews</h3>"
   ]
  },
  {
   "cell_type": "code",
   "execution_count": 2,
   "metadata": {},
   "outputs": [],
   "source": [
    "english_stopwords=[word for word in english_stopwords if word != 'not']"
   ]
  },
  {
   "cell_type": "code",
   "execution_count": 3,
   "metadata": {},
   "outputs": [],
   "source": [
    "documents = []"
   ]
  },
  {
   "cell_type": "code",
   "execution_count": 33,
   "metadata": {},
   "outputs": [],
   "source": [
    "for category in movie_reviews.categories():\n",
    "    for fileid in movie_reviews.fileids(category):\n",
    "        documents.append((list(movie_reviews.words(fileid)), category))"
   ]
  },
  {
   "cell_type": "code",
   "execution_count": 34,
   "metadata": {},
   "outputs": [
    {
     "name": "stdout",
     "output_type": "stream",
     "text": [
      "(['plot', ':', 'two', 'teen', 'couples', 'go', 'to', 'a', 'church', 'party', ',', 'drink', 'and', 'then', 'drive', '.', 'they', 'get', 'into', 'an', 'accident', '.', 'one', 'of', 'the', 'guys', 'dies', ',', 'but', 'his', 'girlfriend', 'continues', 'to', 'see', 'him', 'in', 'her', 'life', ',', 'and', 'has', 'nightmares', '.', 'what', \"'\", 's', 'the', 'deal', '?', 'watch', 'the', 'movie', 'and', '\"', 'sorta', '\"', 'find', 'out', '.', '.', '.', 'critique', ':', 'a', 'mind', '-', 'fuck', 'movie', 'for', 'the', 'teen', 'generation', 'that', 'touches', 'on', 'a', 'very', 'cool', 'idea', ',', 'but', 'presents', 'it', 'in', 'a', 'very', 'bad', 'package', '.', 'which', 'is', 'what', 'makes', 'this', 'review', 'an', 'even', 'harder', 'one', 'to', 'write', ',', 'since', 'i', 'generally', 'applaud', 'films', 'which', 'attempt', 'to', 'break', 'the', 'mold', ',', 'mess', 'with', 'your', 'head', 'and', 'such', '(', 'lost', 'highway', '&', 'memento', ')', ',', 'but', 'there', 'are', 'good', 'and', 'bad', 'ways', 'of', 'making', 'all', 'types', 'of', 'films', ',', 'and', 'these', 'folks', 'just', 'didn', \"'\", 't', 'snag', 'this', 'one', 'correctly', '.', 'they', 'seem', 'to', 'have', 'taken', 'this', 'pretty', 'neat', 'concept', ',', 'but', 'executed', 'it', 'terribly', '.', 'so', 'what', 'are', 'the', 'problems', 'with', 'the', 'movie', '?', 'well', ',', 'its', 'main', 'problem', 'is', 'that', 'it', \"'\", 's', 'simply', 'too', 'jumbled', '.', 'it', 'starts', 'off', '\"', 'normal', '\"', 'but', 'then', 'downshifts', 'into', 'this', '\"', 'fantasy', '\"', 'world', 'in', 'which', 'you', ',', 'as', 'an', 'audience', 'member', ',', 'have', 'no', 'idea', 'what', \"'\", 's', 'going', 'on', '.', 'there', 'are', 'dreams', ',', 'there', 'are', 'characters', 'coming', 'back', 'from', 'the', 'dead', ',', 'there', 'are', 'others', 'who', 'look', 'like', 'the', 'dead', ',', 'there', 'are', 'strange', 'apparitions', ',', 'there', 'are', 'disappearances', ',', 'there', 'are', 'a', 'looooot', 'of', 'chase', 'scenes', ',', 'there', 'are', 'tons', 'of', 'weird', 'things', 'that', 'happen', ',', 'and', 'most', 'of', 'it', 'is', 'simply', 'not', 'explained', '.', 'now', 'i', 'personally', 'don', \"'\", 't', 'mind', 'trying', 'to', 'unravel', 'a', 'film', 'every', 'now', 'and', 'then', ',', 'but', 'when', 'all', 'it', 'does', 'is', 'give', 'me', 'the', 'same', 'clue', 'over', 'and', 'over', 'again', ',', 'i', 'get', 'kind', 'of', 'fed', 'up', 'after', 'a', 'while', ',', 'which', 'is', 'this', 'film', \"'\", 's', 'biggest', 'problem', '.', 'it', \"'\", 's', 'obviously', 'got', 'this', 'big', 'secret', 'to', 'hide', ',', 'but', 'it', 'seems', 'to', 'want', 'to', 'hide', 'it', 'completely', 'until', 'its', 'final', 'five', 'minutes', '.', 'and', 'do', 'they', 'make', 'things', 'entertaining', ',', 'thrilling', 'or', 'even', 'engaging', ',', 'in', 'the', 'meantime', '?', 'not', 'really', '.', 'the', 'sad', 'part', 'is', 'that', 'the', 'arrow', 'and', 'i', 'both', 'dig', 'on', 'flicks', 'like', 'this', ',', 'so', 'we', 'actually', 'figured', 'most', 'of', 'it', 'out', 'by', 'the', 'half', '-', 'way', 'point', ',', 'so', 'all', 'of', 'the', 'strangeness', 'after', 'that', 'did', 'start', 'to', 'make', 'a', 'little', 'bit', 'of', 'sense', ',', 'but', 'it', 'still', 'didn', \"'\", 't', 'the', 'make', 'the', 'film', 'all', 'that', 'more', 'entertaining', '.', 'i', 'guess', 'the', 'bottom', 'line', 'with', 'movies', 'like', 'this', 'is', 'that', 'you', 'should', 'always', 'make', 'sure', 'that', 'the', 'audience', 'is', '\"', 'into', 'it', '\"', 'even', 'before', 'they', 'are', 'given', 'the', 'secret', 'password', 'to', 'enter', 'your', 'world', 'of', 'understanding', '.', 'i', 'mean', ',', 'showing', 'melissa', 'sagemiller', 'running', 'away', 'from', 'visions', 'for', 'about', '20', 'minutes', 'throughout', 'the', 'movie', 'is', 'just', 'plain', 'lazy', '!', '!', 'okay', ',', 'we', 'get', 'it', '.', '.', '.', 'there', 'are', 'people', 'chasing', 'her', 'and', 'we', 'don', \"'\", 't', 'know', 'who', 'they', 'are', '.', 'do', 'we', 'really', 'need', 'to', 'see', 'it', 'over', 'and', 'over', 'again', '?', 'how', 'about', 'giving', 'us', 'different', 'scenes', 'offering', 'further', 'insight', 'into', 'all', 'of', 'the', 'strangeness', 'going', 'down', 'in', 'the', 'movie', '?', 'apparently', ',', 'the', 'studio', 'took', 'this', 'film', 'away', 'from', 'its', 'director', 'and', 'chopped', 'it', 'up', 'themselves', ',', 'and', 'it', 'shows', '.', 'there', 'might', \"'\", 've', 'been', 'a', 'pretty', 'decent', 'teen', 'mind', '-', 'fuck', 'movie', 'in', 'here', 'somewhere', ',', 'but', 'i', 'guess', '\"', 'the', 'suits', '\"', 'decided', 'that', 'turning', 'it', 'into', 'a', 'music', 'video', 'with', 'little', 'edge', ',', 'would', 'make', 'more', 'sense', '.', 'the', 'actors', 'are', 'pretty', 'good', 'for', 'the', 'most', 'part', ',', 'although', 'wes', 'bentley', 'just', 'seemed', 'to', 'be', 'playing', 'the', 'exact', 'same', 'character', 'that', 'he', 'did', 'in', 'american', 'beauty', ',', 'only', 'in', 'a', 'new', 'neighborhood', '.', 'but', 'my', 'biggest', 'kudos', 'go', 'out', 'to', 'sagemiller', ',', 'who', 'holds', 'her', 'own', 'throughout', 'the', 'entire', 'film', ',', 'and', 'actually', 'has', 'you', 'feeling', 'her', 'character', \"'\", 's', 'unraveling', '.', 'overall', ',', 'the', 'film', 'doesn', \"'\", 't', 'stick', 'because', 'it', 'doesn', \"'\", 't', 'entertain', ',', 'it', \"'\", 's', 'confusing', ',', 'it', 'rarely', 'excites', 'and', 'it', 'feels', 'pretty', 'redundant', 'for', 'most', 'of', 'its', 'runtime', ',', 'despite', 'a', 'pretty', 'cool', 'ending', 'and', 'explanation', 'to', 'all', 'of', 'the', 'craziness', 'that', 'came', 'before', 'it', '.', 'oh', ',', 'and', 'by', 'the', 'way', ',', 'this', 'is', 'not', 'a', 'horror', 'or', 'teen', 'slasher', 'flick', '.', '.', '.', 'it', \"'\", 's', 'just', 'packaged', 'to', 'look', 'that', 'way', 'because', 'someone', 'is', 'apparently', 'assuming', 'that', 'the', 'genre', 'is', 'still', 'hot', 'with', 'the', 'kids', '.', 'it', 'also', 'wrapped', 'production', 'two', 'years', 'ago', 'and', 'has', 'been', 'sitting', 'on', 'the', 'shelves', 'ever', 'since', '.', 'whatever', '.', '.', '.', 'skip', 'it', '!', 'where', \"'\", 's', 'joblo', 'coming', 'from', '?', 'a', 'nightmare', 'of', 'elm', 'street', '3', '(', '7', '/', '10', ')', '-', 'blair', 'witch', '2', '(', '7', '/', '10', ')', '-', 'the', 'crow', '(', '9', '/', '10', ')', '-', 'the', 'crow', ':', 'salvation', '(', '4', '/', '10', ')', '-', 'lost', 'highway', '(', '10', '/', '10', ')', '-', 'memento', '(', '10', '/', '10', ')', '-', 'the', 'others', '(', '9', '/', '10', ')', '-', 'stir', 'of', 'echoes', '(', '8', '/', '10', ')'], 'neg')\n"
     ]
    }
   ],
   "source": [
    "print(documents[0])"
   ]
  },
  {
   "cell_type": "markdown",
   "metadata": {},
   "source": [
    "<h1>Below is the process to clean all reviews</h1>"
   ]
  },
  {
   "cell_type": "markdown",
   "metadata": {},
   "source": [
    "<h1>Remove punctuation and stopwords and apply stemming in all reviewes. Select only those words in reviws which are greater than 2 in length</h1>"
   ]
  },
  {
   "cell_type": "code",
   "execution_count": 35,
   "metadata": {},
   "outputs": [],
   "source": [
    "#########################\n",
    "specal_chars=[\",\",\"@\",\"?\",\".\",\" \",\"/\",\"\\\\\",\"(\",\")\",\"<\",\">\",\"-\",\"_\",'\"','!','*','=']\n",
    "\n",
    "cleaned_documents=[]\n",
    "for doc,cat in documents:\n",
    "    w_list=[]\n",
    "    for word in doc:\n",
    "        if(word not in english_stopwords and word not in specal_chars and len(word)>2):\n",
    "            w_list.append(sno.stem(word))\n",
    "    cleaned_documents.append((w_list,cat))\n",
    "\n",
    "########################"
   ]
  },
  {
   "cell_type": "code",
   "execution_count": 36,
   "metadata": {},
   "outputs": [
    {
     "name": "stdout",
     "output_type": "stream",
     "text": [
      "(['plot', 'two', 'teen', 'coupl', 'church', 'parti', 'drink', 'drive', 'get', 'accid', 'one', 'guy', 'die', 'girlfriend', 'continu', 'see', 'life', 'nightmar', 'deal', 'watch', 'movi', 'sorta', 'find', 'critiqu', 'mind', 'fuck', 'movi', 'teen', 'generat', 'touch', 'cool', 'idea', 'present', 'bad', 'packag', 'make', 'review', 'even', 'harder', 'one', 'write', 'sinc', 'general', 'applaud', 'film', 'attempt', 'break', 'mold', 'mess', 'head', 'lost', 'highway', 'memento', 'good', 'bad', 'way', 'make', 'type', 'film', 'folk', 'snag', 'one', 'correct', 'seem', 'taken', 'pretti', 'neat', 'concept', 'execut', 'terribl', 'problem', 'movi', 'well', 'main', 'problem', 'simpli', 'jumbl', 'start', 'normal', 'downshift', 'fantasi', 'world', 'audienc', 'member', 'idea', 'go', 'dream', 'charact', 'come', 'back', 'dead', 'other', 'look', 'like', 'dead', 'strang', 'apparit', 'disappear', 'looooot', 'chase', 'scene', 'ton', 'weird', 'thing', 'happen', 'simpli', 'not', 'explain', 'person', 'mind', 'tri', 'unravel', 'film', 'everi', 'give', 'clue', 'get', 'kind', 'fed', 'film', 'biggest', 'problem', 'obvious', 'got', 'big', 'secret', 'hide', 'seem', 'want', 'hide', 'complet', 'final', 'five', 'minut', 'make', 'thing', 'entertain', 'thrill', 'even', 'engag', 'meantim', 'not', 'realli', 'sad', 'part', 'arrow', 'dig', 'flick', 'like', 'actual', 'figur', 'half', 'way', 'point', 'strang', 'start', 'make', 'littl', 'bit', 'sens', 'still', 'make', 'film', 'entertain', 'guess', 'bottom', 'line', 'movi', 'like', 'alway', 'make', 'sure', 'audienc', 'even', 'given', 'secret', 'password', 'enter', 'world', 'understand', 'mean', 'show', 'melissa', 'sagemil', 'run', 'away', 'vision', 'minut', 'throughout', 'movi', 'plain', 'lazi', 'okay', 'get', 'peopl', 'chase', 'know', 'realli', 'need', 'see', 'give', 'differ', 'scene', 'offer', 'insight', 'strang', 'go', 'movi', 'appar', 'studio', 'took', 'film', 'away', 'director', 'chop', 'show', 'might', 'pretti', 'decent', 'teen', 'mind', 'fuck', 'movi', 'somewher', 'guess', 'suit', 'decid', 'turn', 'music', 'video', 'littl', 'edg', 'would', 'make', 'sens', 'actor', 'pretti', 'good', 'part', 'although', 'wes', 'bentley', 'seem', 'play', 'exact', 'charact', 'american', 'beauti', 'new', 'neighborhood', 'biggest', 'kudo', 'sagemil', 'hold', 'throughout', 'entir', 'film', 'actual', 'feel', 'charact', 'unravel', 'overal', 'film', 'stick', 'entertain', 'confus', 'rare', 'excit', 'feel', 'pretti', 'redund', 'runtim', 'despit', 'pretti', 'cool', 'end', 'explan', 'crazi', 'came', 'way', 'not', 'horror', 'teen', 'slasher', 'flick', 'packag', 'look', 'way', 'someon', 'appar', 'assum', 'genr', 'still', 'hot', 'kid', 'also', 'wrap', 'product', 'two', 'year', 'ago', 'sit', 'shelv', 'ever', 'sinc', 'whatev', 'skip', 'joblo', 'come', 'nightmar', 'elm', 'street', 'blair', 'witch', 'crow', 'crow', 'salvat', 'lost', 'highway', 'memento', 'other', 'stir', 'echo'], 'neg')\n"
     ]
    }
   ],
   "source": [
    "print(cleaned_documents[0])"
   ]
  },
  {
   "cell_type": "markdown",
   "metadata": {},
   "source": [
    "<h1>shuffle reviews to distribute them randomly</h1>"
   ]
  },
  {
   "cell_type": "code",
   "execution_count": 37,
   "metadata": {},
   "outputs": [],
   "source": [
    "random.shuffle(cleaned_documents)"
   ]
  },
  {
   "cell_type": "markdown",
   "metadata": {},
   "source": [
    "<h1>below i am selecing all clean words of this corpus</h1>"
   ]
  },
  {
   "cell_type": "markdown",
   "metadata": {},
   "source": [
    "<h2>Remove stopwords, special charectors and apply stemming, only selct words which are greater than 2 in length and create a word_feature 5000 most frequent word</h2>"
   ]
  },
  {
   "cell_type": "code",
   "execution_count": 38,
   "metadata": {},
   "outputs": [],
   "source": [
    "all_words = []\n",
    "for w in movie_reviews.words():\n",
    "    word= w.lower()\n",
    "    if(word not in english_stopwords and word not in specal_chars and len(word)>2):\n",
    "        all_words.append(sno.stem(w.lower()))"
   ]
  },
  {
   "cell_type": "code",
   "execution_count": 39,
   "metadata": {},
   "outputs": [],
   "source": [
    "#all_words = nltk.FreqDist(all_words)"
   ]
  },
  {
   "cell_type": "markdown",
   "metadata": {},
   "source": [
    "<h1>select top 10000 words</h1>\n",
    "here i have selected 10000 words but in model i have just used 7000 out of it."
   ]
  },
  {
   "cell_type": "code",
   "execution_count": 40,
   "metadata": {},
   "outputs": [],
   "source": [
    "def find_most_common(words_list,top):\n",
    "    words_freq_dist=nltk.FreqDist(words_list)\n",
    "    common=words_freq_dist.most_common(top)\n",
    "    word=[res[0] for res in common]\n",
    "    freq=[res[1] for res in common]\n",
    "    return word,freq\n",
    "\n",
    "all_common_words,freq=find_most_common(all_words,10000)"
   ]
  },
  {
   "cell_type": "code",
   "execution_count": 41,
   "metadata": {},
   "outputs": [
    {
     "data": {
      "image/png": "[encoded data removed]",
      "text/plain": [
       "<Figure size 1296x432 with 1 Axes>"
      ]
     },
     "metadata": {
      "needs_background": "light"
     },
     "output_type": "display_data"
    }
   ],
   "source": [
    "def plot_most_common(word_list,freq_list):\n",
    "    fig= plt.figure(figsize=(18,6))\n",
    "    plt.bar(word_list,freq_list)\n",
    "    plt.xticks(fontsize=14)\n",
    "    plt.yticks(fontsize=14)\n",
    "    \n",
    "    for xy in zip(word_list,freq_list):\n",
    "        plt.annotate(xy[1],xy=xy,fontsize=15)\n",
    "\n",
    "    plt.show()\n",
    "\n",
    "plot_most_common(all_words[:20],freq[:20])"
   ]
  },
  {
   "cell_type": "code",
   "execution_count": 42,
   "metadata": {},
   "outputs": [],
   "source": [
    "##word_features = all_words[:5000]\n",
    "word_features = all_common_words[:7000]"
   ]
  },
  {
   "cell_type": "code",
   "execution_count": null,
   "metadata": {},
   "outputs": [],
   "source": []
  },
  {
   "cell_type": "markdown",
   "metadata": {},
   "source": [
    "<h1>below fuction will ceate a dictionary w.r.t each review.</h1>\n",
    "We will check which all words of Word_Feature exist in review as well and assign True to it if it exist in the review otherwise it will be assigned False. Same process we will repeat for all reviews in our dataset. So eventually the size of Feature set obtained by this process will be N x M (N is no of review and M is length of Word_Feature)."
   ]
  },
  {
   "cell_type": "code",
   "execution_count": 43,
   "metadata": {},
   "outputs": [],
   "source": [
    "def find_features(document):\n",
    "    words = set(document)\n",
    "    features = {}\n",
    "    for w in word_features:\n",
    "        features[w] = (w in words)\n",
    "    return features"
   ]
  },
  {
   "cell_type": "code",
   "execution_count": null,
   "metadata": {},
   "outputs": [],
   "source": []
  },
  {
   "cell_type": "code",
   "execution_count": 44,
   "metadata": {},
   "outputs": [],
   "source": [
    "featuresets = [(find_features(rev), category) for (rev, category) in cleaned_documents]"
   ]
  },
  {
   "cell_type": "code",
   "execution_count": 45,
   "metadata": {},
   "outputs": [
    {
     "name": "stdout",
     "output_type": "stream",
     "text": [
      "{'film': True, 'movi': True, 'one': True, 'not': True, 'like': True, 'charact': True, 'make': True, 'get': True, 'time': True, 'scene': True, 'even': True, 'good': False, 'play': False, 'stori': True, 'see': True, 'would': False, 'much': True, 'well': True, 'also': True, 'seem': True, 'two': True, 'look': False, 'way': False, 'end': True, 'first': False, 'take': False, 'come': True, 'year': False, 'work': False, 'thing': False, 'plot': False, 'life': False, 'know': True, 'realli': True, 'perform': True, 'littl': True, 'bad': False, 'peopl': True, 'love': False, 'could': True, 'man': False, 'star': True, 'never': True, 'show': True, 'tri': True, 'director': True, 'best': True, 'new': False, 'give': False, 'mani': True, 'action': False, 'actor': True, 'want': False, 'say': False, 'great': False, 'watch': False, 'find': False, 'use': True, 'think': False, 'becom': False, 'role': True, 'act': True, 'anoth': True, 'back': False, 'effect': True, 'made': True, 'audienc': True, 'world': False, 'big': False, 'someth': False, 'turn': False, 'still': False, 'interest': False, 'day': False, 'set': False, 'feel': True, 'live': False, 'actual': False, 'howev': True, 'part': False, 'everi': True, 'direct': False, 'though': True, 'guy': False, 'better': False, 'cast': True, 'comedi': False, 'real': False, 'enough': True, 'seen': True, 'around': False, 'point': True, 'go': False, 'last': False, 'old': False, 'name': False, 'run': False, 'origin': False, 'long': True, 'friend': False, 'fact': True, 'may': False, 'right': False, 'begin': True, 'funni': True, 'script': True, 'minut': False, 'final': False, 'almost': False, 'lot': True, 'noth': False, 'john': True, 'screen': True, 'place': False, 'although': False, 'moment': False, 'ever': False, 'start': False, 'high': False, 'sinc': True, 'line': False, 'person': False, 'young': False, 'call': False, 'tell': False, 'kill': False, 'help': False, 'happen': False, 'hard': False, 'famili': True, 'open': False, 'without': True, 'wonder': False, 'three': True, 'quit': False, 'problem': True, 'believ': False, 'pictur': False, 'girl': False, 'surpris': True, 'least': False, 'complet': False, 'human': False, 'appear': False, 'need': False, 'sequenc': False, 'away': False, 'music': True, 'cours': False, 'goe': False, 'involv': False, 'laugh': False, 'might': False, 'hand': False, 'alien': False, 'far': True, 'reason': False, 'kind': True, 'rather': False, 'follow': False, 'must': False, 'anyth': False, 'put': True, 'entertain': False, 'bit': False, 'includ': False, 'american': False, 'enjoy': False, 'job': False, 'yet': True, 'keep': False, 'lead': False, 'sens': True, 'hour': True, 'head': False, 'special': False, 'wife': True, 'alway': False, 'fun': False, 'sure': False, 'differ': True, 'featur': True, 'leav': False, 'attempt': False, 'home': False, 'woman': False, 'hollywood': True, 'instead': False, 'fall': False, 'perfect': True, 'expect': False, 'certain': False, 'move': False, 'mind': False, 'power': True, 'war': False, 'entir': False, 'black': False, 'seri': False, 'night': True, 'creat': False, 'probabl': True, 'face': False, 'let': False, 'mean': False, 'kid': False, 'shot': False, 'half': False, 'meet': False, 'along': False, 'men': False, 'idea': False, 'everyth': False, 'pretti': False, 'forc': True, 'obvious': True, 'dialogu': False, 'togeth': False, 'near': False, 'bring': False, 'emot': True, 'money': False, 'eye': False, 'humor': False, 'anim': False, 'talk': False, 'thought': True, 'hope': False, 'care': False, 'question': False, 'given': False, 'father': False, 'save': False, 'whole': True, 'suppos': False, 'horror': False, 'fight': False, 'death': False, 'success': True, 'beauti': False, 'second': False, 'boy': False, 'everyon': False, 'citi': False, 'sex': False, 'manag': False, 'main': True, 'dead': False, 'talent': True, 'less': False, 'done': False, 'releas': False, 'coupl': False, 'got': False, 'die': False, 'sever': True, 'brother': False, 'perhap': False, 'decid': False, 'case': False, 'review': False, 'next': False, 'especi': False, 'murder': False, 'mother': False, 'relationship': False, 'word': False, 'product': False, 'comic': False, 'base': False, 'unfortun': False, 'nice': False, 'possibl': False, 'chang': False, 'rest': False, 'writer': True, 'whose': False, 'evil': False, 'joke': False, 'rate': False, 'ask': False, 'simpli': False, 'sound': False, 'small': False, 'jame': False, 'present': False, 'book': False, 'anyon': False, 'school': False, 'top': False, 'michael': False, 'william': False, 'lack': False, 'town': False, 'wrong': False, 'left': False, 'develop': True, 'produc': False, 'true': False, 'lost': False, 'matter': True, 'written': False, 'group': False, 'hit': False, 'bore': True, 'particular': False, 'serious': True, 'found': False, 'hous': False, 'usual': True, 'fan': False, 'soon': False, 'someon': False, 'close': True, 'game': True, 'impress': True, 'except': False, 'learn': False, 'side': False, 'quick': False, 'car': False, 'voic': False, 'els': False, 'david': False, 'support': True, 'element': False, 'either': False, 'heart': False, 'stop': False, 'later': False, 'viewer': False, 'natur': False, 'style': False, 'provid': False, 'full': False, 'dark': False, 'return': False, 'camera': False, 'credit': False, 'robert': False, 'deal': False, 'often': False, 'exact': True, 'filmmak': False, 'realiz': False, 'son': False, 'hero': False, 'behind': False, 'fail': False, 'write': False, 'titl': True, 'result': False, 'consid': False, 'said': False, 'team': False, 'scream': False, 'despit': False, 'short': False, 'offic': False, 'visual': False, 'view': False, 'classic': True, 'order': False, 'video': False, 'killer': False, 'basic': False, 'note': True, 'past': True, 'stand': False, 'critic': False, 'miss': False, 'recent': False, 'piec': False, 'mayb': False, 'experi': False, 'summer': False, 'major': False, 'mysteri': False, 'abl': True, 'children': False, 'exampl': True, 'situat': False, 'extrem': False, 'daughter': True, 'offer': False, 'clear': False, 'theater': False, 'event': False, 'intellig': False, 'thriller': False, 'sort': False, 'white': False, 'earth': False, 'import': False, 'dog': False, 'joe': False, 'break': False, 'drama': False, 'kevin': False, 'bodi': False, 'light': False, 'worth': True, 'cut': True, 'level': False, 'version': False, 'poor': False, 'appar': False, 'plan': False, 'figur': False, 'art': False, 'dream': False, 'room': False, 'self': False, 'read': False, 'worst': False, 'upon': False, 'ship': False, 'deliv': True, 'convinc': True, 'general': False, 'cop': True, 'screenplay': False, 'discov': False, 'age': True, 'earli': False, 'violenc': False, 'throughout': False, 'strong': False, 'stupid': False, 'carri': False, 'comput': False, 'jack': False, 'fine': False, 'number': False, 'clich': False, 'state': False, 'known': False, 'genr': False, 'fiction': False, 'disney': False, 'other': True, 'wast': False, 'alreadi': False, 'fill': False, 'sometim': False, 'imagin': False, 'add': False, 'spend': True, 'wild': False, 'five': False, 'guess': False, 'battl': False, 'space': False, 'wait': False, 'deep': False, 'prove': True, 'suspens': False, 'simpl': True, 'jacki': False, 'four': False, 'form': False, 'touch': False, 'toward': True, 'king': False, 'twist': False, 'predict': True, 'walk': False, 'pull': False, 'chase': False, 'allow': True, 'career': False, 'explain': False, 'flick': False, 'novel': False, 'women': False, 'prison': False, 'understand': False, 'oscar': False, 'member': True, 'hold': False, 'child': False, 'truli': False, 'portray': True, 'detail': True, 'husband': False, 'tom': True, 'type': True, 'god': False, 'pace': False, 'drug': False, 'sit': False, 'charm': False, 'secret': False, 'lee': False, 'peter': False, 'york': False, 'villain': False, 'sequel': False, 'rememb': False, 'continu': False, 'win': False, 'romant': False, 'parent': False, 'stay': False, 'respect': False, 'planet': False, 'fair': False, 'disappoint': False, 'late': False, 'remain': False, 'generat': False, 'eventu': False, 'build': False, 'marri': False, 'tale': False, 'song': True, 'yes': False, 'sexual': False, 'saw': False, 'score': False, 'happi': False, 'previous': False, 'attent': False, 'materi': False, 'escap': False, 'project': False, 'amaz': False, 'gun': False, 'excit': False, 'chanc': False, 'unlik': False, 'speak': False, 'most': False, 'definit': True, 'harri': False, 'futur': True, 'singl': False, 'polit': False, 'wors': False, 'similar': True, 'troubl': False, 'confus': True, 'mention': False, 'paul': True, 'focus': False, 'qualiti': False, 'polic': False, 'none': False, 'shoot': False, 'wit': False, 'thank': False, 'lose': False, 'relat': False, 'crime': False, 'van': False, 'hell': False, 'larg': False, 'pay': False, 'scienc': False, 'annoy': False, 'total': False, 'imag': False, 'mark': False, 'apart': True, 'smith': False, 'strang': False, 'girlfriend': False, 'ultim': True, 'hilari': True, 'exist': False, 'dramat': False, 'televis': False, 'local': False, 'busi': False, 'rock': False, 'subject': False, 'pain': True, 'drive': False, 'popular': False, 'georg': False, 'actress': False, 'box': False, 'sad': False, 'screenwrit': False, 'theme': False, 'absolut': False, 'alon': False, 'pass': False, 'cover': False, 'bill': False, 'within': False, 'million': False, 'reveal': True, 'water': False, 'hate': False, 'among': False, 'deserv': False, 'taken': False, 'caus': False, 'brilliant': False, 'premis': False, 'middl': False, 'serv': False, 'easi': False, 'slow': False, 'aspect': False, 'across': False, 'flaw': False, 'constant': False, 'pick': False, 'incred': False, 'chris': False, 'cool': False, 'mission': False, 'frank': False, 'histori': False, 'whether': True, 'realiti': False, 'crew': False, 'agent': False, 'law': False, 'color': False, 'fear': False, 'motion': False, 'effort': False, 'contain': False, 'master': True, 'studio': False, 'grow': True, 'teenag': False, 'hear': False, 'america': False, 'attack': False, 'told': False, 'odd': False, 'street': False, 'design': False, 'potenti': False, 'narrat': False, 'robin': False, 'vampir': False, 'doubt': False, 'stuff': False, 'messag': False, 'wish': False, 'easili': False, 'ryan': False, 'inspir': False, 'parti': False, 'excel': False, 'mere': False, 'somehow': False, 'control': True, 'clever': True, 'rich': False, 'lie': False, 'blood': False, 'fire': False, 'batman': False, 'jone': False, 'angel': False, 'introduc': True, 'smart': False, 'richard': False, 'red': False, 'terribl': False, 'straight': False, 'suffer': True, 'approach': False, 'difficult': False, 'went': True, 'appeal': False, 'ben': False, 'ago': False, 'promis': False, 'romanc': False, 'countri': False, 'rare': False, 'shock': False, 'fast': False, 'due': False, 'presenc': False, 'train': False, 'ridicul': False, 'familiar': False, 'compani': False, 'attract': False, 'adult': False, 'answer': False, 'investig': False, 'throw': False, 'fli': False, 'teen': False, 'gone': False, 'low': False, 'admit': False, 'third': False, 'accept': False, 'former': False, 'anyway': False, 'budget': False, 'sudden': False, 'class': True, 'date': True, 'edit': True, 'rise': False, 'immedi': False, 'destroy': False, 'notic': True, 'cross': False, 'share': False, 'rule': False, 'somewhat': False, 'amus': False, 'sweet': False, 'arriv': False, 'desper': False, 'choic': False, 'abil': False, 'slight': False, 'huge': False, 'jim': False, 'cinema': False, 'sister': False, 'week': False, 'mari': False, 'came': False, 'student': False, 'victim': False, 'wed': False, 'travel': False, 'latest': False, 'bob': False, 'danc': False, 'giant': False, 'occasion': False, 'adventur': False, 'park': False, 'beyond': False, 'refer': False, 'artist': False, 'trailer': False, 'purpos': False, 'sam': False, 'tone': False, 'solid': False, 'truth': False, 'martin': False, 'catch': False, 'blue': False, 'scari': False, 'felt': True, 'murphi': False, 'steal': False, 'equal': False, 'bunch': False, 'subplot': True, 'stone': False, 'imposs': False, 'stage': False, 'land': False, 'suspect': False, 'captur': False, 'strike': False, 'track': False, 'mess': False, 'bond': False, 'insid': False, 'favorit': False, 'ride': False, 'execut': False, 'engag': False, 'reach': False, 'handl': False, 'describ': True, 'free': False, 'modern': False, 'adapt': False, 'treat': False, 'aw': False, 'complex': False, 'wear': False, 'typic': True, 'hunt': False, 'search': True, 'decent': False, 'innoc': False, 'amount': False, 'posit': False, 'join': False, 'non': False, 'dumb': False, 'issu': False, 'cold': False, 'achiev': False, 'privat': False, 'grace': False, 'air': False, 'silli': False, 'cameron': False, 'took': False, 'sign': False, 'requir': False, 'scott': False, 'genuin': False, 'suggest': True, 'pop': False, 'drop': False, 'ten': False, 'depth': False, 'heard': False, 'intens': False, 'truman': False, 'surviv': False, 'door': False, 'monster': False, 'toy': False, 'bruce': False, 'list': False, 'overal': False, 'race': True, 'sight': False, 'mix': False, 'carter': False, 'danger': False, 'express': False, 'step': True, 'outsid': False, 'trek': False, 'chan': False, 'detect': False, 'forget': False, 'mar': False, 'remind': False, 'neither': False, 'gag': False, 'govern': False, 'fashion': False, 'struggl': False, 'thrill': False, 'spirit': False, 'compar': True, 'utter': False, 'send': False, 'machin': False, 'moral': False, 'club': False, 'ad': False, 'inform': False, 'brought': False, 'recommend': True, 'key': False, 'otherwis': False, 'societi': False, 'tim': False, 'term': False, 'allen': False, 'wood': False, 'skill': False, 'player': False, 'opportun': False, 'atmospher': False, 'memor': True, 'haunt': False, 'explor': False, 'various': False, 'armi': False, 'mouth': False, 'west': False, 'willi': False, 'succeed': False, 'soundtrack': False, 'beat': False, 'jump': False, 'month': False, 'bare': False, 'femal': False, 'english': False, 'rais': False, 'suit': False, 'magic': False, 'minor': False, 'pleas': False, 'steve': False, 'univers': True, 'roll': False, 'occur': False, 'hank': False, 'lover': False, 'episod': False, 'cultur': False, 'kiss': False, 'tension': False, 'biggest': False, 'obsess': False, 'manner': False, 'sing': True, 'combin': False, 'respons': False, 'eddi': False, 'avoid': False, 'earlier': True, 'steven': False, 'disast': False, 'creatur': False, 'today': False, 'babi': False, 'normal': False, 'six': True, 'cannot': False, 'horribl': False, 'fit': False, 'heavi': False, 'max': False, 'violent': False, 'hill': False, 'award': True, 'ground': False, 'intent': False, 'scare': False, 'formula': False, 'presid': False, 'rescu': False, 'ape': False, 'background': False, 'woodi': False, 'cute': False, 'front': False, 'doctor': False, 'plenti': False, 'cinemat': False, 'leader': False, 'command': False, 'arm': False, 'soldier': False, 'costum': False, 'simon': False, 'concern': False, 'sci': False, 'author': False, 'realist': False, 'report': False, 'delight': False, 'concept': False, 'menac': False, 'disturb': False, 'british': False, 'impact': False, 'enter': False, 'dull': False, 'standard': False, 'fantasi': False, 'brief': True, 'common': False, 'period': True, 'flat': False, 'queen': False, 'iron': False, 'connect': True, 'public': False, 'gave': False, 'rush': False, 'adam': False, 'trip': False, 'cinematographi': False, 'island': False, 'nick': False, 'remark': False, 'consist': False, 'brown': False, 'spent': False, 'frighten': False, 'bug': False, 'grant': False, 'doubl': False, 'road': False, 'agre': False, 'partner': False, 'subtl': False, 'dollar': False, 'seven': False, 'appropri': False, 'cameo': False, 'titan': False, 'virtual': False, 'count': False, 'pair': False, 'weak': False, 'eat': False, 'cheap': False, 'godzilla': False, 'dress': False, 'whatev': False, 'store': False, 'wise': False, 'fascin': True, 'satir': False, 'greatest': False, 'colleg': False, 'addit': False, 'inde': False, 'tradit': False, 'tough': False, 'decad': False, 'intrigu': False, 'wrote': False, 'buy': False, 'mike': False, 'kick': False, 'brain': False, 'thin': False, 'physic': False, 'frame': False, 'buddi': False, 'appreci': False, 'stereotyp': False, 'climax': False, 'meanwhil': False, 'crimin': False, 'receiv': False, 'limit': False, 'warn': False, 'mad': False, 'centuri': False, 'shown': False, 'memori': False, 'lawyer': False, 'crash': False, 'longer': False, 'hot': False, 'hair': False, 'conclus': False, 'protagonist': False, 'sean': False, 'scientist': False, 'camp': False, 'initi': False, 'chemistri': False, 'band': False, 'draw': False, 'male': False, 'encount': False, 'terrif': False, 'languag': False, 'uniqu': False, 'asid': False, 'carrey': False, 'french': False, 'hang': False, 'billi': False, 'green': False, 'twenti': False, 'jerri': False, 'juli': False, 'famous': False, 'individu': False, 'somewher': False, 'witch': False, 'ghost': False, 'hire': False, 'determin': False, 'slowli': False, 'display': False, 'spielberg': False, 'system': False, 'affect': False, 'center': False, 'jackson': False, 'liter': False, 'valu': False, 'loud': False, 'devic': False, 'energi': False, 'visit': False, 'spot': False, 'technic': False, 'okay': False, 'test': False, 'rob': False, 'sent': False, 'boss': False, 'etc': False, 'target': False, 'challeng': False, 'caught': False, 'oper': False, 'weird': False, 'damn': False, 'soul': False, 'knew': False, 'distract': False, 'hole': False, 'kidnap': False, 'claim': False, 'wall': False, 'decis': False, 'social': True, 'intend': False, 'edg': False, 'cage': False, 'accent': False, 'commit': False, 'sell': False, 'possess': False, 'motiv': False, 'legend': False, 'aliv': False, 'studi': False, 'tarzan': False, 'singer': False, 'collect': False, 'flashback': False, 'threaten': False, 'ass': False, 'admir': False, 'readi': False, 'central': False, 'tarantino': False, 'edward': False, 'judg': False, 'storylin': False, 'thus': False, '1998': False, 'current': False, 'embarrass': False, 'vega': False, 'honest': False, 'averag': False, 'blow': False, 'onto': False, 'length': True, 'pure': False, 'desir': False, 'match': False, 'led': False, 'teacher': False, 'stick': False, 'mental': False, 'affair': False, 'bizarr': False, 'travolta': False, 'satisfi': True, 'conflict': False, 'fate': False, 'contact': False, 'assist': False, 'guard': False, 'julia': False, 'opinion': False, 'accid': False, 'industri': False, 'confront': False, 'depress': True, 'root': False, 'roger': False, 'phone': False, 'hong': False, 'jean': False, 'nomin': True, 'accomplish': False, 'drag': True, 'smile': False, 'lame': False, 'unit': False, 'matthew': False, '000': False, 'surround': False, 'proceed': False, 'independ': False, 'owner': False, 'thrown': True, 'christoph': False, 'burn': False, 'food': False, 'ladi': False, 'celebr': False, 'weapon': False, 'bright': False, 'speech': False, 'fresh': False, 'parodi': False, 'record': False, 'danni': False, 'nation': False, 'faith': False, '1997': False, 'blade': False, 'rent': False, 'debut': False, 'stun': False, 'worker': False, 'gay': False, 'fox': False, 'fortun': False, 'practic': False, 'field': False, 'gore': False, 'replac': False, 'terror': False, 'convent': False, 'gang': False, 'rip': False, 'establish': False, 'fellow': False, 'locat': False, '1999': False, 'news': False, 'evid': False, 'forward': False, 'hors': False, 'ann': False, 'paint': False, 'henri': False, 'wide': False, 'becam': False, 'invent': False, 'inevit': False, 'plane': False, 'superior': False, 'dude': False, 'jason': False, 'refus': False, 'explos': False, 'latter': False, 'shine': False, 'anderson': True, 'market': False, 'pleasur': False, 'jennif': False, 'board': False, 'model': False, 'task': False, 'attitud': True, 'pathet': False, 'charg': False, 'epic': False, 'speed': False, 'elizabeth': False, 'russel': False, 'pulp': False, 'character': False, 'progress': False, 'check': False, 'frequent': False, 'seat': False, 'stephen': False, 'liner': False, 'process': False, 'footag': False, 'trust': False, 'chines': False, 'journey': False, 'graphic': False, 'remak': False, 'devil': False, 'season': False, 'younger': False, 'born': False, 'luca': False, 'folk': False, 'crazi': False, 'bar': False, 'boyfriend': False, 'station': False, 'jimmi': False, 'depict': False, 'dougla': False, 'ident': False, 'older': False, 'cartoon': False, 'mood': False, 'mistak': True, 'hint': False, 'stunt': False, 'cri': False, 'convers': False, 'numer': True, 'intern': False, 'patient': False, 'creativ': False, 'hundr': False, 'fulli': False, 'trap': False, 'instanc': False, 'jay': False, 'wind': False, 'jeff': False, 'will': False, 'finish': False, 'opposit': False, 'speci': False, 'comparison': False, 'discuss': False, 'profession': False, 'reveng': False, 'brutal': False, 'fault': False, 'alan': False, 'kong': False, 'fare': False, 'charl': False, 'masterpiec': False, 'interact': False, 'ignor': False, 'insult': False, 'captain': False, 'patrick': False, 'assum': False, 'twice': False, 'ice': False, 'blame': False, 'spawn': False, 'witti': False, 'vision': False, 'crow': False, 'stretch': False, 'recogn': False, 'extra': False, 'silent': False, 'manipul': False, 'sleep': False, 'ruin': False, 'matt': False, 'fake': False, 'gibson': False, 'militari': False, 'hide': False, 'blair': False, 'nowher': False, 'cloth': False, 'essenti': False, 'contriv': False, 'woo': False, 'creepi': False, 'technolog': False, 'arnold': False, 'signific': False, 'commerci': False, 'crowd': False, 'sole': False, 'trick': False, 'loos': False, 'kelli': False, 'boat': False, 'press': False, 'toni': False, 'cash': False, 'object': False, 'suck': False, 'hall': True, 'shame': False, 'goal': False, 'mrs': False, 'demonstr': False, 'price': False, 'clean': False, 'shakespear': False, 'mulan': False, 'bottom': False, 'tie': False, 'tire': False, 'listen': False, 'pointless': False, 'notabl': False, 'knock': False, 'kept': False, 'separ': True, 'fbi': False, 'fish': False, 'suicid': False, 'burton': False, 'organ': False, 'marriag': False, 'hospit': False, 'pack': False, 'crap': False, 'observ': False, 'laughabl': False, 'denni': False, 'academi': False, 'floor': False, 'bear': False, 'dimension': False, 'logic': False, 'trooper': False, 'thoma': True, 'gross': False, 'prepar': False, 'comment': False, 'brook': False, 'snake': False, 'quiet': False, 'christma': False, 'convict': False, 'post': False, 'driver': False, 'campbel': False, 'mile': False, 'worthi': False, 'shallow': False, 'fantast': False, 'disappear': False, 'spectacular': False, 'demand': False, 'sick': False, 'forev': False, 'ill': False, 'superb': False, 'lone': True, 'fame': True, 'repeat': False, 'ray': False, 'unexpect': False, 'resembl': False, 'insight': False, 'bland': False, 'gain': False, 'documentari': False, 'rang': False, 'necessari': False, 'tast': False, 'reli': False, 'passion': False, 'affleck': False, 'charli': False, 'bank': False, 'rocki': False, 'vehicl': False, 'meant': False, 'excus': False, 'aid': False, 'tune': False, 'comed': False, 'sub': False, 'regular': False, 'relief': False, 'spice': False, 'princess': False, 'dozen': True, 'abandon': False, 'rose': False, 'phantom': False, 'drink': False, 'content': False, 'nobodi': False, 'specif': False, 'daniel': False, 'advanc': False, 'exploit': False, 'unless': False, 'compel': False, 'angl': False, 'gangster': False, 'repres': False, 'tear': False, 'kate': False, 'craft': False, 'slave': False, 'interview': False, 'baldwin': False, 'flash': False, 'angri': False, 'heroin': False, 'drawn': False, 'safe': False, 'matrix': False, 'hotel': False, 'idiot': False, 'push': False, 'window': False, 'strength': False, 'genius': False, 'destin': False, 'stuck': False, 'earn': False, 'file': False, 'heaven': False, 'plain': False, 'mine': False, 'unfunni': False, 'martial': False, 'choos': False, 'anti': False, 'bat': False, 'defin': False, 'secur': False, 'rain': False, 'patch': False, 'goofi': False, 'segment': False, 'cruis': True, 'slasher': False, 'dad': False, 'failur': False, 'grand': False, 'fat': False, 'sport': False, 'blond': False, 'protect': False, 'ball': False, 'warrior': False, 'radio': False, 'punch': False, 'improv': False, 'termin': False, 'moor': False, 'winner': False, 'contrast': False, 'jar': False, 'babe': False, 'nightmar': False, 'russian': False, 'robot': False, 'mediocr': False, 'nasti': False, 'damm': False, 'therefor': False, 'hurt': False, 'bomb': False, 'rival': False, 'larri': False, 'urban': False, 'nake': False, 'terrorist': False, 'lynch': False, 'era': False, 'increas': False, 'scale': False, 'sentiment': False, 'complic': False, 'zero': False, 'crack': False, 'up': False, 'wave': False, 'maintain': False, 'smoke': False, 'symbol': False, 'transform': False, 'employ': False, 'offens': False, 'johnni': False, 'maker': False, 'program': False, 'washington': False, 'wayn': False, 'court': False, 'tommi': False, 'desert': False, 'jane': False, 'reaction': False, 'seek': True, 'routin': False, 'sympathet': True, 'dvd': False, 'over': False, 'professor': False, 'ford': False, 'starship': False, 'welcom': False, 'gold': False, 'attend': False, 'chosen': False, 'enemi': False, 'mel': False, 'path': False, 'sexi': False, 'humour': False, 'shop': False, 'seth': False, 'explan': True, 'stumbl': False, 'bother': False, 'feet': False, 'structur': False, 'ami': False, 'lord': False, 'media': False, 'worri': False, 'round': False, 'surfac': False, 'risk': False, 'plus': False, 'tend': False, 'shift': False, 'capabl': False, 'cult': False, 'theatr': False, 'jedi': False, 'mob': False, 'psycholog': False, 'remot': False, 'eight': False, 'stock': False, 'tight': False, 'broken': False, 'avail': False, 'reev': False, 'pilot': False, 'south': False, 'servic': False, 'vincent': False, 'likabl': False, 'eccentr': False, 'flynt': False, 'alex': False, 'virus': False, 'hugh': False, 'yeah': False, 'remov': False, 'depart': False, 'highlight': False, 'scheme': False, 'bloodi': False, '100': False, 'rape': False, 'mild': False, 'jail': False, 'veteran': False, 'cheesi': False, 'monkey': False, 'clue': False, 'carpent': False, 'sandler': False, 'exchang': False, 'besid': False, 'hidden': False, 'brian': False, 'beast': False, 'african': False, 'cinematograph': False, 'gift': False, 'outrag': False, 'histor': False, 'belong': False, 'teach': False, 'card': False, 'warm': False, 'shadow': False, 'anni': False, 'ted': False, 'outstand': False, 'empti': False, 'gari': False, 'theatric': False, 'breath': False, 'ugli': False, 'reflect': False, 'japanes': False, 'neighbor': False, 'lucki': False, 'unbeliev': True, 'miller': False, 'wing': False, 'absurd': False, 'instinct': False, 'taylor': False, 'twin': False, 'bridg': False, 'helen': False, 'substanc': False, 'catherin': False, 'frustrat': False, 'dread': False, 'bed': False, 'thorough': False, 'pie': False, 'ring': False, 'copi': False, 'aim': False, 'intellectu': False, 'comfort': False, 'porn': False, 'seagal': False, 'joy': False, 'church': False, 'strip': False, 'thousand': False, 'bus': False, 'spi': False, 'hunter': False, 'serial': False, 'guilti': False, 'sheer': False, 'sky': False, 'tragedi': False, 'irrit': False, 'thirti': False, 'forgotten': False, 'ahead': False, 'hook': False, 'civil': False, 'began': False, 'beach': False, 'tabl': False, 'wander': False, 'super': False, 'slapstick': False, 'bound': False, 'trash': False, 'confid': False, 'blockbust': False, 'western': False, 'movement': False, 'luck': False, 'settl': False, 'wake': False, 'sourc': False, 'excess': False, 'consequ': False, 'bone': False, 'sea': False, 'stuart': False, 'knowledg': False, 'austin': False, 'matur': False, 'damon': False, 'myer': False, 'clair': False, 'argu': False, 'endless': False, 'nuditi': False, 'accus': False, 'joan': False, 'size': False, 'loser': False, 'foot': False, 'accompani': False, 'miser': False, 'screw': False, 'associ': False, 'awar': False, 'cell': False, 'nuclear': False, '1996': False, 'oliv': False, 'communiti': False, 'storm': False, 'destruct': False, 'marvel': False, 'funniest': False, 'revolv': False, 'cat': False, 'assign': False, 'driven': False, 'walter': True, 'altern': False, 'credibl': False, 'reluct': False, 'footbal': False, 'cheer': False, 'con': False, 'crystal': False, 'consider': False, 'flesh': False, 'sharp': False, 'hip': False, 'core': False, 'buck': False, 'mask': False, 'skin': False, 'chicken': False, 'mountain': False, 'method': False, 'rage': False, 'anthoni': False, 'shout': False, 'hopkin': False, 'sarah': False, 'sink': False, 'abus': False, 'williamson': False, 'wrap': False, 'hey': False, 'quest': False, 'recal': False, 'digit': False, 'influenc': False, 'joel': False, 'andrew': False, 'foreign': False, 'sorri': False, 'built': False, 'terri': False, 'stranger': False, 'religi': False, 'reminisc': False, 'hollow': False, 'area': False, 'freeman': False, 'sidney': False, 'hype': False, 'unusu': False, 'spark': False, 'pig': False, 'load': False, 'scorses': False, 'correct': False, 'accident': False, 'favor': False, 'doom': False, 'cusack': False, 'conveni': False, 'convey': False, 'distinct': False, '1995': False, 'prevent': False, 'wrestl': False, 'gotten': False, 'chief': False, 'statement': False, 'derek': False, 'instal': False, 'everybodi': False, 'barri': False, 'noir': False, 'boogi': True, 'clooney': False, 'nicholson': False, 'regard': False, 'elabor': False, 'revel': False, 'heavili': False, 'armageddon': False, 'corrupt': False, 'provok': False, 'leg': False, 'ticket': False, 'schwarzenegg': False, 'freedom': False, 'activ': False, 'fool': False, 'bitter': False, 'spoiler': False, 'keaton': False, 'ideal': False, 'synopsi': False, 'opera': False, 'lawrenc': False, 'stallon': False, 'pretend': False, 'perspect': False, 'block': False, 'ensu': False, 'compos': False, 'bag': False, 'honor': False, 'bobbi': False, 'expens': False, 'german': False, 'bacon': False, 'bigger': False, 'cheat': False, 'prefer': False, 'contribut': False, 'morn': False, 'princ': False, 'promot': False, 'dare': False, 'theori': False, 'assassin': False, 'astronaut': False, 'leagu': False, 'condit': False, 'courtroom': False, 'jaw': False, 'cynic': False, 'verhoeven': False, 'ocean': False, 'spin': False, 'london': False, 'ripley': False, 'proper': False, 'degre': True, 'justic': False, 'dragon': False, 'psycho': False, 'jonathan': False, 'grown': False, 'unnecessari': False, 'deni': False, 'letter': False, 'alic': False, 'friendship': False, 'jon': False, 'bet': False, 'corner': False, 'negat': False, 'christian': False, 'priest': False, 'insan': False, 'exercis': False, 'elli': False, 'balanc': False, 'fifteen': False, 'cost': False, 'eric': False, 'extend': False, 'preview': False, 'youth': False, 'strict': False, 'threat': False, 'chill': False, 'examin': False, 'conspiraci': False, 'eve': False, 'niro': False, 'las': False, 'anna': False, 'circumst': False, 'uninterest': True, 'research': False, 'addict': False, 'soft': False, 'survivor': False, 'sum': False, 'popul': False, 'nazi': False, 'critiqu': False, 'drunken': False, 'resid': False, 'knight': False, 'instant': False, 'wound': False, 'pari': False, 'jungl': False, 'held': False, 'photograph': False, 'account': False, 'depend': False, 'domin': False, 'invit': False, 'pleasant': False, 'mom': False, 'cowboy': False, 'duval': False, 'identifi': False, 'emerg': False, 'greater': False, 'breast': False, 'shrek': False, 'whenev': False, 'basebal': False, 'bullet': False, 'unknown': False, 'accord': False, 'neil': False, 'storytel': False, 'construct': False, 'tragic': False, 'magazin': False, 'arquett': False, 'bite': False, 'dinner': False, 'jake': False, 'concentr': False, 'sitcom': False, 'devot': False, 'feder': False, 'farrelli': False, 'string': False, 'necessarili': False, 'fallen': False, 'franc': False, 'awkward': False, 'trade': False, 'select': False, 'endur': False, 'borrow': False, 'dirti': False, 'tortur': False, 'afraid': False, 'refresh': False, 'trilog': False, 'halloween': False, 'loss': False, 'wilson': False, 'nine': False, 'solv': False, 'offici': False, 'grade': False, 'climact': False, 'flow': False, 'luke': False, 'ala': False, 'factor': False, 'lesson': False, 'sidekick': False, 'brad': False, 'stab': False, 'chicago': False, 'chuckl': False, 'met': False, 'float': False, 'paper': False, 'cook': False, 'behavior': False, 'bulworth': False, 'murray': False, 'truck': False, 'dean': False, 'spiritu': False, 'stiller': False, 'expert': False, 'tree': False, 'england': False, 'complain': False, 'transport': False, 'bowl': False, 'broderick': False, 'china': False, 'coach': False, 'guest': False, 'peac': False, 'quaid': False, 'dri': False, 'ensembl': True, 'slip': False, 'vacat': False, 'prime': False, 'shape': False, 'todd': False, 'chain': False, 'laughter': False, 'nevertheless': False, 'melvin': False, 'skip': False, 'stolen': False, 'fatal': False, 'wealthi': False, 'switch': False, 'donnel': False, 'assur': False, 'toss': False, 'bird': False, 'weekend': False, 'redeem': False, 'lewi': False, 'belov': False, 'tape': False, 'predecessor': False, 'andi': False, 'franci': False, 'spoil': False, 'techniqu': False, 'communic': False, 'quirki': False, 'status': False, 'nbsp': False, 'blind': False, 'fugit': False, 'schumach': False, '2001': False, 'precis': False, 'fulfil': False, 'rick': False, 'defens': False, 'bang': False, 'trial': False, 'keanu': False, 'mid': False, 'metal': False, 'glass': False, 'bride': False, 'meg': False, 'retir': False, 'belief': False, 'greg': False, 'freez': False, 'drunk': False, 'notch': False, 'lake': False, 'halfway': False, 'campaign': False, 'yell': False, 'multipl': False, 'host': True, 'terrifi': False, 'forgiv': False, 'tens': False, 'creation': False, 'mickey': False, 'extraordinari': False, 'notion': False, 'photographi': False, 'own': False, 'marshal': False, 'rapid': False, 'river': False, 'ethan': False, 'experienc': False, 'italian': False, 'measur': False, 'overcom': False, 'davi': False, 'pitt': False, 'coen': False, 'lebowski': False, 'stylish': False, 'medic': False, 'commentari': False, 'unfold': False, 'texa': False, 'citizen': False, 'ian': False, 'spoof': False, 'phil': False, 'crisi': False, 'split': False, 'arrest': False, 'unabl': False, 'alcohol': False, 'kung': False, 'childhood': False, 'quot': False, 'enorm': False, 'anywher': False, 'eager': False, 'gonna': False, 'freddi': False, 'controversi': False, 'barrymor': False, 'roommat': False, 'blatant': False, 'fals': False, 'norton': False, 'setup': False, 'ordinari': False, 'finest': False, 'fairi': False, 'benefit': False, 'cole': False, 'goodman': False, 'finger': False, 'homag': False, 'deeper': False, 'nonetheless': False, 'advic': False, 'karen': False, 'presum': False, 'boast': False, 'pile': False, 'inept': False, 'reward': False, '80s': False, 'sentenc': False, 'erot': False, 'sin': False, 'disguis': False, 'link': False, 'anticip': False, 'divorc': False, 'horizon': False, 'diamond': False, 'villag': False, 'enhanc': False, 'vagu': False, 'generic': False, 'mass': False, 'likeabl': False, 'saturday': False, 'entri': False, 'albeit': False, 'paid': False, 'birth': False, 'accur': True, 'soap': False, 'glenn': False, 'festiv': False, 'jet': False, 'fifth': False, 'mirror': False, 'mail': False, 'obligatori': False, 'larger': False, 'alter': False, 'basi': False, 'hitchcock': False, 'random': False, 'mtv': False, 'holiday': False, 'hack': False, 'tedious': False, 'creator': False, 'peak': False, 'bleak': False, 'mechan': False, 'weight': False, 'closer': False, 'trio': False, 'religion': False, 'jurass': False, 'tribe': False, 'isol': False, 'wooden': False, 'romeo': False, 'disgust': False, 'aforement': False, 'endear': False, 'gut': False, 'announc': False, 'lend': False, 'prais': False, 'firm': False, 'restaur': False, 'pitch': False, 'dump': False, 'pre': False, 'induc': False, 'drew': False, 'adopt': False, 'dealer': False, 'blank': False, 'obnoxi': False, 'connor': False, 'astonish': False, 'airplan': False, 'financi': False, 'costner': False, 'dan': False, 'treatment': False, 'hoffman': False, 'maggi': False, 'spacey': False, 'mous': False, 'forest': False, 'categori': False, 'adequ': False, 'captiv': False, 'cox': False, 'gene': False, 'graduat': False, 'clueless': False, 'leap': False, 'demon': False, 'howard': False, 'anger': False, 'curious': False, 'dedic': False, 'michell': False, 'incid': False, 'deepli': False, 'sixth': False, 'editor': False, 'gather': False, 'surreal': False, 'golden': False, 'custom': False, 'primari': False, 'persona': False, 'flight': False, 'lloyd': False, 'kenneth': False, 'silver': False, 'contemporari': False, 'judd': False, 'rees': False, 'sir': False, 'wes': False, 'stir': False, 'bastard': False, 'cgi': False, 'border': False, 'cabl': False, 'midnight': False, 'deriv': False, 'higher': False, 'ear': False, 'tini': False, 'sandra': False, 'buzz': False, 'shut': False, 'nonsens': False, 'wreck': False, 'circl': False, 'unintent': False, 'page': False, 'multi': False, 'engin': False, 'prinz': False, 'gorgeous': False, 'par': False, 'hood': False, 'lisa': False, 'grip': False, 'morgan': False, 'sceneri': False, 'mafia': False, 'penn': False, 'expos': False, 'beatti': False, 'lift': False, 'dillon': True, 'directori': False, 'dick': False, 'horrifi': False, 'foster': False, 'burst': False, 'san': False, 'afterward': False, 'blown': False, 'proof': False, 'jackal': False, 'sincer': False, 'absorb': False, '2000': False, 'parker': False, 'besson': False, 'sword': False, 'stalk': False, 'disbelief': False, 'capsul': False, 'explod': False, 'nervous': False, 'pregnant': False, 'semi': False, 'wire': False, 'broad': False, 'countless': False, 'mortal': False, 'inhabit': False, 'graham': False, 'inan': False, 'whatsoev': False, 'wong': False, 'environ': False, 'aspir': False, 'campi': False, 'gadget': False, 'gratuit': False, 'sheriff': False, 'reput': False, 'sun': False, 'forth': False, 'meyer': False, 'rough': False, 'glimps': False, 'phillip': True, 'corni': False, 'vicious': False, 'tucker': False, 'freak': False, 'depp': False, 'portion': False, 'laura': False, 'ancient': False, 'ordel': False, 'justifi': False, 'warner': False, 'fighter': False, 'assault': False, 'parallel': False, 'sake': False, 'trite': False, 'superfici': True, 'natasha': False, 'kilmer': False, 'boil': False, 'thief': False, 'invest': False, 'dialog': False, 'sonni': False, 'defend': False, 'mitchel': False, 'luci': False, 'distanc': False, 'shark': False, 'sophist': False, 'luckili': False, 'network': False, 'butt': False, 'invis': False, 'kim': False, 'johnson': False, 'argument': False, 'labor': False, 'grab': False, 'disco': False, 'stewart': False, 'authent': False, 'echo': False, 'pet': False, 'spoken': False, 'roth': False, 'irish': False, 'pose': False, 'craze': False, 'mighti': False, 'gorilla': False, 'phrase': False, 'dazzl': False, 'energet': False, 'caricatur': False, 'harrelson': False, '1993': False, 'betray': False, 'broadcast': False, 'fienn': False, 'befriend': False, 'com': False, 'damag': False, 'mainstream': False, 'hopeless': False, 'emma': False, 'pauli': False, 'site': False, 'fincher': False, 'tour': True, 'artifici': False, 'sat': False, 'cruel': False, 'gradual': False, 'baker': True, 'neeson': False, 'recreat': False, 'millionair': False, 'owen': False, 'fred': False, 'triumph': False, 'octob': False, 'sympathi': True, 'pacino': False, 'interpret': False, 'whale': False, 'dicaprio': False, 'neat': False, 'reject': False, 'wannab': False, 'repetit': False, 'mystic': False, 'realism': False, 'jan': False, 'util': False, 'inner': False, 'stare': False, 'north': False, 'satan': False, 'jordan': False, 'function': False, 'subtleti': False, 'tyler': False, 'offend': False, 'elder': False, 'indian': False, 'vulner': False, 'ludicr': False, 'ron': False, 'princip': False, 'varieti': False, 'smooth': False, 'kubrick': False, 'discoveri': False, 'sneak': False, 'amanda': False, 'esqu': False, 'lifeless': False, 'psychot': False, 'cuba': False, 'immens': False, 'gambl': False, 'capit': False, 'legendari': False, 'neve': False, 'suspici': False, 'proclaim': False, 'franchis': False, 'acclaim': False, 'susan': False, 'scenario': False, 'paltrow': False, 'coincid': False, 'wan': False, 'negoti': False, 'occas': False, 'await': False, 'pursu': False, 'joli': False, 'branagh': False, 'donni': False, 'heat': False, 'breathtak': False, 'flawless': True, 'holm': False, 'arthur': False, 'shower': False, 'pan': False, 'tag': False, 'needless': False, 'advantag': False, 'handsom': False, 'cathol': False, 'insist': False, 'nail': False, 'henstridg': False, 'alicia': False, 'crush': False, 'basketbal': False, 'guid': False, 'advertis': False, 'conceiv': False, 'punish': False, 'gem': False, 'ventur': False, 'glori': False, 'profan': False, 'anaconda': False, 'betti': False, 'pretenti': False, 'randi': False, 'suitabl': False, 'showcas': False, 'los': False, 'hostag': False, 'snipe': False, 'profess': False, 'glad': False, 'charisma': False, 'makeup': False, 'thompson': False, 'infam': False, 'via': False, 'anymor': False, 'gordon': False, 'gori': False, 'flubber': False, 'robocop': False, 'robbi': False, 'empir': False, 'strain': False, 'anybodi': False, 'prostitut': False, 'deliveri': False, 'uninspir': False, 'stronger': False, 'glanc': False, 'spare': False, 'prior': False, 'shoulder': False, 'cooper': False, 'illustr': False, 'supernatur': False, 'suppli': False, 'sensibl': False, 'merit': False, 'section': False, 'guarante': False, 'swear': False, 'startl': False, 'bandera': False, 'jesus': False, 'fonda': False, 'everywher': False, 'crucial': False, 'carol': False, 'doll': False, 'wallac': False, 'piti': False, 'session': False, 'assembl': False, '1994': False, 'grave': False, 'reduc': False, 'buri': False, 'gloria': False, 'corpor': False, 'malkovich': False, 'homosexu': False, 'resolut': False, 'wahlberg': False, 'craven': False, 'downright': False, 'courag': False, 'genet': False, 'flashi': False, 'rank': False, 'turkey': False, '8mm': False, 'bubbl': False, 'puzzl': False, 'california': False, 'inject': False, 'shirt': False, 'portrait': False, 'bathroom': False, 'eeri': False, 'cauldron': False, 'spell': False, 'lip': False, 'urg': False, 'trend': False, 'spring': False, 'promin': False, 'combat': False, 'lethal': False, 'hackman': False, 'foul': False, 'albert': False, 'stanley': False, 'resolv': False, 'chair': False, 'jeffrey': False, 'lesbian': False, 'pool': False, 'southern': False, 'denis': False, 'nose': False, 'braveheart': False, 'palma': False, 'legal': False, 'ingredi': False, 'snow': False, 'birthday': False, 'lang': False, 'vast': False, 'calm': False, 'diaz': False, 'castl': False, 'jami': False, 'slick': False, 'recycl': False, 'ironi': False, 'dinosaur': False, 'ambiti': False, 'altman': False, 'blend': False, 'imageri': False, 'choreograph': False, 'mistaken': False, 'pam': False, 'lock': False, 'dub': False, 'drown': False, 'paxton': False, 'compet': False, 'garbag': False, 'print': False, 'uncov': False, 'luc': False, 'pen': False, 'conscious': False, 'ashley': False, 'gabriel': False, 'ador': False, 'recruit': False, 'conneri': False, 'educ': False, 'blast': False, 'fanci': False, 'proud': False, 'brand': False, 'fix': False, 'hawk': False, 'pat': False, 'nativ': False, 'passeng': False, 'token': False, 'invad': False, 'leo': False, 'mate': False, 'obi': False, 'disc': False, '70s': False, 'gere': False, 'sleepi': False, 'frankenstein': False, 'clone': False, 'colonel': False, 'sensit': False, 'elect': False, 'quentin': False, 'till': False, 'subsequ': False, 'companion': True, 'indulg': False, 'finn': False, 'packag': False, 'dig': False, 'squad': False, '90s': False, 'uniform': False, 'chick': False, 'coat': False, 'torn': False, 'oppos': False, 'smash': False, 'clown': False, 'flee': False, 'harsh': False, 'chose': False, 'battlefield': False, 'heather': False, 'silenc': False, 'cousin': False, 'tongu': False, 'defeat': False, 'lay': False, 'fund': False, 'arrog': False, 'jerk': False, 'duke': False, 'fianc': False, 'profound': False, 'zeta': False, 'buscemi': False, 'comet': False, 'thug': False, 'liber': False, 'rat': False, 'declar': False, 'implaus': False, 'duti': False, 'overwhelm': False, 'charismat': False, 'thurman': False, 'uncomfort': False, 'pun': False, 'robbin': False, 'resist': False, 'ant': False, 'gattaca': False, 'inspector': False, 'kay': False, 'spread': False, 'emperor': False, 'apt': False, 'sinis': False, 'overact': False, 'analyz': False, 'poke': False, 'context': False, 'hokey': False, 'rachel': False, 'reviv': False, 'rebel': False, 'cave': False, 'moron': False, 'emili': False, 'griffith': False, 'meat': False, 'awesom': False, 'farm': False, 'lion': False, 'alec': False, 'martha': False, 'react': False, 'upper': False, 'ambigu': False, 'reserv': False, 'bottl': False, 'attach': False, 'liam': False, 'fourth': False, 'restor': False, 'malcolm': False, 'profit': False, 'fargo': False, 'ricki': False, 'devast': False, 'harrison': False, 'clerk': False, 'loyal': False, 'trace': False, 'felix': False, 'tremend': False, 'kudrow': False, 'philosophi': False, 'enterpris': False, 'watson': False, 'magnific': False, 'poker': False, 'antz': False, 'sutherland': False, 'gear': False, 'melodrama': False, 'easier': False, 'martian': False, 'sleazi': False, 'toilet': False, 'respond': False, 'worthwhil': False, 'advis': False, 'grier': False, 'competit': False, 'pound': False, 'twister': False, 'plant': False, 'somebodi': False, 'quinn': False, 'claud': False, 'inexplic': False, 'crook': False, 'bud': False, 'hurrican': False, 'fabl': False, 'confess': False, 'straightforward': False, 'antic': False, 'primarili': False, 'pattern': False, 'victori': False, 'bulli': False, 'shall': False, 'ross': False, 'lou': False, 'resort': False, 'plausibl': False, 'bay': False, 'upset': False, 'strand': False, 'mock': False, 'joseph': False, 'unpredict': False, 'cromwel': False, 'internet': False, 'slide': False, 'flame': False, 'newcom': False, 'mcgregor': False, 'anakin': False, 'topic': False, 'translat': False, 'east': False, 'hat': False, 'institut': False, 'illeg': False, 'bumbl': False, 'melodramat': False, 'alfr': False, 'data': False, 'ellen': False, 'porter': False, 'updat': False, 'virgin': False, 'courtney': False, 'lazi': False, 'donald': False, 'savag': False, 'client': False, 'unpleas': False, 'metaphor': True, 'roman': False, 'egg': False, 'trademark': False, 'grim': False, 'per': False, 'casino': False, 'equip': False, 'teeth': False, 'label': False, 'fell': False, 'insert': False, 'colleagu': False, 'ali': False, 'schindler': False, 'nurs': False, 'sloppi': False, 'wash': False, 'explicit': False, 'molli': False, 'delici': False, 'sinist': False, 'heck': False, 'carl': False, 'warren': False, 'showgirl': False, 'sketch': False, 'address': False, 'newli': False, 'holi': False, 'darth': False, 'canadian': False, 'uncl': False, 'altogeth': False, 'lyric': False, 'massiv': False, 'underground': False, 'subtitl': False, 'iren': False, 'dynam': False, 'ace': False, 'galaxi': False, 'employe': False, 'mill': False, 'philip': False, 'bever': False, 'geoffrey': False, 'krippendorf': False, 'resurrect': False, 'angela': False, 'neo': False, 'ton': True, 'curti': False, 'outfit': False, 'ponder': False, 'showdown': False, 'shake': False, 'loath': False, 'render': False, 'degener': False, 'happili': False, 'revers': False, 'briefli': False, 'slap': False, 'realm': False, 'helm': False, 'exagger': False, 'shoe': False, 'sorvino': False, 'redempt': False, 'poignant': False, '1970s': False, 'kinda': False, 'mansion': False, 'vinc': False, 'forti': False, 'godfath': False, 'wacki': False, 'descript': False, 'leonard': False, 'robberi': False, 'mindless': False, 'volcano': False, 'musician': False, 'hop': False, 'jessica': False, 'collabor': False, 'medium': False, 'launch': False, 'lower': False, 'perpetu': False, 'monti': False, 'debat': False, 'linda': False, 'ricci': False, 'channel': False, 'sweep': False, 'sharon': False, 'seduc': False, 'elev': False, 'dreamwork': False, 'deniro': False, 'march': False, 'boot': False, 'libbi': False, 'regardless': False, 'lean': False, 'hyster': False, 'perri': False, 'fed': False, 'reel': False, 'august': False, 'han': False, 'indi': False, 'senat': False, 'ebert': False, 'asian': False, 'wow': False, 'stale': False, 'nichola': False, 'coher': False, 'upcom': False, 'photo': False, 'imit': False, 'neck': False, 'ambit': False, 'cheek': False, 'heartbreak': False, 'toler': False, 'icon': False, 'cloud': False, 'africa': False, 'tall': False, 'pierc': False, 'particip': False, 'naiv': False, 'seduct': False, 'wick': False, 'safeti': False, 'runner': False, 'macho': False, 'crude': False, 'dislik': False, 'granger': False, 'breakdown': False, 'bowfing': False, 'pod': False, 'inher': False, 'complaint': True, 'owe': False, 'ned': False, 'distant': True, 'leigh': False, 'mermaid': False, 'aveng': False, 'poison': False, 'candi': False, 'duchovni': False, 'mulder': False, 'heist': False, 'ransom': False, 'rebecca': False, 'argento': False, 'wisdom': False, 'contest': False, 'automat': False, 'cooki': False, 'strive': False, 'musket': False, 'cring': False, 'marin': False, 'linger': False, '200': False, 'extent': False, 'clumsi': False, 'theron': False, 'sheen': False, 'superhero': False, 'inconsist': False, 'shaw': False, 'ran': False, 'repli': False, 'encourag': False, 'nerv': False, 'chao': False, 'antonio': False, 'quarter': False, 'recov': False, 'shane': False, 'hopper': False, 'stahl': False, 'elimin': False, 'be': False, 'deliber': False, 'unconvinc': False, 'chew': False, 'jew': False, 'thick': False, 'code': False, 'garden': False, 'psychlo': False, 'struck': False, 'dancer': False, 'nostalgia': False, 'sustain': False, 'premier': False, 'squar': False, 'backdrop': False, 'unhappi': False, 'gentl': False, 'christ': False, 'comedian': False, 'advoc': False, 'verbal': False, 'voight': False, 'mamet': False, 'gas': False, 'dose': False, 'amistad': False, 'mcconaughey': False, 'eastwood': False, 'homer': False, 'enthusiast': False, 'fade': False, 'jealous': False, 'plagu': False, 'greas': False, 'appli': False, 'cindi': False, 'crawford': False, 'outing': False, 'sappi': False, 'diseas': False, 'skywalk': False, 'bate': False, 'swing': False, 'grasp': False, 'pump': False, 'access': False, 'candid': False, 'intric': False, 'embrac': False, 'waitress': False, 'clark': False, 'row': False, 'iii': False, 'lovabl': False, 'butcher': False, 'essenc': False, 'aggress': False, 'underr': False, 'pseudo': False, 'dogma': False, '_the': False, 'jewish': False, 'mexico': False, 'resourc': False, 'flair': False, 'spite': False, 'fright': False, 'selfish': False, 'whisper': False, 'bell': False, 'sadist': False, 'oil': False, 'scratch': False, 'tackl': False, 'funnier': False, 'pressur': False, 'weaver': False, 'factori': False, 'hammer': False, 'nearbi': False, 'marc': False, 'raw': False, 'contract': False, 'fond': False, 'uma': False, 'creep': False, 'cure': False, 'sli': False, 'engross': False, 'treasur': False, 'dora': False, 'existenz': False, 'insurrect': False, 'rout': False, 'obscur': False, 'attorney': False, 'margaret': False, 'hedwig': False, 'fuck': False, 'harder': False, 'transfer': False, 'oldman': False, 'widow': False, 'walker': False, 'territori': False, 'chamber': False, 'philosoph': False, 'standout': False, 'shatter': False, 'hapless': False, 'absent': False, 'conclud': False, 'dismiss': False, 'calib': False, 'dunn': False, 'carlito': False, 'guilt': False, 'divers': True, 'laid': False, 'rumbl': False, 'humili': True, 'bump': False, 'aris': False, '13th': False, 'alli': False, 'etern': False, 'tiresom': False, 'habit': False, 'dant': False, 'pour': False, 'incompet': False, 'sympath': False, 'eugen': False, 'funer': False, 'clash': False, 'lanc': False, 'gal': False, 'australian': False, 'lifestyl': False, 'dim': False, 'tendenc': False, 'corps': False, 'defi': False, 'dimens': False, 'stylist': False, 'bought': False, 'asleep': False, 'electr': False, 'transit': True, 'hewitt': False, 'crawl': False, 'portman': False, 'qui': False, 'cliff': False, 'vietnam': False, 'unsatisfi': False, 'digniti': False, 'forgot': False, 'slightest': False, 'montag': False, 'bullock': False, 'samuel': False, 'coffe': False, 'innov': False, 'dawn': False, 'aboard': False, 'kathi': False, 'evok': False, 'craig': False, 'duo': False, 'miami': False, 'insur': False, 'cia': False, 'trail': False, 'chucki': False, 'futurist': False, 'watchabl': False, 'byrn': False, 'yard': False, 'overlook': False, 'gladiat': False, 'blake': False, 'chop': False, 'convolut': False, 'integr': False, 'repris': False, 'coloni': False, 'beneath': False, 'lane': False, 'everyday': False, 'simultan': True, 'vow': False, 'franklin': False, 'obstacl': False, 'garofalo': False, 'nude': False, 'onscreen': False, 'uneven': False, 'preced': False, 'mini': False, 'raimi': False, 'lust': False, 'shi': False, 'gritti': False, 'eas': False, 'format': False, 'bull': False, 'everett': False, 'useless': False, 'reson': False, 'flirt': False, 'lopez': False, 'tool': False, 'bust': False, 'behold': False, 'pursuit': False, 'dawson': False, 'overdon': False, 'emmerich': False, 'barn': False, 'rave': False, 'gon': False, 'hideous': False, 'payback': False, 'daddi': False, 'propos': False, 'kline': False, 'layer': False, 'nicol': False, 'kidman': False, 'sale': False, 'exclus': False, 'grew': False, 'barbara': False, 'vice': False, 'paranoid': False, 'phoni': False, 'publish': False, 'swallow': False, 'omin': False, 'conscienc': False, 'cope': False, 'cab': False, 'consum': False, 'sid': False, 'jock': False, 'mobster': False, 'elfman': False, 'rico': False, 'dizzi': False, 'mercuri': False, 'uplift': False, 'nelson': False, 'raider': False, 'effortless': False, 'thirteenth': False, 'hamlet': False, 'guido': False, 'tech': False, 'dane': False, 'span': False, 'indic': False, 'climb': False, 'stake': False, 'nicola': False, 'goldblum': False, 'pant': False, 'temper': False, 'champion': False, 'variat': False, 'kennedi': False, 'cardboard': False, 'nifti': False, 'clip': False, 'awak': False, 'prologu': False, 'bene': False, 'schneider': False, 'wheel': False, 'slaughter': False, 'rudi': False, 'parol': False, 'dud': False, 'mayor': False, 'christina': False, 'platt': False, 'swim': False, 'frantic': False, 'enlist': False, 'journalist': False, 'worn': False, 'ralph': False, 'shannon': False, 'arguabl': False, 'bunni': False, 'homicid': False, 'brave': False, 'tip': False, 'maniac': False, 'gruesom': False, 'invas': False, 'gimmick': False, 'victor': False, 'nineti': False, 'bless': False, 'natali': False, 'walsh': False, 'weav': False, 'tender': False, 'arrang': False, 'virtu': False, 'text': False, 'steel': False, 'flip': False, 'josh': False, 'redman': False, 'nois': False, 'fiona': False, 'weather': False, 'racism': False, 'newman': False, 'witherspoon': False, 'sold': False, 'lemmon': False, 'christin': False, 'pale': False, 'effici': False, 'heston': False, 'stress': False, 'brenner': False, 'wcw': False, 'interrupt': False, 'wright': False, 'brosnan': False, 'spike': False, 'jawbreak': False, 'nielsen': False, 'webb': False, 'egoyan': False, 'jude': False, 'chronicl': False, 'frequenc': False, 'leila': False, 'highway': False, 'arrow': False, 'joblo': False, 'forgett': False, 'snuff': False, 'sand': False, 'pivot': False, 'zone': False, 'rehash': False, 'adolesc': False, 'exit': False, 'thread': False, 'boston': False, 'margin': False, 'awaken': False, 'spontan': False, 'breed': False, 'miracul': False, 'friday': False, 'realize': False, 'foolish': True, 'dispos': False, 'flood': False, 'retriev': False, 'flop': False, 'attribut': False, 'richardson': False, 'wisecrack': False, 'milk': False, 'hesit': False, 'zani': False, 'properti': False, 'astound': False, 'sunday': False, 'ash': False, 'marti': False, '1980s': False, 'distinguish': False, 'joker': False, 'prize': False, 'incorpor': False, 'dilemma': False, 'bicker': False, 'vari': False, '1992': False, 'throat': False, 'plotlin': False, 'deck': False, 'vanish': False, 'rap': False, 'newspap': False, 'glare': False, 'suzi': False, 'heroic': False, 'darn': False, 'harm': False, 'insecur': False, 'werewolf': False, 'spectacl': False, 'dave': False, 'foley': False, 'pimp': False, 'drift': False, 'greed': False, '1960s': False, 'hayek': False, 'landscap': False, '1984': False, 'rene': False, 'tad': False, 'butler': False, 'relev': False, 'dian': False, 'juliet': False, 'bean': False, 'popcorn': False, 'mesmer': False, 'patriot': False, 'imperson': False, 'devito': False, 'percept': False, 'videotap': False, 'gwyneth': False, 'exhibit': False, 'junk': False, 'troop': False, 'grisham': False, 'newton': False, 'magoo': False, 'mummi': False, 'inch': False, 'bold': False, 'winslet': False, 'juliann': False, 'fuller': False, 'benigni': False, 'matilda': False, 'sweetback': False, 'norm': False, 'impli': False, 'document': False, 'psychologist': False, 'miscast': False, 'beg': True, 'cap': False, 'precious': False, 'nod': False, 'imprison': False, 'crisp': False, 'confin': False, 'paradis': False, 'regret': False, 'gate': False, 'theresa': False, 'secretari': False, 'rid': False, 'stark': False, 'chapter': False, 'puppi': False, 'pal': False, 'facial': False, 'chow': False, 'florida': False, 'fishburn': False, 'stomach': False, 'brood': False, 'transcend': False, 'mute': False, 'airport': False, 'weir': False, 'ultra': False, 'clock': False, 'nolt': False, 'walken': False, 'revolut': False, 'understood': False, 'lit': False, 'vivid': False, 'tea': False, 'confirm': False, 'misguid': False, 'hudson': False, 'undermin': False, 'broke': False, 'metro': False, 'overbear': False, 'outcom': False, 'knife': False, 'unrealist': False, 'introduct': False, 'gothic': False, 'slaveri': False, 'sgt': False, 'winter': False, 'monica': False, 'geek': False, 'reunion': False, 'twilight': False, 'cartoonish': False, 'psychic': False, 'lacklust': False, 'cain': False, 'shue': False, 'boyl': False, 'saint': False, 'robinson': False, 'trait': False, 'payoff': False, '60s': False, 'peel': False, 'bont': False, 'tunnel': False, 'weari': False, 'gordi': False, 'triangl': False, 'orient': False, 'liz': False, 'unfair': False, 'poster': True, 'sphere': False, 'cue': False, 'suffic': False, 'del': False, 'senior': False, 'leonardo': False, 'chad': False, 'vital': False, 'fundament': False, 'businessman': False, 'solut': False, 'rumor': False, 'pride': False, 'von': False, 'destini': False, 'cynthia': False, 'redford': False, 'lambeau': False, 'undercov': False, 'jeopardi': False, '20th': False, 'puls': False, 'moder': False, 'banal': False, 'psychiatrist': False, 'henc': False, 'groan': False, 'reliabl': False, 'appl': False, 'propel': False, 'coast': False, 'royal': False, 'lesser': False, 'whine': False, 'stamp': False, 'ego': False, 'australia': False, 'fabul': False, 'suspend': False, 'pot': False, 'bitch': False, 'stern': False, 'irrelev': False, 'goer': False, 'spanish': False, 'absenc': False, 'manic': False, 'unbear': False, 'reign': False, 'detract': False, 'unsettl': False, 'compens': False, 'relentless': False, 'moviego': False, 'concert': False, 'denzel': False, 'buff': False, 'smaller': False, 'palmetto': False, 'ruthless': False, 'inabl': False, 'brandi': False, 'dealt': False, 'alexand': False, 'powder': False, 'amongst': False, 'postman': False, 'acid': False, 'commend': False, 'thornton': False, 'sail': False, 'beer': False, 'extens': False, 'profil': False, 'spaceship': False, 'bachelor': False, 'opt': False, 'characterist': False, 'catchi': False, 'feed': False, 'phillipp': False, 'cigarett': False, 'judi': False, 'relish': False, 'elit': False, 'shit': False, 'abyss': False, 'lesli': False, 'nobl': False, 'recognit': False, 'courtesi': False, 'casablanca': False, 'maci': False, 'resent': False, 'jakob': False, 'holocaust': False, 'judith': False, 'oppress': False, 'embodi': False, 'vocal': False, 'racist': False, 'shield': False, 'tango': False, 'mohr': False, 'vader': False, 'mallori': False, 'mold': False, 'contrari': False, 'tank': False, 'phoenix': False, 'underst': False, 'birch': False, 'substanti': False, 'ethic': False, 'indiana': False, 'fluff': False, 'recur': False, 'huh': False, 'proven': False, 'horrif': False, 'counterpart': False, 'depalma': False, 'impos': False, 'underdevelop': False, 'underwat': False, 'rug': False, 'frenzi': False, 'earnest': False, 'incess': False, 'dalmatian': False, 'bibl': False, 'politician': False, 'nightclub': False, 'height': False, 'outer': False, 'curs': False, 'lab': False, 'potent': False, 'lousi': False, 'demis': False, 'piano': False, 'salli': False, 'maximum': False, 'beaten': False, 'horni': False, 'mankind': False, 'pray': False, 'vaniti': False, 'azaria': False, 'eszterha': False, 'worm': False, 'velvet': False, 'sieg': False, 'fri': False, 'qualifi': False, 'nasa': False, 'horner': False, 'saga': False, 'midst': False, 'beau': False, 'snap': False, 'lifetim': False, 'numb': False, 'glorious': False, 'debt': False, 'wherea': False, 'acknowledg': False, 'rodriguez': False, 'tax': False, 'georgia': False, 'jacob': False, 'cup': False, 'sylvest': False, 'dive': False, 'lili': False, 'momentum': False, 'judgment': False, 'unforgett': False, 'garner': False, 'hannah': False, 'skit': False, 'reynold': False, 'item': False, 'detach': False, 'turner': False, 'caan': False, 'egypt': False, 'mose': False, 'lui': False, 'incident': False, 'kinnear': False, 'skull': False, 'ewan': False, 'protest': False, 'les': False, 'leon': False, 'hereaft': False, 'themat': False, 'monologu': False, 'notori': False, 'traci': False, 'spoon': False, 'underworld': False, 'tower': False, 'restraint': False, 'grandmoth': False, 'wig': False, 'seattl': False, 'flower': True, 'val': False, 'reader': False, 'charliz': False, 'clad': False, 'heal': False, 'annett': False, 'hum': False, 'alleg': False, 'slam': False, 'moon': False, 'amidst': False, 'ritual': False, 'riot': False, 'ratio': False, 'boxer': False, 'brillianc': False, 'demeanor': False, 'stiff': False, 'arc': False, 'robber': False, 'undoubt': False, 'ward': False, 'maguir': False, 'realis': False, 'sara': False, '1900': False, 'jazz': False, 'partial': False, 'spill': False, 'farc': False, 'roy': False, 'web': False, 'relax': False, 'domest': False, 'dreari': False, 'concoct': False, 'madonna': False, 'proport': False, 'awri': False, 'staff': False, 'manufactur': False, 'deuc': False, 'inmat': False, 'mcgowan': False, 'grate': False, 'warrant': False, 'ooz': False, 'kathleen': False, 'elicit': False, 'superman': False, 'ham': False, 'equival': False, 'unrel': True, 'coppola': False, 'eighti': False, 'stroke': False, 'havoc': False, 'jeremi': False, 'insect': False, 'mcdonald': False, 'daisi': False, 'divid': False, 'underneath': False, 'reed': False, 'fuel': False, 'dear': False, 'pleasantvill': False, 'memphi': False, 'wag': False, 'awe': False, 'irresist': False, 'muse': False, 'sacrific': False, 'poetri': False, 'feat': False, 'eleg': False, 'gavin': False, 'dreyfuss': False, 'immers': False, 'taxi': False, 'colour': False, 'momma': False, 'museum': False, 'skinhead': False, 'taran': False, 'idl': False, 'behav': False, 'restrain': False, 'curios': False, 'piss': False, 'phenomenon': False, 'tiger': False, 'ken': False, 'goldberg': False, 'monoton': False, 'muddl': False, 'melani': False, 'barrel': False, 'closest': False, 'odyssey': False, 'regist': False, 'plight': False, 'fart': False, 'cheerlead': False, 'undeni': False, 'incomprehens': False, 'armor': False, 'shell': False, 'therapi': False, 'kit': False, 'wrestler': False, 'bridget': False, 'stellar': False, 'lengthi': False, 'uninvolv': False, 'jewel': False, 'smell': False, 'slater': False, 'minni': False, 'wealth': False, 'mayhem': False, 'appal': False, 'twelv': False, '1988': False, 'fetch': False, 'secondari': False, 'parad': False, 'duck': False, 'col': False, 'vessel': False, 'evolv': False, 'kiki': False, 'nerd': False, 'glamor': False, 'minim': False, 'furious': False, 'chest': False, 'lectur': False, 'elliot': False, 'warp': False, 'puppet': False, 'syndrom': False, 'under': False, 'contend': False, 'manhattan': False, 'voyag': False, 'bounc': False, 'instrument': False, 'heartfelt': False, 'leder': False, 'decemb': False, 'throwaway': False, '---': False, 'unawar': False, 'grandfath': False, 'wet': False, 'map': False, 'orphan': False, 'ivi': False, 'compliment': False, 'steam': False, 'decept': False, 'deed': False, 'wreak': False, 'ventura': False, 'joey': False, 'jersey': False, 'japan': False, 'cream': False, 'signal': False, 'botch': False, 'vote': False, 'hush': False, 'ghetto': False, 'emphasi': False, 'edgi': False, 'ephron': False, 'violin': False, 'miseri': False, 'harold': False, 'diner': False, 'liar': False, 'articl': False, 'zane': False, 'meaning': False, 'abund': False, 'ramsey': False, 'hech': False, 'gus': False, 'clint': False, 'loung': False, 'gilliam': False, 'nello': False, 'fei': False, 'apostl': False, 'maximus': False, 'pink': False, 'suspicion': False, 'ribisi': False, 'bros': False, 'dust': False, 'spout': False, 'daryl': False, 'ensur': False, 'condemn': False, 'european': False, 'delv': False, 'pronounc': False, 'oppon': False, 'stray': False, 'pad': False, 'lambert': False, 'leather': False, 'faster': False, 'disastr': False, 'yawn': False, 'cheadl': False, 'honesti': False, 'healthi': False, 'norman': False, 'glow': False, 'harmless': False, 'spotlight': False, 'dash': False, 'nowaday': False, 'newest': False, 'fisher': False, 'peer': False, 'shameless': False, '1991': False, 'jacket': False, 'counselor': False, 'psychopath': False, 'unorigin': False, 'daili': False, 'bigg': False, 'downhil': False, 'preposter': False, 'dubious': False, 'assort': False, 'detroit': False, 'zoom': False, 'lace': False, 'matthau': False, 'giggl': False, 'sweetheart': False, 'arizona': False, 'pepper': False, 'prompt': False, 'shore': False, 'asteroid': False, 'spader': False, '1985': False, 'psych': False, 'fraser': False, 'francisco': False, 'wardrob': False, 'injuri': False, 'button': False, 'rubin': False, 'jess': False, 'drill': False, 'bail': False, 'kingsley': False, 'gerard': False, 'levi': False, 'loui': False, 'boiler': False, 'id4': False, 'kane': False, 'blackmail': False, 'shadi': False, 'yearn': False, 'mercenari': False, 'plastic': False, '1981': False, 'dien': False, 'broadway': True, 'fanat': False, 'perman': False, 'junki': False, 'whip': False, 'harbor': False, 'peculiar': False, 'frog': False, 'dumber': False, 'sensat': False, 'despair': False, 'casual': False, 'glen': False, 'judgement': False, 'messeng': False, 'distress': False, 'travi': False, 'conrad': False, 'anonym': False, 'crichton': False, 'darren': False, 'picard': False, 'juri': False, 'outlin': False, 'stigmata': False, 'expand': False, 'exorcist': False, 'forrest': False, 'gale': False, 'veronica': False, 'rosi': False, 'blah': False, 'lola': False, 'prom': False, 'vike': False, 'abraham': False, 'tribut': False, 'revolutionari': False, 'wilder': False, 'farquaad': False, 'donkey': False, 'neighborhood': False, 'stink': False, '1990s': False, 'sue': False, 'bookstor': False, 'obscen': False, 'charlott': False, 'fabric': False, 'temptat': False, 'janean': False, 'excruci': False, 'leari': False, 'scandal': False, 'turmoil': False, 'femm': False, 'placement': False, 'proverbi': False, 'polish': False, 'eras': False, 'greet': False, 'banter': False, 'rooki': False, 'zombi': False, 'deem': False, 'mug': False, 'difficulti': False, 'penni': False, 'claw': False, 'mauric': False, 'fist': False, 'belt': False, 'alley': False, 'resum': False, 'tactic': False, 'tempt': False, 'paramount': False, 'principl': False, 'mia': False, 'exot': False, '19th': False, 'merci': False, 'stardom': False, 'horn': False, 'wesley': False, 'entitl': False, 'nomi': False, 'kingpin': False, 'noteworthi': False, 'chees': False, 'sore': False, 'reno': False, 'rubber': False, 'dismal': False, 'lightn': False, 'rant': False, 'thumb': False, 'jacqu': False, 'improvis': False, 'hungri': False, 'ration': False, 'departur': False, 'ark': False, 'apolog': False, 'greedi': False, 'salma': False, 'griffin': False, 'prospect': False, 'dracula': False, 'alik': False, 'zellweg': False, '1980': False, 'chuck': False, 'nemesi': False, 'maid': False, 'compromis': False, 'mythic': False, 'suav': False, 'exceed': False, 'orang': False, 'hail': False, 'contempl': False, 'obtain': False, 'beam': False, 'flourish': False, 'decor': False, 'emphas': False, 'hooker': False, 'casper': False, 'salesman': False, 'varsiti': False, 'skeptic': False, 'clinic': False, '50s': False, 'irv': False, 'tomorrow': False, 'heckerl': False, 'seamless': False, 'mib': False, 'heap': False, 'navi': False, 'gilbert': False, 'kenobi': False, 'incarn': False, 'milton': False, 'kati': False, 'distribut': False, 'mors': False, 'famk': False, 'potter': False, 'deft': False, 'rivet': False, 'doo': False, 'bye': False, 'erupt': False, 'jeann': False, 'malick': False, 'goodfella': False, 'thrust': False, 'estella': False, 'fidel': False, 'lama': False, '1960': False, 'juvenil': False, 'anastasia': False, 'ogr': False, 'error': False, 'unsuccess': False, 'daylight': False, 'decapit': False, 'culmin': False, 'mundan': False, 'gray': False, 'neurot': False, 'illus': False, 'cake': False, 'rope': False, 'atroci': False, 'slice': False, 'bulk': False, 'kombat': False, 'watcher': False, 'billion': False, 'luxuri': False, 'mimic': False, 'saddl': False, 'overshadow': False, 'stapl': False, 'entranc': False, 'preserv': False, 'underus': False, 'cape': False, 'gestur': False, 'patienc': False, 'vignett': False, 'sampl': False, 'soviet': False, 'calcul': False, 'lamb': False, 'slim': False, 'nostalg': False, 'inferior': False, 'boredom': False, 'sixti': False, 'janet': False, 'forlani': False, 'out': False, 'lumet': False, 'enthusiasm': False, 'sammi': False, 'athlet': False, 'option': False, 'restless': False, 'recit': False, 'shave': False, 'dune': False, 'sunk': False, 'romp': False, 'shade': False, 'headach': False, 'confidenti': False, 'overlong': False, 'roller': False, 'testament': False, 'underwritten': False, 'ish': False, 'household': False, 'atom': False, 'lauren': False, 'wield': False, 'paranoia': False, 'naboo': False, 'morrison': False, 'hugo': False, 'basement': False, 'loyalti': False, 'devoid': False, 'enforc': False, 'nicki': False, 'descend': False, 'outset': False, 'stood': False, 'helpless': False, 'motorcycl': False, 'farmer': False, 'evolut': False, 'neglect': False, 'harlem': False, 'reappear': False, 'immort': False, 'heel': False, 'kidnapp': False, 'glover': False, 'chainsaw': False, 'hitman': False, 'plug': False, 'smarter': False, 'spencer': False, 'subdu': False, 'senseless': False, 'pete': False, 'darryl': False, 'strap': False, 'fiance': False, 'wizard': False, 'conduct': False, 'reservoir': False, 'lester': False, 'harvey': False, 'dylan': False, 'valley': False, 'blossom': True, 'chocol': False, 'nora': False, 'fifti': False, 'trunk': False, 'dustin': False, 'abrupt': False, 'globe': False, 'toro': False, 'suprem': False, 'forster': False, 'guidanc': False, 'gellar': False, 'enchant': False, 'klein': False, 'patric': False, 'blunt': False, 'gap': False, 'unseen': False, 'nuanc': False, 'net': False, 'offbeat': False, 'hypnot': False, 'carlyl': False, 'montana': False, 'arab': False, 'retain': False, 'mpaa': False, 'cannib': False, 'erin': False, 'camill': False, 'rounder': False, 'kudo': False, 'shelv': False, 'occupi': False, 'valid': False, 'keener': False, 'plod': False, 'simplist': False, 'kasdan': False, 'justin': False, 'youngster': False, 'exposit': False, 'bent': False, 'upsid': False, 'paragraph': False, 'bath': False, 'apollo': False, 'lure': False, 'muster': False, 'atlant': False, 'bash': False, 'bruno': False, 'pill': False, 'reindeer': False, 'compris': False, 'goo': False, 'heighten': False, 'infinit': False, 'down': False, 'repuls': False, 'flavor': False, 'churn': False, 'dafo': False, 'hackney': False, 'reilli': True, 'mentor': False, 'rous': False, 'meal': False, 'quirk': False, 'estat': False, 'arkin': False, 'afternoon': False, 'insipid': False, 'traffic': False, 'rogu': False, 'dutch': False, 'request': False, 'contempt': False, 'kitchen': False, 'enlighten': False, 'helicopt': False, 'soak': False, 'missil': False, 'sarcast': False, 'leoni': False, 'angst': False, '1989': False, 'slimi': False, 'venic': False, 'kurt': False, 'dirt': False, 'collaps': False, 'mode': False, 'therebi': False, 'wanna': False, 'elsewher': False, 'simul': False, 'laurenc': False, 'blanchett': False, 'conserv': False, 'forewarn': False, 'favourit': False, 'uncertain': False, 'rita': False, 'melt': False, 'instruct': False, 'grin': False, 'declin': False, 'satellit': False, 'muscl': False, 'delic': False, 'preacher': False, 'allur': False, 'spit': False, 'rear': False, 'europ': False, 'expedit': False, 'tame': False, 'clan': False, 'simpson': False, 'adrenalin': False, 'pervers': False, 'torment': False, 'lieuten': False, 'array': False, 'liberti': False, 'estrang': False, 'superbl': False, 'union': False, 'stephan': False, 'shandl': False, 'crusad': False, 'highest': False, 'tomb': False, 'lara': False, 'janssen': False, 'jerom': False, 'petti': False, 'andrea': False, 'electron': False, 'templ': False, 'diari': False, 'neill': False, 'bargain': False, 'hammond': False, 'lauri': False, 'tin': False, 'bedroom': False, 'doug': False, 'sant': False, 'preach': False, 'hatr': False, 'april': False, 'strongest': False, 'wen': False, 'meteor': False, 'surpass': False, 'poet': False, 'ideolog': False, 'hen': False, 'osment': False, 'carver': False, 'lumumba': False, 'niccol': False, 'gile': False, 'kingdom': False, 'bronson': False, 'graviti': False, 'sucker': False, 'seedi': False, 'pornographi': False, 'dement': False, 'automobil': False, 'cancer': False, 'rhythm': False, 'taught': False, 'scottish': False, 'collar': False, 'ireland': False, 'awhil': False, 'succumb': False, 'approxim': False, 'earthquak': False, 'conspir': False, 'interior': False, 'scar': False, 'silverston': False, 'stud': False, 'asset': False, 'compass': False, 'spooki': False, 'idol': False, 'ryder': False, 'overus': False, 'envis': False, 'miramax': False, 'minimum': False, 'abound': False, '101': False, 'evan': False, 'audio': False, 'lindo': False, 'swinger': False, 'warden': False, 'equat': False, 'misstep': False, 'predat': False, 'grunt': False, 'brink': False, 'worthless': False, 'vengeanc': False, 'jenni': False, 'patricia': False, 'headlin': False, 'reunit': False, 'furi': False, 'shrink': False, 'warmth': False, 'admiss': False, 'punk': False, 'meander': False, 'childish': False, 'in': False, 'deputi': False, 'lush': False, 'persuad': False, 'tourist': False, 'phenomen': False, 'denver': False, 'kyle': False, 'goon': False, 'illog': False, 'bruckheim': False, 'harrow': False, 'dispatch': False, 'bald': False, 'trashi': False, 'gaug': False, 'raymond': False, 'lizard': False, 'maria': False, 'claudia': False, 'holli': False, 'amidala': False, 'stuf': False, 'macdonald': False, 'counter': False, 'fisherman': False, 'germani': False, 'trigger': False, 'turturro': False, 'literatur': False, 'riski': True, 'patron': False, 'banana': False, 'madsen': False, 'palmer': False, 'beck': False, 'mixtur': False, 'scientif': False, 'brash': False, 'exec': False, 'racial': False, 'elisabeth': False, 'provoc': False, 'morri': False, 'overblown': False, 'fest': False, 'deceas': False, 'comeback': False, 'exhaust': False, 'gigant': False, 'shortcom': False, 'ditch': False, 'wink': False, 'rhame': False, 'ingeni': False, 'digest': False, 'rice': False, 'contradict': False, 'copyright': False, 'toronto': False, 'cleavag': False, 'stripper': False, 'hurley': False, 'creek': False, 'rocket': False, 'radic': False, 'rubel': False, 'impuls': False, 'bartend': False, 'frozen': False, 'fort': False, 'einstein': False, 'health': False, 'columbia': False, 'primit': False, 'manifest': False, 'timothi': False, 'vibrant': False, 'scam': False, 'peni': False, 'taglin': False, 'requisit': False, 'willard': False, 'farley': False, 'ranger': False, 'muppet': False, 'fought': False, 'growth': False, 'cinqu': False, 'wolf': False, 'aaron': False, 'begun': False, 'cronenberg': False, 'ongo': False, '1990': False, 'prayer': False, 'click': False, 'pokemon': False, 'darker': False, 'burbank': False, 'meantim': False, 'jade': False, 'custodi': False, 'yellow': False, 'schrader': False, 'sabotag': False, 'moodi': False, 'suvari': False, 'stilt': False, 'ladder': False, 'mann': True, 'mall': False, 'bliss': False, 'rea': False, 'weigh': False, 'thereaft': False, 'meaningless': False, 'babysitt': False, 'shred': False, 'strategi': False, 'hart': False, 'pro': False, 'jill': False, 'diabol': False, 'mastermind': False, 'panic': False, 'boundari': False, 'convert': False, 'ronin': False, 'marlon': False, 'alongsid': False, 'apocalyps': False, 'lolita': False, 'sherri': False, 'paus': False, 'hotshot': False, 'crab': False, 'pullman': False, 'scholar': False, '1977': False, 'paycheck': False, 'josi': False, 'adject': False, 'shaft': False, 'renown': False, 'powel': False, 'rambl': False, 'moviemak': False, 'brooklyn': False, 'chinatown': False, '3000': False, 'incoher': False, 'deedl': False, 'radiat': False, 'nixon': False, 'vein': False, 'wipe': False, 'sour': False, 'mutat': False, 'coincident': False, 'sultri': False, 'occurr': False, 'cum': False, 'exotica': False, 'exquisit': False, 'zwick': False, 'amateurish': False, 'faculti': False, 'tasteless': False, 'grotesqu': False, 'madison': False, 'carnag': False, 'revisit': False, 'vaughn': False, 'dissolv': False, 'bog': False, 'karla': False, 'foreshadow': False, 'reckless': False, 'impend': False, 'merchandis': False, 'cocain': False, 'miracl': False, 'valeri': False, 'mimi': False, 'der': False, 'usa': False, 'supergirl': False, 'tap': False, 'limb': False, 'preston': False, 'cisco': False, 'beard': False, 'kurtz': False, 'amor': False, 'entireti': False, 'schedul': False, 'divert': False, 'sarandon': False, 'overplay': False, 'surrog': False, 'wayan': False, 'literari': False, 'antagonist': False, 'breakfast': False, 'cabin': False, 'shove': False, '1968': False, 'tornado': False, 'sprinkl': False, 'dish': False, 'unwatch': False, 'subway': False, 'bernard': False, 'cruelti': False, 'draft': False, 'celluloid': False, 'pirat': False, 'jab': False, 'extraterrestri': False, 'therapist': False, 'millennium': False, 'orgi': False, 'bergman': False, 'bilko': False, 'smirk': False, 'tack': False, 'tunney': False, 'michel': False, 'sculli': False, 'spider': False, 'stimul': False, 'foil': False, 'labut': False, 'neal': False, 'jericho': False, 'beavi': False, 'facil': False, 'bradi': False, 'dismay': False, 'peebl': False, 'nina': False, 'chip': False, 'keitel': False, 'kenni': False, 'guardian': False, 'lightheart': False, 'pixar': False, 'solo': False, 'eva': False, 'steadi': False, 'kaufman': False, 'applaud': False, 'throne': False, 'crown': False, 'oblivi': False, 'hardcor': False, 'stellan': False, 'unimagin': False, 'ugh': False, 'agenda': False, 'tattoo': False, 'poem': False, 'unconvent': False, 'hara': False, 'bathtub': False, 'cardin': False, 'unfamiliar': False, 'intrus': False, 'liu': False, 'hallucin': False, 'punctuat': False, 'cube': False, 'rendit': False, 'leguizamo': False, 'pic': False, 'downey': False, 'tsui': False, 'narrow': False, 'mount': False, 'hyper': False, 'clutch': False, 'conquer': False, 'sacrif': False, 'auteur': False, 'gender': True, 'escal': False, '1987': False, 'aimless': False, 'uneasi': False, 'deadpan': False, 'kelley': False, 'auto': False, 'squeez': False, 'propaganda': False, 'camerawork': False, 'moreau': False, 'baffl': False, 'linear': False, 'comprehend': False, 'brainless': False, 'abort': False, 'vomit': False, 'hamper': False, 'collid': False, 'misfir': False, 'jam': False, 'ought': False, 'boom': False, 'frost': False, 'hick': False, 'unforgiv': False, 'ambassador': False, 'oblig': False, 'despic': False, 'porno': False, 'whore': False, 'helena': False, 'framework': False, 'mcnaughton': False, 'clinton': False, 'shotgun': False, 'rig': False, 'iceberg': False, 'anchor': False, 'stile': False, 'monk': False, 'hometown': False, 'pine': False, 'ineffect': False, 'dna': False, 'rewrit': False, 'discern': False, 'conjur': False, 'leisur': False, '1986': False, 'econom': False, 'sigourney': False, 'belli': False, 'spacecraft': False, 'vanessa': False, 'quiz': False, 'forbidden': False, 'maneuv': False, 'consult': False, 'crane': False, 'laden': False, 'releg': False, 'vault': False, 'slacker': False, 'dusk': False, 'snatch': False, 'statu': False, 'thiev': False, 'stream': False, 'jodi': False, 'ving': False, 'teas': False, 'lavish': False, 'purchas': False, 'ghostbust': False, 'clayton': False, 'closet': False, 'mona': False, 'hyde': False, 'kirk': False, 'silverman': False, 'bow': False, 'ralli': False, 'substitut': False, 'valuabl': False, 'hippi': False, 'chunk': False, 'championship': False, 'plead': False, 'sunni': False, 'nicknam': False, 'davidson': False, 'inappropri': False, 'cuban': False, 'carmen': False, 'immigr': False, 'analysi': False, 'christof': False, 'recogniz': False, 'intim': False, 'brazil': False, 'submarin': False, 'wondrous': False, 'palac': False, 'ahm': False, 'mctiernan': False, 'janitor': False, 'gayheart': False, 'liaison': False, 'dysfunct': False, 'catastroph': False, 'rome': False, 'fellini': False, 'palpabl': False, 'accuraci': False, 'gump': False, 'jovovich': False, 'pamela': False, 'bread': False, 'fenc': False, 'mandingo': False, 'hustler': False, 'boorman': False, 'poetic': False, 'circus': False, 'magnolia': True, 'scum': False, 'groceri': False, 'hockey': False, 'wyatt': False, 'spade': False, 'yield': False, 'kimbl': False, 'boon': False, 'commodus': False, 'shyamalan': False, 'dolor': False, 'bubbi': False, 'cal': False, 'dalai': False, 'mod': False, 'epp': False, 'footstep': False, 'mediev': False, 'deprav': False, 'ceremoni': False, 'juggl': False, 'spew': False, 'choreographi': False, 'rodman': False, 'eastern': False, 'compuls': False, 'salvag': False, 'limp': False, 'swarm': False, 'afford': False, 'februari': False, 'nutti': False, 'endang': False, 'dove': False, 'hormon': False, 'rabbit': False, 'seinfeld': False, 'pierr': False, 'pacif': False, 'henchmen': False, 'nigel': False, 'myth': False, 'sicken': False, 'fascist': False, 'anniversari': False, 'creaki': False, 'roof': False, 'injur': False, 'shorti': False, 'gentleman': False, 'perfunctori': False, 'adept': False, 'syd': False, 'confer': False, 'elvi': False, 'vulgar': False, 'cate': False, 'burden': False, 'garcia': False, 'renegad': False, 'gee': False, '1973': False, 'fuent': False, 'pocket': False, 'attain': False, 'gina': False, 'plummer': False, 'ordeal': False, 'lombardo': False, 'procedur': False, 'troi': False, 'mistress': False, 'elijah': False, 'ostens': False, 'smack': False, 'unsuspect': False, 'pit': False, 'sophomor': False, 'januari': False, '1978': False, 'se7en': False, 'forsyth': False, 'extract': False, 'saniti': False, 'rental': False, 'topless': False, 'nut': False, 'devin': False, 'honey': False, 'upbeat': False, 'franki': False, 'roar': False, 'earl': False, 'hacker': False, 'angelina': False, 'rod': False, 'gaze': False, 'whimsic': False, 'sibl': False, 'enigmat': False, 'glorifi': False, 'splendid': False, 'boost': False, '1971': False, 'dicken': False, 'spain': False, 'polar': False, 'ruler': False, 'springer': False, 'smithe': False, 'campus': False, 'merciless': False, 'couch': False, 'policeman': False, 'ell': False, 'capac': False, 'superflu': False, 'versus': False, 'liev': False, 'schreiber': False, 'modin': False, 'experiment': False, 'devis': False, 'passag': False, 'smuggl': False, 'vain': False, 'samurai': False, 'rushmor': False, 'radiant': False, 'bleed': False, 'sim': False, 'larter': False, 'jule': False, 'styliz': False, 'unwit': False, 'greenwood': False, 'bowler': False, 'ingenu': False, 'titil': False, 'fetish': False, 'tug': False, 'reagan': False, 'cocki': False, 'duncan': False, 'sinclair': False, 'hubbard': False, 'archetyp': False, 'disagre': False, 'transpir': False, 'mytholog': False, 'drastic': False, 'unsur': False, 'knack': False, 'textur': False, 'gloomi': False, 'wang': False, 'groundbreak': False, 'crippl': False, 'outcast': False, 'loneli': True, 'republ': False, 'leadership': False, 'peril': False, 'bush': False, 'dewey': False, 'doubtfir': False, 'groom': False, 'outlandish': False, 'naval': False, 'mitch': False, 'maclean': False, 'surrealist': False, 'climat': False, 'wiseguy': False, 'presidenti': False, 'jinn': False, 'imperi': False, 'keen': True, 'schwimmer': False, 'kersey': False, 'thirteen': False, 'alda': False, 'tatooin': False, 'bandit': False, 'capon': False, 'pollock': False, 'motta': False, 'bianca': False, 'booker': False, 'hercul': False, 'booz': False, 'hostil': False, 'viewpoint': False, 'empathi': False, 'brow': False, 'chord': False, 'outlaw': False, 'suburban': False, 'haley': False, 'walt': False, 'matchmak': False, 'democrat': False, 'rampant': False, 'extraordinarili': False, 'thunder': False, 'bonus': False, 'nest': False, 'singular': False, 'teddi': False, 'joint': False, 'simmon': False, 'overton': False, 'letdown': False, 'jolt': False, 'mama': False, 'kurosawa': False, 'urgenc': False, 'wholli': False, 'impecc': False, 'nauseat': False, 'articul': False, 'bronx': False, 'rifl': False, 'barb': False, 'strung': False, 'penchant': False, 'faux': False, 'crop': False, 'madden': False, 'favreau': False, 'coyot': False, 'chart': False, 'pornograph': False, 'harvard': False, 'soar': False, 'carolina': False, 'placid': False, 'brendan': False, 'monstrous': False, 'gotcha': False, 'juliett': False, 'valentin': False, 'sheedi': False, 'prestigi': False, 'graini': False, 'whilst': False, 'litter': False, 'prank': False, 'agenc': False, 'whack': False, '1979': False, 'seventi': False, 'olivia': False, 'runaway': False, 'unapp': False, 'stack': False, 'halt': False, 'violat': False, 'gotta': False, 'dwell': False, 'blaze': False, 'choppi': False, 'berkley': False, 'chef': False, 'anguish': False, 'thru': False, 'enabl': False, 'hallmark': False, 'verg': False, 'lurk': False, 'plate': False, 'stagger': False, 'capra': False, 'carv': False, 'coma': False, 'sergeant': False, 'primal': False, 'unleash': False, 'unclear': False, 'farther': True, 'wolv': False, 'trainspot': False, 'allison': False, 'ichabod': False, 'redneck': False, 'whitak': False, 'veer': False, 'patent': False, 'wade': False, 'yarn': False, 'lampoon': False, 'speechless': False, 'sensual': False, 'salt': False, 'marci': False, 'playboy': False, 'scatter': False, 'uptight': False, 'untouch': False, 'sleeper': False, 'entiti': False, 'transvestit': False, 'interrog': False, 'pryce': False, 'deceiv': False, 'ounc': False, 'mccabe': False, 'foremost': False, 'hoot': False, 'compon': False, 'grumpi': False, 'hilar': False, 'longtim': False, 'embark': False, 'generous': False, 'timeless': False, 'barber': False, 'yorker': False, 'soup': False, 'implant': False, 'whiz': False, 'pollack': False, 'dice': False, 'divin': False, 'pee': False, 'herman': False, 'onofrio': False, 'jerki': False, 'fuzzi': False, 'galor': False, 'grief': False, 'gilmor': False, 'meticul': False, 'marit': False, 'outtak': False, 'stanton': False, 'fodder': False, 'bake': False, 'lomax': False, 'conni': False, 'pupil': False, 'motel': False, 'cotton': False, 'eclect': False, 'santa': False, 'mario': False, 'bonni': False, 'beatric': False, 'lunch': False, 'inherit': False, 'sewel': False, 'intimid': False, 'advisor': False, 'valek': False, 'collector': False, 'closur': False, 'lovitz': False, 'nosferatu': False, 'prop': False, 'ferri': False, 'sooner': False, 'minist': False, 'shalhoub': False, 'polley': False, 'splash': False, 'mccoy': False, 'kermit': False, 'pfeiffer': False, 'bateman': False, 'foundat': False, 'tibb': False, 'slade': False, 'fantasia': False, 'reza': False, 'humbert': False, 'chocolat': False, 'scarlett': False, 'redund': False, 'unstabl': False, 'stabl': False, 'laps': False, 'mutter': False, 'indiffer': False, 'alright': False, 'distributor': False, 'annual': False, 'shakespearean': False, 'priceless': False, 'whini': False, 'misadventur': False, 'connel': False, 'titular': False, 'punchlin': False, 'don': False, 'mumbl': False, 'sigh': False, 'herring': False, 'fever': False, 'regain': False, 'murki': False, 'esteem': False, 'simplic': False, 'harden': False, 'prey': False, 'brando': False, 'rabid': False, 'bio': False, 'dana': False, 'niec': False, 'lib': False, 'legitim': False, 'hung': False, 'commod': False, 'gruff': False, 'sweat': False, 'seller': False, 'dangl': False, 'platoon': False, 'inkpot': False, 'terrenc': False, 'permeat': False, 'raunchi': False, 'evacu': False, 'drain': False, 'heartless': False, 'incap': False, 'duel': False, 'leer': False, 'ninja': False, 'ginger': False, 'tabloid': False, 'thankless': False, 'casey': False, 'rickman': False, 'aniston': False, 'louie': False, 'stole': False, 'audrey': False, 'gwen': False, 'archer': False, 'malon': False, 'overr': False, 'streak': False, 'maclachlan': False, 'sparkl': False, 'retread': False, 'barrier': False, 'scope': False, 'goodby': False, 'rural': False, 'slew': False, 'sack': False, 'elus': False, 'taunt': False, 'epitom': False, 'brush': False, 'spunki': False, 'massacr': False, 'delet': False, 'hammi': False, 'urin': False, 'weakest': False, 'phenomena': False, 'kitti': False, 'riff': False, 'python': False, 'banish': False, 'quaint': False, 'feast': False, 'chemic': False, 'percent': False, 'swell': False, 'stereo': False, 'gillian': False, 'bout': False, 'empath': False, 'buster': False, 'overboard': False, 'har': False, 'atroc': False, 'drivel': False, 'restrict': False, 'adher': False, 'cohes': False, 'chat': False, 'verit': False, 'gradi': False, 'cram': False, 'disord': False, 'shag': False, 'bum': False, '1970': False, 'shadowi': False, 'feminist': False, 'cradl': False, 'croft': False, 'falter': False, 'spous': True, 'gig': False, 'quarterback': False, 'beek': False, 'lick': False, 'howl': False, 'wrench': False, 'horrend': False, 'arch': False, 'windsor': False, 'countrysid': False, 'swinton': False, 'swift': False, 'dino': False, 'classmat': False, 'burt': False, 'vinni': False, 'rosemari': False, 'plung': False, 'seal': False, 'liotta': False, 'derang': False, 'ming': False, 'rude': False, 'dame': False, 'unemploy': False, 'zahn': False, 'outdoor': False, 'sunglass': False, 'reborn': False, '500': False, 'rami': False, 'trekki': False, 'thereof': False, 'tingl': False, 'optimist': False, 'portal': False, 'garri': False, 'wive': False, 'conceal': False, 'uncanni': False, 'booth': False, 'infuri': False, 'rudolph': False, 'hawtrey': False, 'chloe': False, 'modest': False, 'abbi': False, 'smug': False, 'filter': False, 'jealousi': False, 'payn': False, 'junior': False, 'extermin': False, 'trim': False, 'unreal': False, 'kattan': False, 'ridden': False, 'claustrophob': False, 'improb': False, 'roper': False, 'retrospect': False, 'implic': False, 'strateg': False, 'superstar': False, 'predica': False, 'likewis': False, 'allianc': False, 'math': False, 'dorn': False, 'nihilist': False, 'nikki': False, 'dina': False, 'www': False, 'murdoch': False, 'groundhog': False, 'branch': False, 'brasco': False, 'highland': False, 'lucinda': False, 'eachoth': False, 'anton': False, 'flander': False, 'osmosi': False, 'geronimo': False, 'jewison': False, 'lithgow': False, 'zemecki': False, 'muriel': False, 'valjean': False, 'jumbl': False, 'unravel': False, 'elm': False, 'salvat': False, 'giovanni': False, 'sexist': False, 'shtick': False, 'ditzi': False, 'lap': False, 'yuppi': False, 'unspoken': False, 'thwart': False, 'static': False, 'sundanc': False, 'howi': False, 'artagnan': False, 'pedestrian': False, 'marilyn': False, 'exterior': False, 'inclus': False, 'leak': False, 'envelop': False, 'bowel': False, 'vivian': False, 'everyman': False, 'carla': False, 'infect': False, 'winona': False, 'shaki': False, 'alarm': False, 'logo': False, 'intermin': False, 'flamboy': False, 'sumptuous': False, 'bodyguard': False, 'colin': False, 'hound': False, 'mutant': False, 'cameraman': False, 'itali': False, 'horseman': False, 'chore': False, 'evalu': False, 'caulder': False, 'futil': False, 'ariel': False, 'trumpet': False, 'slicker': False, 'victoria': False, 'amateur': False, 'lillard': False, 'garag': False, 'gershon': False, 'ethnic': False, 'summar': False, 'civilian': False, 'toe': False, 'jonni': False, 'innuendo': False, 'drip': False, 'coaster': False, 'apocalypt': False, 'driller': False, 'problemat': False, 'liv': False, 'resign': False, 'surgeri': False, 'tick': False, 'reloc': False, 'bomber': False, 'incongru': False, 'mortensen': False, 'barrag': False, 'divis': False, 'gape': False, 'brodi': False, 'pistol': False, 'cane': False, 'eleph': False, 'lightweight': False, 'sandi': False, 'unknow': False, 'eighteen': False, 'spiral': False, 'supermodel': False, 'cannon': False, 'aunt': False, 'rebelli': False, 'headless': False, 'stride': False, 'schtick': False, 'visibl': False, 'governor': False, 'sunris': False, 'soil': False, 'ici': False, 'poitier': False, 'facad': False, 'forbid': False, 'narrowli': False, 'paradox': False, 'wretch': False, 'vicki': False, 'sonnenfeld': False, 'nomine': False, 'fieri': False, 'coin': False, 'academ': False, 'starv': False, 'feroci': False, 'laser': False, 'pretens': False, 'perki': False, 'corridor': False, 'altar': False, 'sporad': False, 'fichtner': False, 'maureen': False, 'katherin': False, 'stabil': False, 'slug': False, 'hug': False, 'shelf': False, 'tripl': False, 'polici': False, 'ripe': False, 'gen': False, 'bikini': False, 'phase': False, 'julian': False, 'dimwit': False, 'viscer': False, 'assert': False, 'passabl': False, 'squabbl': False, 'roach': False, 'cancel': False, 'bancroft': False, 'overt': False, 'caper': False, 'ness': False, 'kilter': False, 'subconsci': False, 'afterthought': False, 'fluid': False, 'lotteri': False, 'feebl': False, 'teri': False, 'exud': False, 'lifelong': False, 'bewild': False, 'hurri': False, 'bend': False, 'waiter': False, 'garth': False, 'terl': False, 'coburn': False, 'novelist': False, 'duplic': False, 'macdowel': False, 'fleet': False, 'steer': False, 'reassur': False, 'unnecessarili': False, 'passiv': False, 'heterosexu': False, 'aykroyd': False, 'elwood': False, 'interlud': False, 'giddi': False, 'hefti': False, 'moss': False, 'sebastian': False, 'hounsou': False, 'magnet': False, 'youngest': False, 'mutual': False, 'tibet': False, 'navig': False, 'disjoint': False, 'rufus': False, '137': False, 'epilogu': False, 'zucker': False, 'websit': False, 'deliver': False, 'corn': False, 'downfal': False, 'sugar': False, 'affabl': False, 'servant': False, 'elis': False, 'hyperact': False, 'hysteria': False, 'remaind': False, 'affirm': False, 'suffici': False, 'nephew': False, 'booksel': False, 'glam': False, 'grasshopp': False, 'ronna': False, 'apprentic': False, 'earp': False, 'supervisor': False, 'virgil': False, 'atheist': False, 'condor': False, 'alain': False, 'hedaya': False, 'grinch': False, 'miranda': False, 'tobey': False, 'perceiv': False, 'melancholi': False, 'althea': False, 'kundun': False, 'carey': False, 'righteous': False, 'medicin': False, 'coke': False, 'riddl': False, 'mena': False, 'crouch': False, 'shanghai': False, 'noon': False, 'schlock': False, 'transpar': False, 'foray': False, 'hyam': False, 'clutter': False, 'minus': False, 'guitar': False, 'classifi': False, 'thespian': False, 'collin': False, 'formal': False, 'deconstruct': False, 'shed': False, 'summon': False, 'complement': False, 'dispens': False, 'darkest': False, 'stall': False, 'frankenheim': False, 'trainer': False, 'propheci': False, 'region': False, 'rupert': False, 'yun': False, 'kwai': False, 'fingernail': False, 'overweight': False, 'predomin': False, 'hawthorn': False, 'bitten': False, 'tonight': False, 'orbit': False, 'innocu': False, 'willem': False, 'elmor': False, 'signifi': False, 'bimbo': False, 'lowest': False, 'sobieski': False, 'leia': False, 'choke': False, 'brim': False, 'novikov': False, 'pearl': False, 'stinker': False, 'gasp': False, 'medit': False, 'lin': False, 'beal': False, 'hitmen': False, 'nun': False, 'swan': False, 'flock': False, 'knee': False, 'tricki': False, 'jamaican': False, 'mega': False, 'trivia': False, 'afflict': False, 'multiplex': False, 'infus': False, 'cycl': False, 'stubborn': False, 'compound': False, 'rampag': False, 'proposit': False, 'wilcock': False, 'slash': False, 'maul': False, 'canada': False, 'intercut': False, 'wee': False, 'telegraph': False, 'techno': False, 'impregn': False, 'drab': False, 'stu': False, 'sluggish': False, 'clariti': False, 'autobiograph': False, 'skateboard': False, 'matron': False, 'naughti': False, 'bee': False, 'novelti': False, 'astronom': False, 'backward': False, 'distort': False, 'spoke': False, 'blew': False, 'galleri': False, 'messi': False, 'helgenberg': False, 'supermarket': False, 'tail': False, 'claus': False, 'tote': False, 'typecast': False, 'palminteri': False, 'fierc': False, 'henchman': False, 'ivan': False, 'shorter': False, 'zack': False, 'lighter': False, 'sober': False, 'tripe': False, 'matine': False, 'hitchhik': False, 'leto': False, 'coal': False, 'fruit': False, 'reid': False, 'elud': False, 'ira': False, 'inclin': False, 'sway': False, 'weep': False, 'batgirl': False, 'scent': False, 'robe': False, 'technician': False, 'outburst': False, 'courier': False, 'baddi': False, 'furthermor': False, 'tyson': False, 'biblic': False, 'vitti': False, 'summari': False, 'pompous': False, 'acquir': False, '1950s': False, 'breakthrough': False, 'uncontrol': False, 'fumbl': False, 'mobil': False, 'intact': False, 'desk': False, 'unbeknownst': False, 'dern': False, 'envi': False, 'glimmer': False, 'exclaim': False, 'cement': False, 'alert': False, 'nyc': False, 'slang': False, 'curtain': False, 'surf': False, 'fog': False, 'limbo': False, 'fang': False, 'liquor': False, 'railroad': False, 'hbo': False, 'needl': False, 'ironsid': False, 'lam': False, 'goth': False, 'pawn': False, 'crave': False, 'dench': False, 'jenna': False, 'understat': False, 'townspeopl': False, 'troy': False, 'necess': False, 'erni': False, 'donna': False, 'bischoff': False, 'flimsi': False, 'squeal': False, 'excurs': False, 'jettison': False, 'idyl': False, 'twentieth': False, 'kat': False, 'idealist': False, 'pander': False, 'denial': False, 'loom': False, 'extravag': False, 'retreat': False, 'mojo': False, 'goldman': False, 'frear': False, 'brigg': False, 'joshua': False, 'cliqu': False, 'evelyn': False, 'peck': False, 'basing': False, 'prophet': False, '1950': False, 'gleefulli': False, 'persist': False, 'daphn': False, 'gregori': False, 'condescend': False, 'nathan': False, 'injustic': False, 'brew': False, 'june': False, 'akin': False, 'conniv': False, 'infecti': False, 'maiden': False, 'heyst': False, 'sevigni': False, 'mice': False, 'lad': False, 'chum': False, 'stoic': False, 'romi': False, 'dot': False, 'dwayn': False, 'bookend': False, 'tier': False, 'privileg': False, 'specul': False, 'roxburi': False, 'cohen': False, 'mathemat': False, 'zach': False, 'congreg': False, 'yang': False, 'beckinsal': False, 'intertwin': False, 'pearc': False, 'artsi': False, 'sophi': False, 'vigilant': False, 'behaviour': False, 'serendip': False, 'corki': False, 'depriv': False, 'chimp': False, 'bink': False, 'ballad': False, 'rimbaud': False, 'zooland': False, 'collett': False, 'streep': False, 'yeoh': False, 'motss': False, 'mushu': False, '571': False, 'dirk': False, 'merton': False, 'gerri': False, 'toback': False, 'hulot': False, 'roberta': False, 'bulow': False, 'melissa': False, 'stan': False, 'reform': False, 'omar': False, 'mindset': False, 'palat': False, 'hunki': False, 'stalker': False, 'desol': False, 'buildup': False, 'newer': False, 'sordid': False, 'toll': False, 'scribe': False, 'joaquin': False, 'horrid': False, 'pregnanc': False, 'trivial': False, 'sleepwalk': False, 'blare': False, 'cun': False, 'candl': False, 'kang': False, 'incorrect': False, 'honeymoon': False, 'jamaica': False, 'sprawl': False, 'slower': False, 'neutral': False, 'cherri': False, 'shrug': False, 'crappi': False, 'juic': False, 'tailor': False, 'wanda': False, 'superhuman': False, 'sleepless': False, 'macabr': False, 'malevol': False, 'deterior': False, 'newfound': False, 'fewer': False, 'blur': False, 'comrad': False, 'stomp': False, 'kruger': False, '102': False, 'upstag': False, 'savvi': False, 'gloom': False, 'hal': False, 'wagner': False, 'yuen': False, 'bloat': False, 'delroy': False, 'semblanc': False, 'hunk': False, 'swamp': False, 'conductor': False, 'strangelov': False, 'multitud': False, 'ceas': False, 'crocodil': False, 'cam': False, 'assess': False, 'quasi': False, 'freeli': False, 'ditto': False, 'soderbergh': False, 'geeki': False, 'brace': False, 'sneer': False, 'perpetr': False, 'prodigi': True, 'maxim': False, 'smarmi': False, 'marijuana': False, 'telephon': False, 'sync': False, 'inadvert': False, 'dug': False, 'rail': False, '1000': False, 'sayl': False, 'mexican': False, 'nell': False, 'sweati': False, 'jfk': False, 'solitari': False, 'revolt': False, 'soni': False, 'jessi': False, 'bonham': False, 'busey': False, 'eschew': False, 'acquaint': False, 'filler': False, 'collis': False, 'brandon': False, 'lurid': False, 'roland': False, 'casualti': False, 'sherman': False, 'grandma': False, 'nightmarish': False, 'tropic': False, 'wri': False, 'discard': False, 'recount': False, 'sheet': False, 'affection': False, 'faint': False, 'wore': False, 'brenda': False, 'marvin': False, 'cliffhang': False, 'engulf': False, 'recip': False, 'humbl': False, 'worldwid': False, 'scholarship': False, 'steiger': False, 'founder': False, 'boo': False, 'landau': False, 'infest': False, 'prequel': False, 'unwil': False, 'rourk': False, 'versatil': False, 'bid': False, 'novemb': False, 'nope': False, 'lung': False, 'waterworld': False, 'hing': False, 'abduct': False, 'lacross': False, 'dixon': False, 'standpoint': False, 'ruth': False, 'assasin': False, 'arous': False, 'cider': False, 'hay': False, 'steed': False, 'foreman': False, 'outlook': False, 'entic': False, 'bait': False, 'entrap': False, 'vintag': False, 'ernest': False, 'tidi': False, 'townsfolk': False, 'gotham': False, 'sputter': False, 'overkil': False, 'durat': False, 'fizzl': False, 'reitman': False, 'transplant': False, 'furnitur': False, 'elliott': False, 'hitch': False, 'postal': False, 'babbl': False, 'pact': False, 'recept': False, 'louis': False, 'dopey': False, 'kiddi': False, 'shun': False, 'disarm': False, 'gunton': False, 'hogan': False, 'reverend': False, 'mutil': False, 'dough': False, '1969': False, 'smitten': False, 'noodl': False, 'matti': False, 'coffin': False, 'shovel': False, 'swept': False, 'reek': False, 'buffoon': False, 'tobacco': False, 'tycoon': False, 'loveless': False, 'defici': False, 'stargher': False, 'applic': False, 'signatur': False, 'capt': False, 'kip': False, 'misfit': False, 'levinson': False, 'satisfactori': False, 'cent': False, 'pinkett': False, 'midway': False, 'unansw': False, 'chauffeur': False, 'briefcas': False, 'mira': False, 'buffi': False, 'column': False, 'charlton': False, 'richer': False, 'grammer': False, 'grudg': False, 'sleev': False, 'hamil': False, 'abysm': False, 'debacl': False, 'autist': False, 'stormar': False, 'lawsuit': False, 'extran': False, 'ringwald': False, '1972': False, 'morph': False, 'hitler': False, 'carrot': False, 'whoever': False, 'satisfact': False, 'rowland': False, 'honour': False, 'encompass': False, 'djimon': False, 'locker': False, 'conceit': False, 'fragment': False, 'fuse': False, 'minnesota': False, 'wrought': False, 'fern': False, 'poignanc': False, 'scariest': False, 'imbu': False, 'drove': False, 'digress': False, 'inflict': False, 'ritchi': False, 'heartwarm': False, 'lucrat': False, 'copycat': False, 'flag': False, 'crib': False, 'batter': False, 'denouement': False, 'henriksen': False, 'exhilar': False, 'strut': False, 'dalla': False, 'flynn': False, 'favour': False, 'peasant': False, 'baggag': False, 'benicio': False, 'librari': False, 'agreeabl': False, 'ambros': False, 'askew': False, 'painter': False, 'lament': False, 'proya': False, 'diedr': False, 'griswold': False, 'doyl': False, 'wage': False, 'lynn': False, 'cari': False, 'fortress': False, 'motor': False, 'hansel': False, 'salesmen': False, 'suzann': False, 'thandi': False, 'gonzo': False, 'mourn': False, 'communist': False, 'lore': False, 'aristocrat': False, 'widescreen': False, 'infantri': False, 'scarier': False, 'forebod': False, 'grain': False, 'clyde': False, 'alessa': False, 'infatu': False, 'fiorentino': False, 'jabba': False, 'hun': False, 'sullivan': False, 'seahaven': False, 'groeteschel': False, 'quilt': False, 'caveman': False, 'mckellar': False, 'corleon': False, 'gingerbread': False, 'tibetan': False, 'milli': False, 'beaumarchai': False, 'hrundi': False, 'memento': False, 'camelot': False, 'pocahonta': False, 'underwood': False, 'chock': False, 'unimpress': False, 'wholesom': False, 'surveil': False, 'philadelphia': False, 'oral': False, 'cutter': False, 'arni': False, 'skarsg': False, 'paralyz': False, 'rampl': False, 'bitchi': False, 'sorrow': False, 'shoddi': False, 'molest': False, 'usag': False, 'volum': False, 'opus': False, 'chaotic': False, 'manson': False, 'counsel': False, 'metropoli': False, 'warfar': False, 'agreement': False, 'cheezi': False, 'activist': False, 'jingl': False, 'burger': False, 'gregg': False, 'biolog': False, 'funki': False, 'madman': False, 'squander': False, 'rochon': False, 'gambler': False, 'arena': False, 'gugino': False, 'smear': False, 'refug': False, 'abstract': False, 'mason': False, 'orson': False, 'shelton': False, 'squirm': False, 'interfer': False, 'gusto': False, 'clockwork': False, 'crotch': False, 'sniper': False, 'heinlein': False, 'amnesia': False, 'ule': False, 'statur': False, 'parrot': False, 'dope': False, 'vacuous': False, 'monument': False, 'anthropologist': False, 'yoda': False, 'gerald': False, 'clarenc': False, 'panach': False, 'somber': False, 'muresan': False, 'loaf': False, 'lobbi': False, 'curv': False, 'cow': False, 'huston': False, 'loan': False, 'unarm': False, 'discount': False, 'doc': False, 'klingon': False, 'underdog': False, 'zinger': False, 'guru': False, 'retro': False, 'riotous': False, 'intoler': False, 'tint': False, 'angus': False, 'labour': False, 'overwrought': False, 'sane': False, 'blueprint': False, 'scowl': False, 'biker': False, 'marisa': False, 'helmer': False, 'whodunit': False, 'textbook': False, 'winkler': False, 'tatopoulo': False, 'unexcit': False, 'enliven': False, 'blink': False, 'bark': False, 'guin': False, 'bigalow': False, 'gigolo': False, 'montreal': False, 'somerset': False, 'hypocrit': False, 'mack': False, 'splatter': False, 'isl': False, '300': False, 'album': False, '1967': False, 'strawberri': False, 'peacemak': False, 'shriek': False, 'flaunt': False, 'firefight': False, 'despis': False, 'supervis': False, 'exil': False, 'dunaway': False, 'ballet': False, 'assumpt': False, 'testimoni': False, 'rake': False, 'lazard': False, 'unstopp': False, 'marg': False, 'arti': False, 'loggia': False, 'distrust': False, 'chester': False, 'theft': False, 'ski': False, 'can': False, 'switchback': False, 'ermey': False, 'savior': False, 'isabella': False, 'frontal': False, 'axe': False, 'taut': False, 'benni': False, 'economi': False, 'gough': False, 'quintessenti': False, 'siren': False, 'asylum': False, 'weller': False, 'caligula': False, 'chi': False, 'gail': False, 'stem': True, 'shawshank': False, 'fragil': False, 'crumbl': False, 'introspect': False, 'tread': False, 'raucous': False, 'raid': False, 'unfaith': False, 'stricken': False, 'bur': False, 'coward': False, 'counterpoint': False, 'amid': False, 'cann': False, 'doogi': False, 'glove': False, 'patton': False, 'muslim': False, 'soulless': False, 'septemb': False, 'fountain': False, 'bewar': False, 'escapist': False, 'epiphani': False, '1983': False, 'hatti': False, 'aka': False, 'juici': False, 'ari': False, 'buffalo': False, 'abli': False, 'correspond': False, 'surgeon': False, 'surfer': False, '90210': False, 'avid': False, 'anxieti': False, 'comprehens': False, 'audac': False, 'griev': False, 'unsympathet': False, 'trot': False, 'hatcher': False, 'butterfli': False, 'committe': False, 'beth': False, 'wasteland': False, 'forgiven': False, 'brunett': False, 'elena': False, 'intersect': False, 'voyeur': False, 'cigar': False, 'peet': False, 'hone': False, 'inquisit': False, 'evita': False, 'replet': False, 'cruz': False, 'titus': False, 'powerless': False, 'molina': False, 'laundri': False, 'jeffri': False, 'decenc': False, 'mcfarlan': False, 'daniell': False, 'pinnacl': False, 'supernova': False, 'bassett': False, 'underestim': False, 'mirren': False, 'unconsci': False, 'wheelchair': False, '1962': False, 'gunplay': False, 'skarsgard': False, 'classi': False, 'lofti': False, 'wallet': False, 'cryogen': False, 'kathryn': False, 'lunat': False, 'caption': False, 'voiceov': False, 'disconcert': False, 'tremor': False, 'sting': False, 'carrol': False, 'angelo': False, 'ferrel': False, '007': False, 'drum': False, 'malici': False, 'soften': False, 'grandson': False, 'freaki': False, 'tay': False, 'digg': False, 'platform': False, 'stein': False, 'housewif': False, 'stash': False, 'oddbal': False, 'wincott': False, 'successor': False, 'airlin': False, 'meek': False, 'caution': False, 'dissapoint': False, 'pilgrim': False, 'slogan': False, 'bowden': False, 'croni': False, 'chairman': False, 'tougher': False, 'bowi': False, 'poseidon': False, 'bujold': False, 'anxious': False, 'vacant': False, 'meter': False, 'plantat': False, 'katt': False, 'randal': False, 'orchestra': False, 'ulrich': False, 'grisli': False, 'laserdisc': False, 'scath': False, 'gangsta': False, 'masteri': False, 'carlo': False, 'timid': False, 'port': False, 'exposur': False, 'marco': False, 'whoopi': False, 'surrend': False, 'mcquarri': False, 'labyrinth': False, 'cohort': False, 'congo': False, 'finch': False, 'nichol': False, 'sheep': False, 'plunkett': False, 'organis': False, 'benefactor': False, 'elia': False, 'henson': False, 'kristen': False, 'harmon': False, 'composit': False, 'lefti': False, 'scarfac': False, 'disput': False, 'brick': False, 'rugrat': False, 'distraught': False, 'brit': False, 'tulip': False, 'escapad': False, 'dunst': False, 'nyah': False, 'sorcer': False, 'arraki': False, 'potato': False, 'sylvia': False, 'rec': False, 'butch': False, 'ronni': False, 'hurlybur': False, 'sarajevo': False, 'lesra': False, 'luhrmann': False, 'spillan': False, 'onlin': False, 'bias': False, 'india': False, 'reinvent': False, 'tampopo': False, 'hogarth': False, 'uncut': False, 'meryl': False, 'henderson': False, 'brean': False, 'joss': False, 'gretchen': False, 'mol': False, 'linney': False, 'lestat': False, 'alois': False, 'fanni': False, 'flanagan': False, 'shackleton': False, 'caraboo': False, 'bresson': False, 'lancelot': False, 'sorta': False, 'celin': False, 'undergo': False, 'asshol': False, 'aberdeen': False, 'overload': False, 'canyon': False, 'mogul': False, 'fella': False, 'asham': False, 'mantra': False, 'annihil': False, 'goro': False, 'specialist': False, 'emotionless': False, 'schroeder': False, 'shootout': False, 'frivol': False, 'crank': False, 'jumbo': False, 'fay': False, 'benevol': False, 'deton': False, 'relianc': False, 'massachusett': False, 'hark': False, 'aggrav': False, 'dandi': False, 'koepp': False, 'postur': False, 'reconcili': False, 'edgar': False, 'breakup': False, 'dynamit': False, 'narcot': False, 'immun': False, 'congratul': False, 'waltz': False, 'incredul': False, 'fur': False, 'shaken': False, 'coax': False, '1976': False, '1982': False, 'chariot': False, 'dolbi': False, 'stoner': False, 'stroll': False, 'disciplin': False, 'schooler': False, 'miner': False, 'troup': False, 'mitchum': False, 'merri': False, 'bereng': False, 'commonplac': False, 'shepard': False, 'leele': False, 'zest': False, 'whoop': False, 'bard': False, 'dam': False, 'gunfir': False, 'myriad': False, 'invigor': False, 'firestorm': False, 'discourag': False, 'sydney': False, 'endeavor': False, 'ineffectu': False, 'dwarf': False, 'mismatch': False, 'lawn': False, 'ineptitud': False, 'cough': False, 'bombast': False, 'orchestr': False, 'sizemor': False, 'stealer': False, 'formid': False, 'mesh': False, 'grind': False, 'shini': False, 'russ': False, 'circuit': False, 'junket': False, 'thou': False, 'supercop': False, 'fee': False, 'nari': False, 'user': False, 'shawn': False, 'rework': False, 'aisl': False, 'wallow': False, 'kinki': False, 'traumat': False, 'trusti': False, 'clay': False, 'accustom': False, 'unmistak': False, 'aircraft': False, 'sharpli': False, 'bin': False, 'skeleton': False, 'cater': False, 'raoul': False, 'piper': False, 'wari': False, 'roam': False, 'bishop': False, 'juan': False, 'readili': False, 'percentag': False, 'brag': False, 'protector': False, 'demean': False, 'ado': False, 'jolli': False, 'homeless': False, 'eleven': False, 'farina': False, 'keith': False, 'unnam': False, 'lerner': False, 'instructor': False, 'fling': False, 'sadden': False, 'detest': False, 'quinlan': False, 'insignific': False, 'latin': False, 'steadili': False, 'pursuer': False, 'kara': False, 'selena': False, 'sock': False, 'artifact': False, 'goldsman': False, 'dodg': False, 'medak': False, 'feldman': False, 'stitch': False, 'hybrid': False, 'skimpi': False, 'chaplin': False, 'uncredit': False, 'goate': False, 'synch': False, 'yank': False, 'audit': False, 'witt': False, 'loner': False, 'pout': False, 'bernstein': False, 'lest': False, 'sarcasm': False, 'disapprov': False, 'delay': False, 'isaac': False, 'exuber': False, 'consol': False, 'talki': False, 'landmark': False, 'motley': False, 'bodili': False, 'unorthodox': False, 'penelop': False, 'skyscrap': False, 'frenet': False, 'uncar': False, 'vamp': False, 'guinea': False, 'tedium': False, 'abras': False, 'bucket': False, 'wayland': False, 'vapid': False, 'licens': False, 'pond': False, 'marcus': False, '1974': False, 'reiner': False, 'thai': False, 'stow': False, 'saccharin': False, 'patriarch': False, 'pole': False, 'pledg': False, 'fractur': False, 'chen': False, 'forg': False, 'bello': False, 'idioci': False, 'testosteron': False, 'zorro': False, 'harass': False, 'holland': False, 'analog': False, 'anita': False, 'intellect': False, 'barbi': False, 'butterworth': False, 'hoggett': False, 'screwbal': False, 'giamatti': False, 'patrol': False, 'schaech': False, 'bribe': False, 'glenda': False, 'mississippi': False, 'hutton': False, 'tout': False, 'sap': False, 'snappi': False, 'chevi': False, 'proxi': False, 'acrobat': False, 'deviat': False, 'parson': False, 'repress': False, 'rack': False, 'orgasm': False, 'cart': False, 'flare': False, 'accomplic': False, 'burk': False, 'segal': False, 'teammat': False, 'demi': False, 'circa': False, 'cutesi': False, 'forman': False, 'tide': False, 'wigand': False, 'sought': False, 'slayer': False, 'upstair': False, 'oftentim': False, 'nitro': False, 'feisti': False, 'amish': False, 'tan': False, 'mislead': False, 'unger': False, 'misogynist': False, 'handicap': False, 'disillus': False, 'reshoot': False, 'stillman': False, 'prowess': False, 'cellular': False, 'benson': False, 'void': False, 'visitor': False, 'stain': False, 'architect': False, 'kinski': False, 'journal': False, 'gunfight': False, 'antidot': False, 'belushi': False, 'systemat': False, 'excerpt': False, 'valmont': False, 'juda': False, 'hartman': False, 'slum': False, 'rigid': False, 'tee': False, 'verhoven': False, 'jasmin': False, 'mew': False, 'seann': False, 'painstak': False, 'misplac': False, 'demm': False, 'strangl': False, 'hodg': False, 'versa': False, 'courteney': False, 'gloss': False, 'thanksgiv': False, 'allegori': False, 'kieslowski': False, 'yup': False, 'borderlin': False, 'britain': False, 'eerili': False, 'kinet': False, 'bind': False, 'quicki': False, 'rudd': False, 'occup': False, 'ufo': False, 'perplex': False, 'diminish': False, 'stoltz': False, 'prescott': False, 'posey': False, 'someday': False, 'milla': False, 'devilish': False, 'spine': False, 'exemplifi': False, 'fold': False, 'invinc': False, 'unexplain': False, 'snob': False, 'sprite': False, 'outsmart': False, 'sham': False, 'quartet': False, 'deborah': False, 'masquerad': False, 'masturb': False, 'bess': False, 'matheson': False, 'rumour': False, 'darlen': False, 'fletcher': False, 'mommi': False, 'condom': False, 'preval': False}\n"
     ]
    }
   ],
   "source": [
    "print(featuresets[0][0])"
   ]
  },
  {
   "cell_type": "markdown",
   "metadata": {},
   "source": [
    "<h1>devide training and testing dataset in 90:10 ratio </h1>"
   ]
  },
  {
   "cell_type": "code",
   "execution_count": 46,
   "metadata": {},
   "outputs": [],
   "source": [
    "train_length=int(len(featuresets)*.90)"
   ]
  },
  {
   "cell_type": "code",
   "execution_count": 47,
   "metadata": {},
   "outputs": [],
   "source": [
    "training_set = featuresets[:train_length]\n",
    "testing_set = featuresets[train_length:]"
   ]
  },
  {
   "cell_type": "markdown",
   "metadata": {},
   "source": [
    "<h1>Apply NaiveBayesClassifier on training set</h1>"
   ]
  },
  {
   "cell_type": "code",
   "execution_count": 48,
   "metadata": {},
   "outputs": [],
   "source": [
    "classifier = nltk.NaiveBayesClassifier.train(training_set)"
   ]
  },
  {
   "cell_type": "markdown",
   "metadata": {},
   "source": [
    "<h1>seperate target label from testing set</h1>"
   ]
  },
  {
   "cell_type": "code",
   "execution_count": 49,
   "metadata": {},
   "outputs": [],
   "source": [
    "testing_set_content=[i[0] for i in testing_set]\n",
    "golden_label=[i[1] for i in testing_set]"
   ]
  },
  {
   "cell_type": "markdown",
   "metadata": {},
   "source": [
    "<h1>Predict testset</h1>"
   ]
  },
  {
   "cell_type": "code",
   "execution_count": 50,
   "metadata": {},
   "outputs": [],
   "source": [
    "tested_label=classifier.classify_many(testing_set_content)"
   ]
  },
  {
   "cell_type": "markdown",
   "metadata": {},
   "source": [
    "<h1>Check Performence</h1>"
   ]
  },
  {
   "cell_type": "markdown",
   "metadata": {},
   "source": [
    "<h1>Accuracy</h1>"
   ]
  },
  {
   "cell_type": "code",
   "execution_count": 51,
   "metadata": {},
   "outputs": [
    {
     "data": {
      "text/plain": [
       "83.25"
      ]
     },
     "execution_count": 51,
     "metadata": {},
     "output_type": "execute_result"
    }
   ],
   "source": [
    "nltk.classify.accuracy(classifier, testing_set)*100"
   ]
  },
  {
   "cell_type": "markdown",
   "metadata": {},
   "source": [
    "<h1>Confusion Matrix</h1>"
   ]
  },
  {
   "cell_type": "code",
   "execution_count": 52,
   "metadata": {},
   "outputs": [],
   "source": [
    "cm = confusion_matrix(golden_label, tested_label) "
   ]
  },
  {
   "cell_type": "code",
   "execution_count": 53,
   "metadata": {},
   "outputs": [
    {
     "name": "stdout",
     "output_type": "stream",
     "text": [
      "[[161  16]\n",
      " [ 51 172]]\n"
     ]
    }
   ],
   "source": [
    "print(cm)"
   ]
  },
  {
   "cell_type": "markdown",
   "metadata": {},
   "source": [
    "<h1>Precision</h1>"
   ]
  },
  {
   "cell_type": "code",
   "execution_count": 54,
   "metadata": {},
   "outputs": [
    {
     "data": {
      "text/plain": [
       "0.8461027197912485"
      ]
     },
     "execution_count": 54,
     "metadata": {},
     "output_type": "execute_result"
    }
   ],
   "source": [
    "precision_score(golden_label, tested_label,average='weighted')"
   ]
  },
  {
   "cell_type": "markdown",
   "metadata": {},
   "source": [
    "<h1>Recall</h1>"
   ]
  },
  {
   "cell_type": "code",
   "execution_count": 55,
   "metadata": {},
   "outputs": [
    {
     "data": {
      "text/plain": [
       "0.8325"
      ]
     },
     "execution_count": 55,
     "metadata": {},
     "output_type": "execute_result"
    }
   ],
   "source": [
    "recall_score(golden_label, tested_label,average='weighted')"
   ]
  },
  {
   "cell_type": "markdown",
   "metadata": {},
   "source": [
    "<h1>F1-Score</h3>"
   ]
  },
  {
   "cell_type": "code",
   "execution_count": 56,
   "metadata": {},
   "outputs": [
    {
     "data": {
      "text/plain": [
       "0.8329033519098821"
      ]
     },
     "execution_count": 56,
     "metadata": {},
     "output_type": "execute_result"
    }
   ],
   "source": [
    "f1_score(golden_label, tested_label,average='weighted')"
   ]
  },
  {
   "cell_type": "markdown",
   "metadata": {},
   "source": [
    "<h3>Important Features as per this model</h3>"
   ]
  },
  {
   "cell_type": "code",
   "execution_count": 57,
   "metadata": {},
   "outputs": [
    {
     "name": "stdout",
     "output_type": "stream",
     "text": [
      "Most Informative Features\n",
      "                  predat = True              neg : pos    =     18.5 : 1.0\n",
      "                  annual = True              pos : neg    =     16.8 : 1.0\n",
      "                 incoher = True              neg : pos    =     16.6 : 1.0\n",
      "                    plod = True              neg : pos    =     14.6 : 1.0\n",
      "                  ballad = True              pos : neg    =     14.0 : 1.0\n",
      "               behaviour = True              pos : neg    =     14.0 : 1.0\n",
      "                    lore = True              pos : neg    =     14.0 : 1.0\n",
      "              silverston = True              neg : pos    =     14.0 : 1.0\n",
      "                  atroci = True              neg : pos    =     13.5 : 1.0\n",
      "             overwrought = True              neg : pos    =     13.3 : 1.0\n",
      "                    3000 = True              neg : pos    =     12.3 : 1.0\n",
      "                astronom = True              pos : neg    =     12.0 : 1.0\n",
      "                    hatr = True              pos : neg    =     11.7 : 1.0\n",
      "                  misfir = True              neg : pos    =     11.5 : 1.0\n",
      "               ineffectu = True              neg : pos    =     11.4 : 1.0\n",
      "                 ideolog = True              pos : neg    =     11.3 : 1.0\n",
      "                seamless = True              pos : neg    =     11.0 : 1.0\n",
      "                    arti = True              neg : pos    =     10.7 : 1.0\n",
      "                  hudson = True              neg : pos    =     10.7 : 1.0\n",
      "               underwood = True              neg : pos    =     10.7 : 1.0\n",
      "                   grain = True              pos : neg    =     10.6 : 1.0\n",
      "                   mulan = True              pos : neg    =     10.5 : 1.0\n",
      "                 winslet = True              pos : neg    =     10.1 : 1.0\n",
      "                  ludicr = True              neg : pos    =      9.9 : 1.0\n",
      "                 gunplay = True              pos : neg    =      9.9 : 1.0\n",
      "               skarsgard = True              pos : neg    =      9.9 : 1.0\n",
      "                 excruci = True              neg : pos    =      9.9 : 1.0\n",
      "                    gump = True              pos : neg    =      9.6 : 1.0\n",
      "                incredul = True              neg : pos    =      9.4 : 1.0\n",
      "                outstand = True              pos : neg    =      9.4 : 1.0\n",
      "                  finest = True              pos : neg    =      9.4 : 1.0\n",
      "                    scum = True              pos : neg    =      9.2 : 1.0\n",
      "                  bandit = True              pos : neg    =      9.2 : 1.0\n",
      "                pfeiffer = True              pos : neg    =      9.2 : 1.0\n",
      "                  themat = True              pos : neg    =      9.0 : 1.0\n",
      "                  denial = True              pos : neg    =      8.8 : 1.0\n",
      "                  eschew = True              pos : neg    =      8.8 : 1.0\n",
      "                     bio = True              neg : pos    =      8.8 : 1.0\n",
      "                   illog = True              neg : pos    =      8.8 : 1.0\n",
      "                    keen = True              pos : neg    =      8.6 : 1.0\n",
      "                    deft = True              pos : neg    =      8.5 : 1.0\n",
      "                 exhilar = True              pos : neg    =      8.4 : 1.0\n",
      "                   coyot = True              neg : pos    =      8.4 : 1.0\n",
      "                   feebl = True              neg : pos    =      8.4 : 1.0\n",
      "                   rabid = True              neg : pos    =      8.4 : 1.0\n",
      "                   poker = True              pos : neg    =      8.4 : 1.0\n",
      "               strongest = True              pos : neg    =      8.4 : 1.0\n",
      "                  seagal = True              neg : pos    =      8.3 : 1.0\n",
      "               breathtak = True              pos : neg    =      8.3 : 1.0\n",
      "                 insipid = True              neg : pos    =      8.1 : 1.0\n",
      "                   ermey = True              neg : pos    =      8.1 : 1.0\n",
      "                   modin = True              neg : pos    =      8.1 : 1.0\n",
      "                  affirm = True              pos : neg    =      8.0 : 1.0\n",
      "                    jule = True              pos : neg    =      8.0 : 1.0\n",
      "                  soviet = True              pos : neg    =      8.0 : 1.0\n",
      "                   abysm = True              neg : pos    =      8.0 : 1.0\n",
      "                furnitur = True              neg : pos    =      8.0 : 1.0\n",
      "                 stinker = True              neg : pos    =      8.0 : 1.0\n",
      "                  crappi = True              neg : pos    =      7.6 : 1.0\n",
      "                   croni = True              pos : neg    =      7.6 : 1.0\n",
      "                hawthorn = True              pos : neg    =      7.6 : 1.0\n",
      "                  honour = True              pos : neg    =      7.6 : 1.0\n",
      "                    jude = True              pos : neg    =      7.6 : 1.0\n",
      "                  osment = True              pos : neg    =      7.6 : 1.0\n",
      "                   pixar = True              pos : neg    =      7.6 : 1.0\n",
      "                guardian = True              pos : neg    =      7.5 : 1.0\n",
      "                schumach = True              neg : pos    =      7.3 : 1.0\n",
      "                eszterha = True              neg : pos    =      7.2 : 1.0\n",
      "                    mena = True              neg : pos    =      7.2 : 1.0\n",
      "                  shoddi = True              neg : pos    =      7.2 : 1.0\n",
      "                squander = True              neg : pos    =      7.2 : 1.0\n",
      "                  suvari = True              neg : pos    =      7.2 : 1.0\n",
      "                   elmor = True              pos : neg    =      7.2 : 1.0\n",
      "                endeavor = True              pos : neg    =      7.2 : 1.0\n",
      "                 predica = True              pos : neg    =      7.2 : 1.0\n",
      "                    tide = True              pos : neg    =      7.2 : 1.0\n",
      "                   venic = True              pos : neg    =      7.2 : 1.0\n",
      "                uninvolv = True              neg : pos    =      7.2 : 1.0\n",
      "                   dangl = True              neg : pos    =      7.1 : 1.0\n",
      "                  alicia = True              neg : pos    =      7.0 : 1.0\n",
      "                    taxi = True              pos : neg    =      7.0 : 1.0\n",
      "                  imperi = True              pos : neg    =      6.9 : 1.0\n",
      "               ineptitud = True              neg : pos    =      6.8 : 1.0\n",
      "                     ivi = True              neg : pos    =      6.8 : 1.0\n",
      "                    juic = True              neg : pos    =      6.8 : 1.0\n",
      "                    rack = True              neg : pos    =      6.8 : 1.0\n",
      "                  skimpi = True              neg : pos    =      6.8 : 1.0\n",
      "                   vapid = True              neg : pos    =      6.8 : 1.0\n",
      "                     cun = True              pos : neg    =      6.8 : 1.0\n",
      "                   flynt = True              pos : neg    =      6.8 : 1.0\n",
      "                    moss = True              pos : neg    =      6.8 : 1.0\n",
      "                  elliot = True              pos : neg    =      6.7 : 1.0\n",
      "              lightheart = True              pos : neg    =      6.7 : 1.0\n",
      "                  immers = True              pos : neg    =      6.7 : 1.0\n",
      "                  darker = True              pos : neg    =      6.5 : 1.0\n",
      "                 offbeat = True              pos : neg    =      6.4 : 1.0\n",
      "                  tribut = True              pos : neg    =      6.4 : 1.0\n",
      "               bruckheim = True              neg : pos    =      6.4 : 1.0\n",
      "                   jumbo = True              neg : pos    =      6.4 : 1.0\n",
      "                     liu = True              neg : pos    =      6.4 : 1.0\n"
     ]
    }
   ],
   "source": [
    "classifier.show_most_informative_features(100)"
   ]
  },
  {
   "cell_type": "code",
   "execution_count": null,
   "metadata": {},
   "outputs": [],
   "source": []
  },
  {
   "cell_type": "markdown",
   "metadata": {},
   "source": [
    "<h1>Random Forest Classifier</h1>"
   ]
  },
  {
   "cell_type": "code",
   "execution_count": 58,
   "metadata": {},
   "outputs": [
    {
     "name": "stdout",
     "output_type": "stream",
     "text": [
      "(['film', 'magnolia', 'compar', 'simpl', 'flower', 'titl', 'movi', 'poster', 'suggest', 'dozen', 'charact', 'introduc', 'develop', 'like', 'petal', 'flower', 'come', 'stem', 'flower', 'begin', 'develop', 'grow', 'farther', 'farther', 'apart', 'numer', 'charact', 'film', 'close', 'connect', 'matter', 'differ', 'one', 'anoth', 'social', 'humili', 'kind', 'cop', 'age', 'game', 'show', 'host', 'one', 'charact', 'suffer', 'kind', 'pain', 'serious', 'lone', 'seek', 'perfect', 'companion', 'end', 'loneli', 'whether', 'companion', 'distant', 'famili', 'member', 'spous', 'charact', 'beg', 'one', 'spend', 'whole', 'film', 'search', 'perfect', 'one', 'magnolia', 'clever', 'well', 'thought', 'film', 'prodigi', 'director', 'writer', 'paul', 'thoma', 'anderson', 'boogi', 'night', 'fame', 'detail', 'charact', 'analys', 'power', 'script', 'make', 'magnolia', 'memor', 'howev', 'realli', 'impress', 'even', 'though', 'ton', 'charact', 'sever', 'unrel', 'stori', 'film', 'never', 'confus', 'anderson', 'control', 'transit', 'one', 'stori', 'anoth', 'stori', 'master', 'also', 'know', 'exact', 'cut', 'anoth', 'subplot', 'sinc', 'not', 'one', 'magnolia', 'scene', 'drag', 'long', 'three', 'hour', 'film', 'not', 'deliv', 'even', 'one', 'uninterest', 'scene', 'definit', 'worth', 'recommend', 'fascin', 'begin', 'riski', 'yet', 'surpris', 'satisfi', 'end', 'film', 'get', 'bore', 'obvious', 'anderson', 'put', 'lot', 'time', 'connect', 'subplot', 'ultim', 'game', 'six', 'degre', 'separ', 'everi', 'charact', 'connect', 'everi', 'charact', 'two', 'degre', 'exampl', 'cop', 'john', 'reilli', 'connect', 'game', 'show', 'host', 'phillip', 'baker', 'hall', 'hall', 'daughter', 'melora', 'walter', 'went', 'date', 'reilli', 'fact', 'charact', 'differ', 'other', 'yet', 'similar', 'show', 'univers', 'pain', 'class', 'race', 'gender', 'suffer', 'anderson', 'explan', 'prove', 'point', 'accur', 'convinc', 'mistak', 'anderson', 'made', 'tri', 'connect', 'charact', 'make', 'actor', 'sing', 'aime', 'mann', 'song', 'simultan', 'foolish', 'not', 'unbeliev', 'hilari', 'erron', 'also', 'broadway', 'music', 'feel', 'movi', 'far', 'apart', 'typic', 'broadway', 'music', 'get', 'perform', 'magnolia', 'perfect', 'classic', 'exampl', 'flawless', 'cast', 'flawless', 'ensembl', 'act', 'anderson', 'allow', 'mani', 'hollywood', 'best', 'support', 'actor', 'blossom', 'best', 'charact', 'act', 'main', 'charact', 'stori', 'perfect', 'abl', 'reveal', 'emot', 'attitud', 'brief', 'time', 'screen', 'movi', 'star', 'featur', 'length', 'film', 'worth', 'note', 'tom', 'cruis', 'step', 'usual', 'superfici', 'star', 'role', 'funni', 'depress', 'tour', 'forc', 'perform', 'probabl', 'notic', 'actor', 'film', 'award', 'giver', 'role', 'much', 'differ', 'impress', 'past', 'howev', 'actor', 'film', 'could', 'nomin', 'best', 'support', 'actor', 'without', 'complaint', 'problem', 'act', 'charact', 'felt', 'serious', 'edit', 'melinda', 'dillon', 'charact', 'phillip', 'baker', 'hall', 'wife', 'seem', 'thrown', 'toward', 'end', 'felt', 'littl', 'sympathi', 'not', 'seen', 'enough', 'earlier', 'film', 'magnolia', 'use', 'sever', 'effect', 'metaphor', 'describ', 'charact', 'anderson', 'talent', 'make', 'audienc', 'sympathet', 'toward', 'numer', 'peopl', 'hour', 'see', 'anderson', 'abl', 'perfect', 'portray', 'mani', 'differ', 'type', 'peopl', 'show', 'keen', 'sens', 'divers', 'divers', 'make', 'director', 'success', 'long', 'period', 'time', 'predict', 'lot', 'divers', 'success', 'anderson', 'futur'], 'pos')\n"
     ]
    }
   ],
   "source": [
    "print(cleaned_documents[0])"
   ]
  },
  {
   "cell_type": "markdown",
   "metadata": {},
   "source": [
    "<h1>try combining all the word tokens. we are doing so because scikit learn TF-IDF and Count vectrizer accepts data in this format only</h1>"
   ]
  },
  {
   "cell_type": "code",
   "execution_count": 59,
   "metadata": {},
   "outputs": [
    {
     "data": {
      "text/plain": [
       "'film magnolia compar simpl flower titl movi poster suggest dozen charact introduc develop like petal flower come stem flower begin develop grow farther farther apart numer charact film close connect matter differ one anoth social humili kind cop age game show host one charact suffer kind pain serious lone seek perfect companion end loneli whether companion distant famili member spous charact beg one spend whole film search perfect one magnolia clever well thought film prodigi director writer paul thoma anderson boogi night fame detail charact analys power script make magnolia memor howev realli impress even though ton charact sever unrel stori film never confus anderson control transit one stori anoth stori master also know exact cut anoth subplot sinc not one magnolia scene drag long three hour film not deliv even one uninterest scene definit worth recommend fascin begin riski yet surpris satisfi end film get bore obvious anderson put lot time connect subplot ultim game six degre separ everi charact connect everi charact two degre exampl cop john reilli connect game show host phillip baker hall hall daughter melora walter went date reilli fact charact differ other yet similar show univers pain class race gender suffer anderson explan prove point accur convinc mistak anderson made tri connect charact make actor sing aime mann song simultan foolish not unbeliev hilari erron also broadway music feel movi far apart typic broadway music get perform magnolia perfect classic exampl flawless cast flawless ensembl act anderson allow mani hollywood best support actor blossom best charact act main charact stori perfect abl reveal emot attitud brief time screen movi star featur length film worth note tom cruis step usual superfici star role funni depress tour forc perform probabl notic actor film award giver role much differ impress past howev actor film could nomin best support actor without complaint problem act charact felt serious edit melinda dillon charact phillip baker hall wife seem thrown toward end felt littl sympathi not seen enough earlier film magnolia use sever effect metaphor describ charact anderson talent make audienc sympathet toward numer peopl hour see anderson abl perfect portray mani differ type peopl show keen sens divers divers make director success long period time predict lot divers success anderson futur'"
      ]
     },
     "execution_count": 59,
     "metadata": {},
     "output_type": "execute_result"
    }
   ],
   "source": [
    "\" \".join(cleaned_documents[0][0])"
   ]
  },
  {
   "cell_type": "code",
   "execution_count": 60,
   "metadata": {},
   "outputs": [],
   "source": [
    "review_text_list=[]\n",
    "label=[]\n",
    "\n",
    "random.shuffle(cleaned_documents)\n",
    "\n",
    "for d,cat in cleaned_documents:\n",
    "    review_text_list.append(\" \".join(d))\n",
    "    if(cat=='neg'):\n",
    "        label.append(1)\n",
    "    else:\n",
    "        label.append(0)\n",
    "    "
   ]
  },
  {
   "cell_type": "code",
   "execution_count": 61,
   "metadata": {},
   "outputs": [
    {
     "data": {
      "text/plain": [
       "4000"
      ]
     },
     "execution_count": 61,
     "metadata": {},
     "output_type": "execute_result"
    }
   ],
   "source": [
    "len(review_text_list)"
   ]
  },
  {
   "cell_type": "markdown",
   "metadata": {},
   "source": [
    "<h1>split in 90:10 ratio</h1>"
   ]
  },
  {
   "cell_type": "code",
   "execution_count": 62,
   "metadata": {},
   "outputs": [],
   "source": [
    "train_X=review_text_list[:train_length]\n",
    "train_Y=label[:train_length]\n",
    "test_X=review_text_list[train_length:]\n",
    "test_Y=label[train_length:]"
   ]
  },
  {
   "cell_type": "code",
   "execution_count": 63,
   "metadata": {},
   "outputs": [
    {
     "data": {
      "text/plain": [
       "{0, 1}"
      ]
     },
     "execution_count": 63,
     "metadata": {},
     "output_type": "execute_result"
    }
   ],
   "source": [
    "set(train_Y)"
   ]
  },
  {
   "cell_type": "markdown",
   "metadata": {},
   "source": [
    "<h1>Apply BI-Gram BOW on review text to covert them in numeric form</h1>"
   ]
  },
  {
   "cell_type": "code",
   "execution_count": 64,
   "metadata": {},
   "outputs": [],
   "source": [
    "count_vect = CountVectorizer(ngram_range=(1,2)) #in scikit-learn\n",
    "vect = count_vect.fit(review_text_list) \n",
    "train_xx=vect.transform(train_X)\n",
    "test_xx=vect.transform(test_X)"
   ]
  },
  {
   "cell_type": "code",
   "execution_count": 65,
   "metadata": {},
   "outputs": [],
   "source": [
    "clf = RandomForestClassifier()"
   ]
  },
  {
   "cell_type": "code",
   "execution_count": 66,
   "metadata": {},
   "outputs": [
    {
     "data": {
      "text/plain": [
       "RandomForestClassifier()"
      ]
     },
     "execution_count": 66,
     "metadata": {},
     "output_type": "execute_result"
    }
   ],
   "source": [
    "clf.fit(train_xx,train_Y)"
   ]
  },
  {
   "cell_type": "code",
   "execution_count": 67,
   "metadata": {},
   "outputs": [],
   "source": [
    "pred=clf.predict(test_xx)"
   ]
  },
  {
   "cell_type": "code",
   "execution_count": 68,
   "metadata": {},
   "outputs": [
    {
     "name": "stdout",
     "output_type": "stream",
     "text": [
      "[[191   4]\n",
      " [ 10 195]]\n"
     ]
    }
   ],
   "source": [
    "cm = confusion_matrix(pred, test_Y) \n",
    "print(cm)"
   ]
  },
  {
   "cell_type": "code",
   "execution_count": 69,
   "metadata": {},
   "outputs": [
    {
     "data": {
      "text/plain": [
       "0.965"
      ]
     },
     "execution_count": 69,
     "metadata": {},
     "output_type": "execute_result"
    }
   ],
   "source": [
    "accuracy_score(pred,test_Y)"
   ]
  },
  {
   "cell_type": "code",
   "execution_count": 70,
   "metadata": {},
   "outputs": [
    {
     "data": {
      "text/plain": [
       "0.9654240150093808"
      ]
     },
     "execution_count": 70,
     "metadata": {},
     "output_type": "execute_result"
    }
   ],
   "source": [
    "precision_score(test_Y, pred,average='weighted')"
   ]
  },
  {
   "cell_type": "code",
   "execution_count": 71,
   "metadata": {},
   "outputs": [
    {
     "data": {
      "text/plain": [
       "0.965"
      ]
     },
     "execution_count": 71,
     "metadata": {},
     "output_type": "execute_result"
    }
   ],
   "source": [
    "recall_score(test_Y, pred,average='weighted')"
   ]
  },
  {
   "cell_type": "code",
   "execution_count": 72,
   "metadata": {},
   "outputs": [
    {
     "data": {
      "text/plain": [
       "0.9649947494749475"
      ]
     },
     "execution_count": 72,
     "metadata": {},
     "output_type": "execute_result"
    }
   ],
   "source": [
    "f1_score(test_Y, pred,average='weighted')"
   ]
  },
  {
   "cell_type": "markdown",
   "metadata": {},
   "source": [
    "<h1>Use Bigram TF-IDF and Random Forest Classifier</h1>"
   ]
  },
  {
   "cell_type": "code",
   "execution_count": 73,
   "metadata": {},
   "outputs": [],
   "source": [
    "tf_idf_vect = TfidfVectorizer(ngram_range=(1,2))\n",
    "final_tf_idf = tf_idf_vect.fit_transform(review_text_list)"
   ]
  },
  {
   "cell_type": "code",
   "execution_count": 74,
   "metadata": {},
   "outputs": [
    {
     "data": {
      "text/plain": [
       "(4000, 506808)"
      ]
     },
     "execution_count": 74,
     "metadata": {},
     "output_type": "execute_result"
    }
   ],
   "source": [
    "final_tf_idf.get_shape()"
   ]
  },
  {
   "cell_type": "code",
   "execution_count": 75,
   "metadata": {},
   "outputs": [],
   "source": [
    "train_X=final_tf_idf[:train_length]\n",
    "train_Y=label[:train_length]\n",
    "test_X=final_tf_idf[train_length:]\n",
    "test_Y=label[train_length:]"
   ]
  },
  {
   "cell_type": "code",
   "execution_count": 76,
   "metadata": {},
   "outputs": [
    {
     "data": {
      "text/plain": [
       "RandomForestClassifier()"
      ]
     },
     "execution_count": 76,
     "metadata": {},
     "output_type": "execute_result"
    }
   ],
   "source": [
    "clf = RandomForestClassifier()\n",
    "clf.fit(train_xx,train_Y)"
   ]
  },
  {
   "cell_type": "code",
   "execution_count": 77,
   "metadata": {},
   "outputs": [],
   "source": [
    "pred=clf.predict(test_xx)"
   ]
  },
  {
   "cell_type": "markdown",
   "metadata": {},
   "source": [
    "<h3>Accuracy</h3>"
   ]
  },
  {
   "cell_type": "code",
   "execution_count": 78,
   "metadata": {},
   "outputs": [
    {
     "data": {
      "text/plain": [
       "0.97"
      ]
     },
     "execution_count": 78,
     "metadata": {},
     "output_type": "execute_result"
    }
   ],
   "source": [
    "accuracy_score(test_Y,pred)"
   ]
  },
  {
   "cell_type": "markdown",
   "metadata": {},
   "source": [
    "<h3>precision</h3>"
   ]
  },
  {
   "cell_type": "code",
   "execution_count": 80,
   "metadata": {},
   "outputs": [
    {
     "data": {
      "text/plain": [
       "0.9701910429846715"
      ]
     },
     "execution_count": 80,
     "metadata": {},
     "output_type": "execute_result"
    }
   ],
   "source": [
    "precision_score(test_Y, pred,average='weighted')"
   ]
  },
  {
   "cell_type": "markdown",
   "metadata": {},
   "source": [
    "<h3>Recall</h3>"
   ]
  },
  {
   "cell_type": "code",
   "execution_count": 81,
   "metadata": {},
   "outputs": [
    {
     "data": {
      "text/plain": [
       "0.97"
      ]
     },
     "execution_count": 81,
     "metadata": {},
     "output_type": "execute_result"
    }
   ],
   "source": [
    "recall_score(test_Y, pred,average='weighted')"
   ]
  },
  {
   "cell_type": "markdown",
   "metadata": {},
   "source": [
    "<h3>F1-Score</h3>"
   ]
  },
  {
   "cell_type": "code",
   "execution_count": 82,
   "metadata": {},
   "outputs": [
    {
     "data": {
      "text/plain": [
       "0.9699984999624991"
      ]
     },
     "execution_count": 82,
     "metadata": {},
     "output_type": "execute_result"
    }
   ],
   "source": [
    "f1_score(test_Y, pred,average='weighted')"
   ]
  },
  {
   "cell_type": "markdown",
   "metadata": {},
   "source": [
    "<h3>Confusion Matrix</h3>"
   ]
  },
  {
   "cell_type": "code",
   "execution_count": 79,
   "metadata": {},
   "outputs": [
    {
     "name": "stdout",
     "output_type": "stream",
     "text": [
      "[[193   8]\n",
      " [  4 195]]\n"
     ]
    }
   ],
   "source": [
    "cm = confusion_matrix(test_Y,pred) \n",
    "print(cm)"
   ]
  },
  {
   "cell_type": "code",
   "execution_count": 83,
   "metadata": {},
   "outputs": [
    {
     "data": {
      "text/plain": [
       "506808"
      ]
     },
     "execution_count": 83,
     "metadata": {},
     "output_type": "execute_result"
    }
   ],
   "source": [
    "features = tf_idf_vect.get_feature_names()\n",
    "len(features)"
   ]
  },
  {
   "cell_type": "code",
   "execution_count": null,
   "metadata": {},
   "outputs": [],
   "source": []
  }
 ],
 "metadata": {
  "kernelspec": {
   "display_name": "Python 3",
   "language": "python",
   "name": "python3"
  },
  "language_info": {
   "codemirror_mode": {
    "name": "ipython",
    "version": 3
   },
   "file_extension": ".py",
   "mimetype": "text/x-python",
   "name": "python",
   "nbconvert_exporter": "python",
   "pygments_lexer": "ipython3",
   "version": "3.8.3"
  }
 },
 "nbformat": 4,
 "nbformat_minor": 4
}
